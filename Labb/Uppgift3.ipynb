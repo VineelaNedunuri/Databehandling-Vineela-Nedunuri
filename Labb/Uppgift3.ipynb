{
 "cells": [
  {
   "cell_type": "markdown",
   "metadata": {},
   "source": [
    "## KPI in Covid19\n",
    "   1.  Based on age groups the number of cases, deaths and intensive care patients in Sweden.\n",
    "   2.  On which date what region has registered highest number of cases.\n",
    "   3.  Number of deaths occured in each region of Sweden."
   ]
  },
  {
   "cell_type": "markdown",
   "metadata": {},
   "source": [
    "## # KPI 1:\n",
    "\n",
    "  - Read the data from corresponding sheet\n",
    "  - From different age groups data was collected\n",
    "  - Data is represented graphically"
   ]
  },
  {
   "cell_type": "code",
   "execution_count": 418,
   "metadata": {},
   "outputs": [
    {
     "data": {
      "text/html": [
       "<div>\n",
       "<style scoped>\n",
       "    .dataframe tbody tr th:only-of-type {\n",
       "        vertical-align: middle;\n",
       "    }\n",
       "\n",
       "    .dataframe tbody tr th {\n",
       "        vertical-align: top;\n",
       "    }\n",
       "\n",
       "    .dataframe thead th {\n",
       "        text-align: right;\n",
       "    }\n",
       "</style>\n",
       "<table border=\"1\" class=\"dataframe\">\n",
       "  <thead>\n",
       "    <tr style=\"text-align: right;\">\n",
       "      <th></th>\n",
       "      <th>Åldersgrupp</th>\n",
       "      <th>Totalt_antal_fall</th>\n",
       "      <th>Totalt_antal_intensivvårdade</th>\n",
       "      <th>Totalt_antal_avlidna</th>\n",
       "    </tr>\n",
       "  </thead>\n",
       "  <tbody>\n",
       "    <tr>\n",
       "      <th>0</th>\n",
       "      <td>Ålder_0_9</td>\n",
       "      <td>138071</td>\n",
       "      <td>109</td>\n",
       "      <td>17</td>\n",
       "    </tr>\n",
       "    <tr>\n",
       "      <th>1</th>\n",
       "      <td>Ålder_10_19</td>\n",
       "      <td>355823</td>\n",
       "      <td>101</td>\n",
       "      <td>9</td>\n",
       "    </tr>\n",
       "    <tr>\n",
       "      <th>2</th>\n",
       "      <td>Ålder_20_29</td>\n",
       "      <td>418506</td>\n",
       "      <td>285</td>\n",
       "      <td>41</td>\n",
       "    </tr>\n",
       "    <tr>\n",
       "      <th>3</th>\n",
       "      <td>Ålder_30_39</td>\n",
       "      <td>493443</td>\n",
       "      <td>492</td>\n",
       "      <td>71</td>\n",
       "    </tr>\n",
       "    <tr>\n",
       "      <th>4</th>\n",
       "      <td>Ålder_40_49</td>\n",
       "      <td>474702</td>\n",
       "      <td>997</td>\n",
       "      <td>172</td>\n",
       "    </tr>\n",
       "  </tbody>\n",
       "</table>\n",
       "</div>"
      ],
      "text/plain": [
       "   Åldersgrupp  Totalt_antal_fall  Totalt_antal_intensivvårdade  \\\n",
       "0    Ålder_0_9             138071                           109   \n",
       "1  Ålder_10_19             355823                           101   \n",
       "2  Ålder_20_29             418506                           285   \n",
       "3  Ålder_30_39             493443                           492   \n",
       "4  Ålder_40_49             474702                           997   \n",
       "\n",
       "   Totalt_antal_avlidna  \n",
       "0                    17  \n",
       "1                     9  \n",
       "2                    41  \n",
       "3                    71  \n",
       "4                   172  "
      ]
     },
     "execution_count": 418,
     "metadata": {},
     "output_type": "execute_result"
    }
   ],
   "source": [
    "import pandas as pd\n",
    "import plotly_express as px\n",
    "import numpy as np\n",
    "import seaborn as sns\n",
    "import matplotlib.pyplot as plt\n",
    "\n",
    "df = pd.read_excel(\"../Labb/Data/Covid19.xlsx\",sheet_name=\"Totalt antal per åldersgrupp\")  \n",
    "df.head()"
   ]
  },
  {
   "cell_type": "code",
   "execution_count": 419,
   "metadata": {},
   "outputs": [
    {
     "data": {
      "application/vnd.plotly.v1+json": {
       "config": {
        "plotlyServerURL": "https://plot.ly"
       },
       "data": [
        {
         "hovertemplate": "Covid19=Totalt_antal_fall<br>Age groups=%{x}<br>Population=%{y}<extra></extra>",
         "legendgroup": "Totalt_antal_fall",
         "line": {
          "color": "#636efa",
          "dash": "solid"
         },
         "marker": {
          "symbol": "circle"
         },
         "mode": "lines",
         "name": "Totalt_antal_fall",
         "orientation": "v",
         "showlegend": true,
         "type": "scatter",
         "x": [
          "Ålder_0_9",
          "Ålder_10_19",
          "Ålder_20_29",
          "Ålder_30_39",
          "Ålder_40_49",
          "Ålder_50_59",
          "Ålder_60_69",
          "Ålder_70_79",
          "Ålder_80_89",
          "Ålder_90_plus",
          "Uppgift saknas"
         ],
         "xaxis": "x",
         "y": [
          138071,
          355823,
          418506,
          493443,
          474702,
          378468,
          180079,
          87096,
          58170,
          26677,
          545
         ],
         "yaxis": "y"
        },
        {
         "hovertemplate": "Covid19=Totalt_antal_intensivvårdade<br>Age groups=%{x}<br>Population=%{y}<extra></extra>",
         "legendgroup": "Totalt_antal_intensivvårdade",
         "line": {
          "color": "#EF553B",
          "dash": "solid"
         },
         "marker": {
          "symbol": "circle"
         },
         "mode": "lines",
         "name": "Totalt_antal_intensivvårdade",
         "orientation": "v",
         "showlegend": true,
         "type": "scatter",
         "x": [
          "Ålder_0_9",
          "Ålder_10_19",
          "Ålder_20_29",
          "Ålder_30_39",
          "Ålder_40_49",
          "Ålder_50_59",
          "Ålder_60_69",
          "Ålder_70_79",
          "Ålder_80_89",
          "Ålder_90_plus",
          "Uppgift saknas"
         ],
         "xaxis": "x",
         "y": [
          109,
          101,
          285,
          492,
          997,
          1932,
          2595,
          2394,
          612,
          21,
          6
         ],
         "yaxis": "y"
        },
        {
         "hovertemplate": "Covid19=Totalt_antal_avlidna<br>Age groups=%{x}<br>Population=%{y}<extra></extra>",
         "legendgroup": "Totalt_antal_avlidna",
         "line": {
          "color": "#00cc96",
          "dash": "solid"
         },
         "marker": {
          "symbol": "circle"
         },
         "mode": "lines",
         "name": "Totalt_antal_avlidna",
         "orientation": "v",
         "showlegend": true,
         "type": "scatter",
         "x": [
          "Ålder_0_9",
          "Ålder_10_19",
          "Ålder_20_29",
          "Ålder_30_39",
          "Ålder_40_49",
          "Ålder_50_59",
          "Ålder_60_69",
          "Ålder_70_79",
          "Ålder_80_89",
          "Ålder_90_plus",
          "Uppgift saknas"
         ],
         "xaxis": "x",
         "y": [
          17,
          9,
          41,
          71,
          172,
          523,
          1422,
          4654,
          8326,
          5420,
          4
         ],
         "yaxis": "y"
        }
       ],
       "layout": {
        "legend": {
         "title": {
          "text": "Covid19"
         },
         "tracegroupgap": 0
        },
        "template": {
         "data": {
          "bar": [
           {
            "error_x": {
             "color": "#2a3f5f"
            },
            "error_y": {
             "color": "#2a3f5f"
            },
            "marker": {
             "line": {
              "color": "#E5ECF6",
              "width": 0.5
             },
             "pattern": {
              "fillmode": "overlay",
              "size": 10,
              "solidity": 0.2
             }
            },
            "type": "bar"
           }
          ],
          "barpolar": [
           {
            "marker": {
             "line": {
              "color": "#E5ECF6",
              "width": 0.5
             },
             "pattern": {
              "fillmode": "overlay",
              "size": 10,
              "solidity": 0.2
             }
            },
            "type": "barpolar"
           }
          ],
          "carpet": [
           {
            "aaxis": {
             "endlinecolor": "#2a3f5f",
             "gridcolor": "white",
             "linecolor": "white",
             "minorgridcolor": "white",
             "startlinecolor": "#2a3f5f"
            },
            "baxis": {
             "endlinecolor": "#2a3f5f",
             "gridcolor": "white",
             "linecolor": "white",
             "minorgridcolor": "white",
             "startlinecolor": "#2a3f5f"
            },
            "type": "carpet"
           }
          ],
          "choropleth": [
           {
            "colorbar": {
             "outlinewidth": 0,
             "ticks": ""
            },
            "type": "choropleth"
           }
          ],
          "contour": [
           {
            "colorbar": {
             "outlinewidth": 0,
             "ticks": ""
            },
            "colorscale": [
             [
              0,
              "#0d0887"
             ],
             [
              0.1111111111111111,
              "#46039f"
             ],
             [
              0.2222222222222222,
              "#7201a8"
             ],
             [
              0.3333333333333333,
              "#9c179e"
             ],
             [
              0.4444444444444444,
              "#bd3786"
             ],
             [
              0.5555555555555556,
              "#d8576b"
             ],
             [
              0.6666666666666666,
              "#ed7953"
             ],
             [
              0.7777777777777778,
              "#fb9f3a"
             ],
             [
              0.8888888888888888,
              "#fdca26"
             ],
             [
              1,
              "#f0f921"
             ]
            ],
            "type": "contour"
           }
          ],
          "contourcarpet": [
           {
            "colorbar": {
             "outlinewidth": 0,
             "ticks": ""
            },
            "type": "contourcarpet"
           }
          ],
          "heatmap": [
           {
            "colorbar": {
             "outlinewidth": 0,
             "ticks": ""
            },
            "colorscale": [
             [
              0,
              "#0d0887"
             ],
             [
              0.1111111111111111,
              "#46039f"
             ],
             [
              0.2222222222222222,
              "#7201a8"
             ],
             [
              0.3333333333333333,
              "#9c179e"
             ],
             [
              0.4444444444444444,
              "#bd3786"
             ],
             [
              0.5555555555555556,
              "#d8576b"
             ],
             [
              0.6666666666666666,
              "#ed7953"
             ],
             [
              0.7777777777777778,
              "#fb9f3a"
             ],
             [
              0.8888888888888888,
              "#fdca26"
             ],
             [
              1,
              "#f0f921"
             ]
            ],
            "type": "heatmap"
           }
          ],
          "heatmapgl": [
           {
            "colorbar": {
             "outlinewidth": 0,
             "ticks": ""
            },
            "colorscale": [
             [
              0,
              "#0d0887"
             ],
             [
              0.1111111111111111,
              "#46039f"
             ],
             [
              0.2222222222222222,
              "#7201a8"
             ],
             [
              0.3333333333333333,
              "#9c179e"
             ],
             [
              0.4444444444444444,
              "#bd3786"
             ],
             [
              0.5555555555555556,
              "#d8576b"
             ],
             [
              0.6666666666666666,
              "#ed7953"
             ],
             [
              0.7777777777777778,
              "#fb9f3a"
             ],
             [
              0.8888888888888888,
              "#fdca26"
             ],
             [
              1,
              "#f0f921"
             ]
            ],
            "type": "heatmapgl"
           }
          ],
          "histogram": [
           {
            "marker": {
             "pattern": {
              "fillmode": "overlay",
              "size": 10,
              "solidity": 0.2
             }
            },
            "type": "histogram"
           }
          ],
          "histogram2d": [
           {
            "colorbar": {
             "outlinewidth": 0,
             "ticks": ""
            },
            "colorscale": [
             [
              0,
              "#0d0887"
             ],
             [
              0.1111111111111111,
              "#46039f"
             ],
             [
              0.2222222222222222,
              "#7201a8"
             ],
             [
              0.3333333333333333,
              "#9c179e"
             ],
             [
              0.4444444444444444,
              "#bd3786"
             ],
             [
              0.5555555555555556,
              "#d8576b"
             ],
             [
              0.6666666666666666,
              "#ed7953"
             ],
             [
              0.7777777777777778,
              "#fb9f3a"
             ],
             [
              0.8888888888888888,
              "#fdca26"
             ],
             [
              1,
              "#f0f921"
             ]
            ],
            "type": "histogram2d"
           }
          ],
          "histogram2dcontour": [
           {
            "colorbar": {
             "outlinewidth": 0,
             "ticks": ""
            },
            "colorscale": [
             [
              0,
              "#0d0887"
             ],
             [
              0.1111111111111111,
              "#46039f"
             ],
             [
              0.2222222222222222,
              "#7201a8"
             ],
             [
              0.3333333333333333,
              "#9c179e"
             ],
             [
              0.4444444444444444,
              "#bd3786"
             ],
             [
              0.5555555555555556,
              "#d8576b"
             ],
             [
              0.6666666666666666,
              "#ed7953"
             ],
             [
              0.7777777777777778,
              "#fb9f3a"
             ],
             [
              0.8888888888888888,
              "#fdca26"
             ],
             [
              1,
              "#f0f921"
             ]
            ],
            "type": "histogram2dcontour"
           }
          ],
          "mesh3d": [
           {
            "colorbar": {
             "outlinewidth": 0,
             "ticks": ""
            },
            "type": "mesh3d"
           }
          ],
          "parcoords": [
           {
            "line": {
             "colorbar": {
              "outlinewidth": 0,
              "ticks": ""
             }
            },
            "type": "parcoords"
           }
          ],
          "pie": [
           {
            "automargin": true,
            "type": "pie"
           }
          ],
          "scatter": [
           {
            "fillpattern": {
             "fillmode": "overlay",
             "size": 10,
             "solidity": 0.2
            },
            "type": "scatter"
           }
          ],
          "scatter3d": [
           {
            "line": {
             "colorbar": {
              "outlinewidth": 0,
              "ticks": ""
             }
            },
            "marker": {
             "colorbar": {
              "outlinewidth": 0,
              "ticks": ""
             }
            },
            "type": "scatter3d"
           }
          ],
          "scattercarpet": [
           {
            "marker": {
             "colorbar": {
              "outlinewidth": 0,
              "ticks": ""
             }
            },
            "type": "scattercarpet"
           }
          ],
          "scattergeo": [
           {
            "marker": {
             "colorbar": {
              "outlinewidth": 0,
              "ticks": ""
             }
            },
            "type": "scattergeo"
           }
          ],
          "scattergl": [
           {
            "marker": {
             "colorbar": {
              "outlinewidth": 0,
              "ticks": ""
             }
            },
            "type": "scattergl"
           }
          ],
          "scattermapbox": [
           {
            "marker": {
             "colorbar": {
              "outlinewidth": 0,
              "ticks": ""
             }
            },
            "type": "scattermapbox"
           }
          ],
          "scatterpolar": [
           {
            "marker": {
             "colorbar": {
              "outlinewidth": 0,
              "ticks": ""
             }
            },
            "type": "scatterpolar"
           }
          ],
          "scatterpolargl": [
           {
            "marker": {
             "colorbar": {
              "outlinewidth": 0,
              "ticks": ""
             }
            },
            "type": "scatterpolargl"
           }
          ],
          "scatterternary": [
           {
            "marker": {
             "colorbar": {
              "outlinewidth": 0,
              "ticks": ""
             }
            },
            "type": "scatterternary"
           }
          ],
          "surface": [
           {
            "colorbar": {
             "outlinewidth": 0,
             "ticks": ""
            },
            "colorscale": [
             [
              0,
              "#0d0887"
             ],
             [
              0.1111111111111111,
              "#46039f"
             ],
             [
              0.2222222222222222,
              "#7201a8"
             ],
             [
              0.3333333333333333,
              "#9c179e"
             ],
             [
              0.4444444444444444,
              "#bd3786"
             ],
             [
              0.5555555555555556,
              "#d8576b"
             ],
             [
              0.6666666666666666,
              "#ed7953"
             ],
             [
              0.7777777777777778,
              "#fb9f3a"
             ],
             [
              0.8888888888888888,
              "#fdca26"
             ],
             [
              1,
              "#f0f921"
             ]
            ],
            "type": "surface"
           }
          ],
          "table": [
           {
            "cells": {
             "fill": {
              "color": "#EBF0F8"
             },
             "line": {
              "color": "white"
             }
            },
            "header": {
             "fill": {
              "color": "#C8D4E3"
             },
             "line": {
              "color": "white"
             }
            },
            "type": "table"
           }
          ]
         },
         "layout": {
          "annotationdefaults": {
           "arrowcolor": "#2a3f5f",
           "arrowhead": 0,
           "arrowwidth": 1
          },
          "autotypenumbers": "strict",
          "coloraxis": {
           "colorbar": {
            "outlinewidth": 0,
            "ticks": ""
           }
          },
          "colorscale": {
           "diverging": [
            [
             0,
             "#8e0152"
            ],
            [
             0.1,
             "#c51b7d"
            ],
            [
             0.2,
             "#de77ae"
            ],
            [
             0.3,
             "#f1b6da"
            ],
            [
             0.4,
             "#fde0ef"
            ],
            [
             0.5,
             "#f7f7f7"
            ],
            [
             0.6,
             "#e6f5d0"
            ],
            [
             0.7,
             "#b8e186"
            ],
            [
             0.8,
             "#7fbc41"
            ],
            [
             0.9,
             "#4d9221"
            ],
            [
             1,
             "#276419"
            ]
           ],
           "sequential": [
            [
             0,
             "#0d0887"
            ],
            [
             0.1111111111111111,
             "#46039f"
            ],
            [
             0.2222222222222222,
             "#7201a8"
            ],
            [
             0.3333333333333333,
             "#9c179e"
            ],
            [
             0.4444444444444444,
             "#bd3786"
            ],
            [
             0.5555555555555556,
             "#d8576b"
            ],
            [
             0.6666666666666666,
             "#ed7953"
            ],
            [
             0.7777777777777778,
             "#fb9f3a"
            ],
            [
             0.8888888888888888,
             "#fdca26"
            ],
            [
             1,
             "#f0f921"
            ]
           ],
           "sequentialminus": [
            [
             0,
             "#0d0887"
            ],
            [
             0.1111111111111111,
             "#46039f"
            ],
            [
             0.2222222222222222,
             "#7201a8"
            ],
            [
             0.3333333333333333,
             "#9c179e"
            ],
            [
             0.4444444444444444,
             "#bd3786"
            ],
            [
             0.5555555555555556,
             "#d8576b"
            ],
            [
             0.6666666666666666,
             "#ed7953"
            ],
            [
             0.7777777777777778,
             "#fb9f3a"
            ],
            [
             0.8888888888888888,
             "#fdca26"
            ],
            [
             1,
             "#f0f921"
            ]
           ]
          },
          "colorway": [
           "#636efa",
           "#EF553B",
           "#00cc96",
           "#ab63fa",
           "#FFA15A",
           "#19d3f3",
           "#FF6692",
           "#B6E880",
           "#FF97FF",
           "#FECB52"
          ],
          "font": {
           "color": "#2a3f5f"
          },
          "geo": {
           "bgcolor": "white",
           "lakecolor": "white",
           "landcolor": "#E5ECF6",
           "showlakes": true,
           "showland": true,
           "subunitcolor": "white"
          },
          "hoverlabel": {
           "align": "left"
          },
          "hovermode": "closest",
          "mapbox": {
           "style": "light"
          },
          "paper_bgcolor": "white",
          "plot_bgcolor": "#E5ECF6",
          "polar": {
           "angularaxis": {
            "gridcolor": "white",
            "linecolor": "white",
            "ticks": ""
           },
           "bgcolor": "#E5ECF6",
           "radialaxis": {
            "gridcolor": "white",
            "linecolor": "white",
            "ticks": ""
           }
          },
          "scene": {
           "xaxis": {
            "backgroundcolor": "#E5ECF6",
            "gridcolor": "white",
            "gridwidth": 2,
            "linecolor": "white",
            "showbackground": true,
            "ticks": "",
            "zerolinecolor": "white"
           },
           "yaxis": {
            "backgroundcolor": "#E5ECF6",
            "gridcolor": "white",
            "gridwidth": 2,
            "linecolor": "white",
            "showbackground": true,
            "ticks": "",
            "zerolinecolor": "white"
           },
           "zaxis": {
            "backgroundcolor": "#E5ECF6",
            "gridcolor": "white",
            "gridwidth": 2,
            "linecolor": "white",
            "showbackground": true,
            "ticks": "",
            "zerolinecolor": "white"
           }
          },
          "shapedefaults": {
           "line": {
            "color": "#2a3f5f"
           }
          },
          "ternary": {
           "aaxis": {
            "gridcolor": "white",
            "linecolor": "white",
            "ticks": ""
           },
           "baxis": {
            "gridcolor": "white",
            "linecolor": "white",
            "ticks": ""
           },
           "bgcolor": "#E5ECF6",
           "caxis": {
            "gridcolor": "white",
            "linecolor": "white",
            "ticks": ""
           }
          },
          "title": {
           "x": 0.05
          },
          "xaxis": {
           "automargin": true,
           "gridcolor": "white",
           "linecolor": "white",
           "ticks": "",
           "title": {
            "standoff": 15
           },
           "zerolinecolor": "white",
           "zerolinewidth": 2
          },
          "yaxis": {
           "automargin": true,
           "gridcolor": "white",
           "linecolor": "white",
           "ticks": "",
           "title": {
            "standoff": 15
           },
           "zerolinecolor": "white",
           "zerolinewidth": 2
          }
         }
        },
        "title": {
         "text": "Number of cases, intensive care patients and deaths in Sweden"
        },
        "xaxis": {
         "anchor": "y",
         "domain": [
          0,
          1
         ],
         "title": {
          "text": "Age groups"
         }
        },
        "yaxis": {
         "anchor": "x",
         "domain": [
          0,
          1
         ],
         "title": {
          "text": "Population"
         },
         "type": "log"
        }
       }
      }
     },
     "metadata": {},
     "output_type": "display_data"
    }
   ],
   "source": [
    "fig = px.line(\n",
    "    df,\n",
    "    x=\"Åldersgrupp\",\n",
    "    y=[\"Totalt_antal_fall\", \"Totalt_antal_intensivvårdade\", \"Totalt_antal_avlidna\"],\n",
    "    labels = {\"Åldersgrupp\":\"Age groups\",\"value\":\"Population\", \"variable\": \"Covid19\"},\n",
    "    log_y=True,\n",
    "    title=\"Number of cases, intensive care patients and deaths in Sweden\",\n",
    ")\n",
    "fig.show()\n",
    "#fig.write_html(\"uppgift 3-1.html\", auto_open = True)"
   ]
  },
  {
   "cell_type": "markdown",
   "metadata": {},
   "source": [
    "##  # KPI 2 : \n",
    "\n",
    "   - Read the data related to  corresponding sheet on Covid19 \n",
    "   - Pick out the date by find out maximum number of cases from all region\n",
    "   - With that maximum cases we can pick out the name of region\n"
   ]
  },
  {
   "cell_type": "code",
   "execution_count": 420,
   "metadata": {},
   "outputs": [
    {
     "data": {
      "text/html": [
       "<div>\n",
       "<style scoped>\n",
       "    .dataframe tbody tr th:only-of-type {\n",
       "        vertical-align: middle;\n",
       "    }\n",
       "\n",
       "    .dataframe tbody tr th {\n",
       "        vertical-align: top;\n",
       "    }\n",
       "\n",
       "    .dataframe thead th {\n",
       "        text-align: right;\n",
       "    }\n",
       "</style>\n",
       "<table border=\"1\" class=\"dataframe\">\n",
       "  <thead>\n",
       "    <tr style=\"text-align: right;\">\n",
       "      <th></th>\n",
       "      <th>Statistikdatum</th>\n",
       "      <th>Totalt_antal_fall</th>\n",
       "      <th>Blekinge</th>\n",
       "      <th>Dalarna</th>\n",
       "      <th>Gotland</th>\n",
       "      <th>Gävleborg</th>\n",
       "      <th>Halland</th>\n",
       "      <th>Jämtland_Härjedalen</th>\n",
       "      <th>Jönköping</th>\n",
       "      <th>Kalmar</th>\n",
       "      <th>...</th>\n",
       "      <th>Stockholm</th>\n",
       "      <th>Sörmland</th>\n",
       "      <th>Uppsala</th>\n",
       "      <th>Värmland</th>\n",
       "      <th>Västerbotten</th>\n",
       "      <th>Västernorrland</th>\n",
       "      <th>Västmanland</th>\n",
       "      <th>Västra_Götaland</th>\n",
       "      <th>Örebro</th>\n",
       "      <th>Östergötland</th>\n",
       "    </tr>\n",
       "  </thead>\n",
       "  <tbody>\n",
       "    <tr>\n",
       "      <th>0</th>\n",
       "      <td>2020-02-04</td>\n",
       "      <td>1</td>\n",
       "      <td>0</td>\n",
       "      <td>0</td>\n",
       "      <td>0</td>\n",
       "      <td>0</td>\n",
       "      <td>0</td>\n",
       "      <td>0</td>\n",
       "      <td>1</td>\n",
       "      <td>0</td>\n",
       "      <td>...</td>\n",
       "      <td>0</td>\n",
       "      <td>0</td>\n",
       "      <td>0</td>\n",
       "      <td>0</td>\n",
       "      <td>0</td>\n",
       "      <td>0</td>\n",
       "      <td>0</td>\n",
       "      <td>0</td>\n",
       "      <td>0</td>\n",
       "      <td>0</td>\n",
       "    </tr>\n",
       "    <tr>\n",
       "      <th>1</th>\n",
       "      <td>2020-02-05</td>\n",
       "      <td>0</td>\n",
       "      <td>0</td>\n",
       "      <td>0</td>\n",
       "      <td>0</td>\n",
       "      <td>0</td>\n",
       "      <td>0</td>\n",
       "      <td>0</td>\n",
       "      <td>0</td>\n",
       "      <td>0</td>\n",
       "      <td>...</td>\n",
       "      <td>0</td>\n",
       "      <td>0</td>\n",
       "      <td>0</td>\n",
       "      <td>0</td>\n",
       "      <td>0</td>\n",
       "      <td>0</td>\n",
       "      <td>0</td>\n",
       "      <td>0</td>\n",
       "      <td>0</td>\n",
       "      <td>0</td>\n",
       "    </tr>\n",
       "    <tr>\n",
       "      <th>2</th>\n",
       "      <td>2020-02-06</td>\n",
       "      <td>0</td>\n",
       "      <td>0</td>\n",
       "      <td>0</td>\n",
       "      <td>0</td>\n",
       "      <td>0</td>\n",
       "      <td>0</td>\n",
       "      <td>0</td>\n",
       "      <td>0</td>\n",
       "      <td>0</td>\n",
       "      <td>...</td>\n",
       "      <td>0</td>\n",
       "      <td>0</td>\n",
       "      <td>0</td>\n",
       "      <td>0</td>\n",
       "      <td>0</td>\n",
       "      <td>0</td>\n",
       "      <td>0</td>\n",
       "      <td>0</td>\n",
       "      <td>0</td>\n",
       "      <td>0</td>\n",
       "    </tr>\n",
       "    <tr>\n",
       "      <th>3</th>\n",
       "      <td>2020-02-07</td>\n",
       "      <td>0</td>\n",
       "      <td>0</td>\n",
       "      <td>0</td>\n",
       "      <td>0</td>\n",
       "      <td>0</td>\n",
       "      <td>0</td>\n",
       "      <td>0</td>\n",
       "      <td>0</td>\n",
       "      <td>0</td>\n",
       "      <td>...</td>\n",
       "      <td>0</td>\n",
       "      <td>0</td>\n",
       "      <td>0</td>\n",
       "      <td>0</td>\n",
       "      <td>0</td>\n",
       "      <td>0</td>\n",
       "      <td>0</td>\n",
       "      <td>0</td>\n",
       "      <td>0</td>\n",
       "      <td>0</td>\n",
       "    </tr>\n",
       "    <tr>\n",
       "      <th>4</th>\n",
       "      <td>2020-02-08</td>\n",
       "      <td>0</td>\n",
       "      <td>0</td>\n",
       "      <td>0</td>\n",
       "      <td>0</td>\n",
       "      <td>0</td>\n",
       "      <td>0</td>\n",
       "      <td>0</td>\n",
       "      <td>0</td>\n",
       "      <td>0</td>\n",
       "      <td>...</td>\n",
       "      <td>0</td>\n",
       "      <td>0</td>\n",
       "      <td>0</td>\n",
       "      <td>0</td>\n",
       "      <td>0</td>\n",
       "      <td>0</td>\n",
       "      <td>0</td>\n",
       "      <td>0</td>\n",
       "      <td>0</td>\n",
       "      <td>0</td>\n",
       "    </tr>\n",
       "  </tbody>\n",
       "</table>\n",
       "<p>5 rows × 23 columns</p>\n",
       "</div>"
      ],
      "text/plain": [
       "  Statistikdatum  Totalt_antal_fall  Blekinge  Dalarna  Gotland  Gävleborg  \\\n",
       "0     2020-02-04                  1         0        0        0          0   \n",
       "1     2020-02-05                  0         0        0        0          0   \n",
       "2     2020-02-06                  0         0        0        0          0   \n",
       "3     2020-02-07                  0         0        0        0          0   \n",
       "4     2020-02-08                  0         0        0        0          0   \n",
       "\n",
       "   Halland  Jämtland_Härjedalen  Jönköping  Kalmar  ...  Stockholm  Sörmland  \\\n",
       "0        0                    0          1       0  ...          0         0   \n",
       "1        0                    0          0       0  ...          0         0   \n",
       "2        0                    0          0       0  ...          0         0   \n",
       "3        0                    0          0       0  ...          0         0   \n",
       "4        0                    0          0       0  ...          0         0   \n",
       "\n",
       "   Uppsala  Värmland  Västerbotten  Västernorrland  Västmanland  \\\n",
       "0        0         0             0               0            0   \n",
       "1        0         0             0               0            0   \n",
       "2        0         0             0               0            0   \n",
       "3        0         0             0               0            0   \n",
       "4        0         0             0               0            0   \n",
       "\n",
       "   Västra_Götaland  Örebro  Östergötland  \n",
       "0                0       0             0  \n",
       "1                0       0             0  \n",
       "2                0       0             0  \n",
       "3                0       0             0  \n",
       "4                0       0             0  \n",
       "\n",
       "[5 rows x 23 columns]"
      ]
     },
     "execution_count": 420,
     "metadata": {},
     "output_type": "execute_result"
    }
   ],
   "source": [
    "df = pd.read_excel(\"../Labb/Data/Covid19.xlsx\",sheet_name=\"Antal per dag region\")  \n",
    "df.head()"
   ]
  },
  {
   "cell_type": "code",
   "execution_count": 421,
   "metadata": {},
   "outputs": [
    {
     "data": {
      "text/html": [
       "<div>\n",
       "<style scoped>\n",
       "    .dataframe tbody tr th:only-of-type {\n",
       "        vertical-align: middle;\n",
       "    }\n",
       "\n",
       "    .dataframe tbody tr th {\n",
       "        vertical-align: top;\n",
       "    }\n",
       "\n",
       "    .dataframe thead th {\n",
       "        text-align: right;\n",
       "    }\n",
       "</style>\n",
       "<table border=\"1\" class=\"dataframe\">\n",
       "  <thead>\n",
       "    <tr style=\"text-align: right;\">\n",
       "      <th></th>\n",
       "      <th>Statistikdatum</th>\n",
       "      <th>Totalt_antal_fall</th>\n",
       "      <th>Blekinge</th>\n",
       "      <th>Dalarna</th>\n",
       "      <th>Gotland</th>\n",
       "      <th>Gävleborg</th>\n",
       "      <th>Halland</th>\n",
       "      <th>Jämtland_Härjedalen</th>\n",
       "      <th>Jönköping</th>\n",
       "      <th>Kalmar</th>\n",
       "      <th>...</th>\n",
       "      <th>Stockholm</th>\n",
       "      <th>Sörmland</th>\n",
       "      <th>Uppsala</th>\n",
       "      <th>Värmland</th>\n",
       "      <th>Västerbotten</th>\n",
       "      <th>Västernorrland</th>\n",
       "      <th>Västmanland</th>\n",
       "      <th>Västra_Götaland</th>\n",
       "      <th>Örebro</th>\n",
       "      <th>Östergötland</th>\n",
       "    </tr>\n",
       "  </thead>\n",
       "  <tbody>\n",
       "    <tr>\n",
       "      <th>723</th>\n",
       "      <td>2022-01-27</td>\n",
       "      <td>53881</td>\n",
       "      <td>547</td>\n",
       "      <td>1371</td>\n",
       "      <td>235</td>\n",
       "      <td>1496</td>\n",
       "      <td>2878</td>\n",
       "      <td>1232</td>\n",
       "      <td>2682</td>\n",
       "      <td>1259</td>\n",
       "      <td>...</td>\n",
       "      <td>8169</td>\n",
       "      <td>745</td>\n",
       "      <td>2454</td>\n",
       "      <td>1474</td>\n",
       "      <td>753</td>\n",
       "      <td>1178</td>\n",
       "      <td>2151</td>\n",
       "      <td>14429</td>\n",
       "      <td>1464</td>\n",
       "      <td>2139</td>\n",
       "    </tr>\n",
       "    <tr>\n",
       "      <th>721</th>\n",
       "      <td>2022-01-25</td>\n",
       "      <td>46669</td>\n",
       "      <td>445</td>\n",
       "      <td>1580</td>\n",
       "      <td>336</td>\n",
       "      <td>1284</td>\n",
       "      <td>2056</td>\n",
       "      <td>492</td>\n",
       "      <td>1461</td>\n",
       "      <td>1562</td>\n",
       "      <td>...</td>\n",
       "      <td>9642</td>\n",
       "      <td>1579</td>\n",
       "      <td>2033</td>\n",
       "      <td>2147</td>\n",
       "      <td>1230</td>\n",
       "      <td>922</td>\n",
       "      <td>2093</td>\n",
       "      <td>8609</td>\n",
       "      <td>2245</td>\n",
       "      <td>1564</td>\n",
       "    </tr>\n",
       "  </tbody>\n",
       "</table>\n",
       "<p>2 rows × 23 columns</p>\n",
       "</div>"
      ],
      "text/plain": [
       "    Statistikdatum  Totalt_antal_fall  Blekinge  Dalarna  Gotland  Gävleborg  \\\n",
       "723     2022-01-27              53881       547     1371      235       1496   \n",
       "721     2022-01-25              46669       445     1580      336       1284   \n",
       "\n",
       "     Halland  Jämtland_Härjedalen  Jönköping  Kalmar  ...  Stockholm  \\\n",
       "723     2878                 1232       2682    1259  ...       8169   \n",
       "721     2056                  492       1461    1562  ...       9642   \n",
       "\n",
       "     Sörmland  Uppsala  Värmland  Västerbotten  Västernorrland  Västmanland  \\\n",
       "723       745     2454      1474           753            1178         2151   \n",
       "721      1579     2033      2147          1230             922         2093   \n",
       "\n",
       "     Västra_Götaland  Örebro  Östergötland  \n",
       "723            14429    1464          2139  \n",
       "721             8609    2245          1564  \n",
       "\n",
       "[2 rows x 23 columns]"
      ]
     },
     "execution_count": 421,
     "metadata": {},
     "output_type": "execute_result"
    }
   ],
   "source": [
    "#df.query('Totalt_antal_fall == Totalt_antal_fall.max()') # It is also working\n",
    "\n",
    "df.nlargest(2,['Totalt_antal_fall']) # to find how many top rows you want fo specific column"
   ]
  },
  {
   "cell_type": "code",
   "execution_count": 422,
   "metadata": {},
   "outputs": [
    {
     "data": {
      "text/html": [
       "<div>\n",
       "<style scoped>\n",
       "    .dataframe tbody tr th:only-of-type {\n",
       "        vertical-align: middle;\n",
       "    }\n",
       "\n",
       "    .dataframe tbody tr th {\n",
       "        vertical-align: top;\n",
       "    }\n",
       "\n",
       "    .dataframe thead th {\n",
       "        text-align: right;\n",
       "    }\n",
       "</style>\n",
       "<table border=\"1\" class=\"dataframe\">\n",
       "  <thead>\n",
       "    <tr style=\"text-align: right;\">\n",
       "      <th></th>\n",
       "      <th>Statistikdatum</th>\n",
       "      <th>Totalt_antal_fall</th>\n",
       "      <th>Blekinge</th>\n",
       "      <th>Dalarna</th>\n",
       "      <th>Gotland</th>\n",
       "      <th>Gävleborg</th>\n",
       "      <th>Halland</th>\n",
       "      <th>Jämtland_Härjedalen</th>\n",
       "      <th>Jönköping</th>\n",
       "      <th>Kalmar</th>\n",
       "      <th>...</th>\n",
       "      <th>Stockholm</th>\n",
       "      <th>Sörmland</th>\n",
       "      <th>Uppsala</th>\n",
       "      <th>Värmland</th>\n",
       "      <th>Västerbotten</th>\n",
       "      <th>Västernorrland</th>\n",
       "      <th>Västmanland</th>\n",
       "      <th>Västra_Götaland</th>\n",
       "      <th>Örebro</th>\n",
       "      <th>Östergötland</th>\n",
       "    </tr>\n",
       "  </thead>\n",
       "  <tbody>\n",
       "    <tr>\n",
       "      <th>723</th>\n",
       "      <td>2022-01-27</td>\n",
       "      <td>53881</td>\n",
       "      <td>547</td>\n",
       "      <td>1371</td>\n",
       "      <td>235</td>\n",
       "      <td>1496</td>\n",
       "      <td>2878</td>\n",
       "      <td>1232</td>\n",
       "      <td>2682</td>\n",
       "      <td>1259</td>\n",
       "      <td>...</td>\n",
       "      <td>8169</td>\n",
       "      <td>745</td>\n",
       "      <td>2454</td>\n",
       "      <td>1474</td>\n",
       "      <td>753</td>\n",
       "      <td>1178</td>\n",
       "      <td>2151</td>\n",
       "      <td>14429</td>\n",
       "      <td>1464</td>\n",
       "      <td>2139</td>\n",
       "    </tr>\n",
       "  </tbody>\n",
       "</table>\n",
       "<p>1 rows × 23 columns</p>\n",
       "</div>"
      ],
      "text/plain": [
       "    Statistikdatum  Totalt_antal_fall  Blekinge  Dalarna  Gotland  Gävleborg  \\\n",
       "723     2022-01-27              53881       547     1371      235       1496   \n",
       "\n",
       "     Halland  Jämtland_Härjedalen  Jönköping  Kalmar  ...  Stockholm  \\\n",
       "723     2878                 1232       2682    1259  ...       8169   \n",
       "\n",
       "     Sörmland  Uppsala  Värmland  Västerbotten  Västernorrland  Västmanland  \\\n",
       "723       745     2454      1474           753            1178         2151   \n",
       "\n",
       "     Västra_Götaland  Örebro  Östergötland  \n",
       "723            14429    1464          2139  \n",
       "\n",
       "[1 rows x 23 columns]"
      ]
     },
     "execution_count": 422,
     "metadata": {},
     "output_type": "execute_result"
    }
   ],
   "source": [
    "# returns row with maximum value in \"Totalt_antal_fall\" column\n",
    "df_max = df[df[\"Totalt_antal_fall\"] == df[\"Totalt_antal_fall\"].max()]\n",
    "df_max\n"
   ]
  },
  {
   "cell_type": "code",
   "execution_count": 423,
   "metadata": {},
   "outputs": [
    {
     "data": {
      "text/html": [
       "<div>\n",
       "<style scoped>\n",
       "    .dataframe tbody tr th:only-of-type {\n",
       "        vertical-align: middle;\n",
       "    }\n",
       "\n",
       "    .dataframe tbody tr th {\n",
       "        vertical-align: top;\n",
       "    }\n",
       "\n",
       "    .dataframe thead th {\n",
       "        text-align: right;\n",
       "    }\n",
       "</style>\n",
       "<table border=\"1\" class=\"dataframe\">\n",
       "  <thead>\n",
       "    <tr style=\"text-align: right;\">\n",
       "      <th></th>\n",
       "      <th>Blekinge</th>\n",
       "      <th>Dalarna</th>\n",
       "      <th>Gotland</th>\n",
       "      <th>Gävleborg</th>\n",
       "      <th>Halland</th>\n",
       "      <th>Jämtland_Härjedalen</th>\n",
       "      <th>Jönköping</th>\n",
       "      <th>Kalmar</th>\n",
       "      <th>Kronoberg</th>\n",
       "      <th>Norrbotten</th>\n",
       "      <th>...</th>\n",
       "      <th>Stockholm</th>\n",
       "      <th>Sörmland</th>\n",
       "      <th>Uppsala</th>\n",
       "      <th>Värmland</th>\n",
       "      <th>Västerbotten</th>\n",
       "      <th>Västernorrland</th>\n",
       "      <th>Västmanland</th>\n",
       "      <th>Västra_Götaland</th>\n",
       "      <th>Örebro</th>\n",
       "      <th>Östergötland</th>\n",
       "    </tr>\n",
       "  </thead>\n",
       "  <tbody>\n",
       "    <tr>\n",
       "      <th>723</th>\n",
       "      <td>547</td>\n",
       "      <td>1371</td>\n",
       "      <td>235</td>\n",
       "      <td>1496</td>\n",
       "      <td>2878</td>\n",
       "      <td>1232</td>\n",
       "      <td>2682</td>\n",
       "      <td>1259</td>\n",
       "      <td>1239</td>\n",
       "      <td>470</td>\n",
       "      <td>...</td>\n",
       "      <td>8169</td>\n",
       "      <td>745</td>\n",
       "      <td>2454</td>\n",
       "      <td>1474</td>\n",
       "      <td>753</td>\n",
       "      <td>1178</td>\n",
       "      <td>2151</td>\n",
       "      <td>14429</td>\n",
       "      <td>1464</td>\n",
       "      <td>2139</td>\n",
       "    </tr>\n",
       "  </tbody>\n",
       "</table>\n",
       "<p>1 rows × 21 columns</p>\n",
       "</div>"
      ],
      "text/plain": [
       "     Blekinge  Dalarna  Gotland  Gävleborg  Halland  Jämtland_Härjedalen  \\\n",
       "723       547     1371      235       1496     2878                 1232   \n",
       "\n",
       "     Jönköping  Kalmar  Kronoberg  Norrbotten  ...  Stockholm  Sörmland  \\\n",
       "723       2682    1259       1239         470  ...       8169       745   \n",
       "\n",
       "     Uppsala  Värmland  Västerbotten  Västernorrland  Västmanland  \\\n",
       "723     2454      1474           753            1178         2151   \n",
       "\n",
       "     Västra_Götaland  Örebro  Östergötland  \n",
       "723            14429    1464          2139  \n",
       "\n",
       "[1 rows x 21 columns]"
      ]
     },
     "execution_count": 423,
     "metadata": {},
     "output_type": "execute_result"
    }
   ],
   "source": [
    "df_region = df_max.loc[:,  ~df_max.columns.isin(['Statistikdatum','Totalt_antal_fall'])] # Exlude multiple columns\n",
    "df_region\n"
   ]
  },
  {
   "cell_type": "code",
   "execution_count": 424,
   "metadata": {},
   "outputs": [
    {
     "name": "stdout",
     "output_type": "stream",
     "text": [
      "723    Västra_Götaland\n",
      "dtype: object\n"
     ]
    }
   ],
   "source": [
    "region = df_region.idxmax(axis = 1)\n",
    "print(region)"
   ]
  },
  {
   "cell_type": "markdown",
   "metadata": {},
   "source": [
    "###  --> The heighest number of cases  are registerd in Västra_Götaland region on 2022-01-27\t"
   ]
  },
  {
   "cell_type": "markdown",
   "metadata": {},
   "source": [
    "## # KPI 3:\n",
    "\n",
    "  - Read data \n",
    "  - collect the data of number of deaths caused by Covid19 in each region of Sweden\n",
    "  - Represents graph deaths per region\n",
    "  - plot graphically"
   ]
  },
  {
   "cell_type": "code",
   "execution_count": 425,
   "metadata": {},
   "outputs": [
    {
     "data": {
      "text/html": [
       "<div>\n",
       "<style scoped>\n",
       "    .dataframe tbody tr th:only-of-type {\n",
       "        vertical-align: middle;\n",
       "    }\n",
       "\n",
       "    .dataframe tbody tr th {\n",
       "        vertical-align: top;\n",
       "    }\n",
       "\n",
       "    .dataframe thead th {\n",
       "        text-align: right;\n",
       "    }\n",
       "</style>\n",
       "<table border=\"1\" class=\"dataframe\">\n",
       "  <thead>\n",
       "    <tr style=\"text-align: right;\">\n",
       "      <th></th>\n",
       "      <th>Region</th>\n",
       "      <th>Totalt_antal_fall</th>\n",
       "      <th>Fall_per_100000_inv</th>\n",
       "      <th>Totalt_antal_intensivvårdade</th>\n",
       "      <th>Totalt_antal_avlidna</th>\n",
       "    </tr>\n",
       "  </thead>\n",
       "  <tbody>\n",
       "    <tr>\n",
       "      <th>0</th>\n",
       "      <td>Blekinge</td>\n",
       "      <td>30829</td>\n",
       "      <td>19371.449951</td>\n",
       "      <td>85</td>\n",
       "      <td>184</td>\n",
       "    </tr>\n",
       "    <tr>\n",
       "      <th>1</th>\n",
       "      <td>Dalarna</td>\n",
       "      <td>75091</td>\n",
       "      <td>26098.780273</td>\n",
       "      <td>260</td>\n",
       "      <td>544</td>\n",
       "    </tr>\n",
       "    <tr>\n",
       "      <th>2</th>\n",
       "      <td>Gotland</td>\n",
       "      <td>11874</td>\n",
       "      <td>19776.671875</td>\n",
       "      <td>46</td>\n",
       "      <td>82</td>\n",
       "    </tr>\n",
       "    <tr>\n",
       "      <th>3</th>\n",
       "      <td>Gävleborg</td>\n",
       "      <td>74803</td>\n",
       "      <td>26020.503418</td>\n",
       "      <td>332</td>\n",
       "      <td>754</td>\n",
       "    </tr>\n",
       "    <tr>\n",
       "      <th>4</th>\n",
       "      <td>Halland</td>\n",
       "      <td>108822</td>\n",
       "      <td>32349.047119</td>\n",
       "      <td>229</td>\n",
       "      <td>518</td>\n",
       "    </tr>\n",
       "  </tbody>\n",
       "</table>\n",
       "</div>"
      ],
      "text/plain": [
       "      Region  Totalt_antal_fall  Fall_per_100000_inv  \\\n",
       "0   Blekinge              30829         19371.449951   \n",
       "1    Dalarna              75091         26098.780273   \n",
       "2    Gotland              11874         19776.671875   \n",
       "3  Gävleborg              74803         26020.503418   \n",
       "4    Halland             108822         32349.047119   \n",
       "\n",
       "   Totalt_antal_intensivvårdade  Totalt_antal_avlidna  \n",
       "0                            85                   184  \n",
       "1                           260                   544  \n",
       "2                            46                    82  \n",
       "3                           332                   754  \n",
       "4                           229                   518  "
      ]
     },
     "execution_count": 425,
     "metadata": {},
     "output_type": "execute_result"
    }
   ],
   "source": [
    "df = pd.read_excel(\"../Labb/Data/Covid19.xlsx\",sheet_name=\"Totalt antal per region\")  \n",
    "df.head()"
   ]
  },
  {
   "cell_type": "code",
   "execution_count": 426,
   "metadata": {},
   "outputs": [
    {
     "data": {
      "application/vnd.plotly.v1+json": {
       "config": {
        "plotlyServerURL": "https://plot.ly"
       },
       "data": [
        {
         "hovertemplate": "Region=%{x}<br>Number of deaths=%{y}<extra></extra>",
         "legendgroup": "",
         "line": {
          "color": "#636efa",
          "dash": "solid"
         },
         "marker": {
          "symbol": "circle"
         },
         "mode": "lines",
         "name": "",
         "orientation": "v",
         "showlegend": false,
         "type": "scatter",
         "x": [
          "Blekinge",
          "Dalarna",
          "Gotland",
          "Gävleborg",
          "Halland",
          "Jämtland Härjedalen",
          "Jönköping",
          "Kalmar",
          "Kronoberg",
          "Norrbotten",
          "Skåne",
          "Stockholm",
          "Sörmland",
          "Uppsala",
          "Värmland",
          "Västerbotten",
          "Västernorrland",
          "Västmanland",
          "Västra Götaland",
          "Örebro",
          "Östergötland"
         ],
         "xaxis": "x",
         "y": [
          184,
          544,
          82,
          754,
          518,
          197,
          756,
          385,
          410,
          459,
          2587,
          5626,
          662,
          722,
          411,
          393,
          678,
          534,
          3342,
          525,
          890
         ],
         "yaxis": "y"
        }
       ],
       "layout": {
        "legend": {
         "tracegroupgap": 0
        },
        "template": {
         "data": {
          "bar": [
           {
            "error_x": {
             "color": "#2a3f5f"
            },
            "error_y": {
             "color": "#2a3f5f"
            },
            "marker": {
             "line": {
              "color": "#E5ECF6",
              "width": 0.5
             },
             "pattern": {
              "fillmode": "overlay",
              "size": 10,
              "solidity": 0.2
             }
            },
            "type": "bar"
           }
          ],
          "barpolar": [
           {
            "marker": {
             "line": {
              "color": "#E5ECF6",
              "width": 0.5
             },
             "pattern": {
              "fillmode": "overlay",
              "size": 10,
              "solidity": 0.2
             }
            },
            "type": "barpolar"
           }
          ],
          "carpet": [
           {
            "aaxis": {
             "endlinecolor": "#2a3f5f",
             "gridcolor": "white",
             "linecolor": "white",
             "minorgridcolor": "white",
             "startlinecolor": "#2a3f5f"
            },
            "baxis": {
             "endlinecolor": "#2a3f5f",
             "gridcolor": "white",
             "linecolor": "white",
             "minorgridcolor": "white",
             "startlinecolor": "#2a3f5f"
            },
            "type": "carpet"
           }
          ],
          "choropleth": [
           {
            "colorbar": {
             "outlinewidth": 0,
             "ticks": ""
            },
            "type": "choropleth"
           }
          ],
          "contour": [
           {
            "colorbar": {
             "outlinewidth": 0,
             "ticks": ""
            },
            "colorscale": [
             [
              0,
              "#0d0887"
             ],
             [
              0.1111111111111111,
              "#46039f"
             ],
             [
              0.2222222222222222,
              "#7201a8"
             ],
             [
              0.3333333333333333,
              "#9c179e"
             ],
             [
              0.4444444444444444,
              "#bd3786"
             ],
             [
              0.5555555555555556,
              "#d8576b"
             ],
             [
              0.6666666666666666,
              "#ed7953"
             ],
             [
              0.7777777777777778,
              "#fb9f3a"
             ],
             [
              0.8888888888888888,
              "#fdca26"
             ],
             [
              1,
              "#f0f921"
             ]
            ],
            "type": "contour"
           }
          ],
          "contourcarpet": [
           {
            "colorbar": {
             "outlinewidth": 0,
             "ticks": ""
            },
            "type": "contourcarpet"
           }
          ],
          "heatmap": [
           {
            "colorbar": {
             "outlinewidth": 0,
             "ticks": ""
            },
            "colorscale": [
             [
              0,
              "#0d0887"
             ],
             [
              0.1111111111111111,
              "#46039f"
             ],
             [
              0.2222222222222222,
              "#7201a8"
             ],
             [
              0.3333333333333333,
              "#9c179e"
             ],
             [
              0.4444444444444444,
              "#bd3786"
             ],
             [
              0.5555555555555556,
              "#d8576b"
             ],
             [
              0.6666666666666666,
              "#ed7953"
             ],
             [
              0.7777777777777778,
              "#fb9f3a"
             ],
             [
              0.8888888888888888,
              "#fdca26"
             ],
             [
              1,
              "#f0f921"
             ]
            ],
            "type": "heatmap"
           }
          ],
          "heatmapgl": [
           {
            "colorbar": {
             "outlinewidth": 0,
             "ticks": ""
            },
            "colorscale": [
             [
              0,
              "#0d0887"
             ],
             [
              0.1111111111111111,
              "#46039f"
             ],
             [
              0.2222222222222222,
              "#7201a8"
             ],
             [
              0.3333333333333333,
              "#9c179e"
             ],
             [
              0.4444444444444444,
              "#bd3786"
             ],
             [
              0.5555555555555556,
              "#d8576b"
             ],
             [
              0.6666666666666666,
              "#ed7953"
             ],
             [
              0.7777777777777778,
              "#fb9f3a"
             ],
             [
              0.8888888888888888,
              "#fdca26"
             ],
             [
              1,
              "#f0f921"
             ]
            ],
            "type": "heatmapgl"
           }
          ],
          "histogram": [
           {
            "marker": {
             "pattern": {
              "fillmode": "overlay",
              "size": 10,
              "solidity": 0.2
             }
            },
            "type": "histogram"
           }
          ],
          "histogram2d": [
           {
            "colorbar": {
             "outlinewidth": 0,
             "ticks": ""
            },
            "colorscale": [
             [
              0,
              "#0d0887"
             ],
             [
              0.1111111111111111,
              "#46039f"
             ],
             [
              0.2222222222222222,
              "#7201a8"
             ],
             [
              0.3333333333333333,
              "#9c179e"
             ],
             [
              0.4444444444444444,
              "#bd3786"
             ],
             [
              0.5555555555555556,
              "#d8576b"
             ],
             [
              0.6666666666666666,
              "#ed7953"
             ],
             [
              0.7777777777777778,
              "#fb9f3a"
             ],
             [
              0.8888888888888888,
              "#fdca26"
             ],
             [
              1,
              "#f0f921"
             ]
            ],
            "type": "histogram2d"
           }
          ],
          "histogram2dcontour": [
           {
            "colorbar": {
             "outlinewidth": 0,
             "ticks": ""
            },
            "colorscale": [
             [
              0,
              "#0d0887"
             ],
             [
              0.1111111111111111,
              "#46039f"
             ],
             [
              0.2222222222222222,
              "#7201a8"
             ],
             [
              0.3333333333333333,
              "#9c179e"
             ],
             [
              0.4444444444444444,
              "#bd3786"
             ],
             [
              0.5555555555555556,
              "#d8576b"
             ],
             [
              0.6666666666666666,
              "#ed7953"
             ],
             [
              0.7777777777777778,
              "#fb9f3a"
             ],
             [
              0.8888888888888888,
              "#fdca26"
             ],
             [
              1,
              "#f0f921"
             ]
            ],
            "type": "histogram2dcontour"
           }
          ],
          "mesh3d": [
           {
            "colorbar": {
             "outlinewidth": 0,
             "ticks": ""
            },
            "type": "mesh3d"
           }
          ],
          "parcoords": [
           {
            "line": {
             "colorbar": {
              "outlinewidth": 0,
              "ticks": ""
             }
            },
            "type": "parcoords"
           }
          ],
          "pie": [
           {
            "automargin": true,
            "type": "pie"
           }
          ],
          "scatter": [
           {
            "fillpattern": {
             "fillmode": "overlay",
             "size": 10,
             "solidity": 0.2
            },
            "type": "scatter"
           }
          ],
          "scatter3d": [
           {
            "line": {
             "colorbar": {
              "outlinewidth": 0,
              "ticks": ""
             }
            },
            "marker": {
             "colorbar": {
              "outlinewidth": 0,
              "ticks": ""
             }
            },
            "type": "scatter3d"
           }
          ],
          "scattercarpet": [
           {
            "marker": {
             "colorbar": {
              "outlinewidth": 0,
              "ticks": ""
             }
            },
            "type": "scattercarpet"
           }
          ],
          "scattergeo": [
           {
            "marker": {
             "colorbar": {
              "outlinewidth": 0,
              "ticks": ""
             }
            },
            "type": "scattergeo"
           }
          ],
          "scattergl": [
           {
            "marker": {
             "colorbar": {
              "outlinewidth": 0,
              "ticks": ""
             }
            },
            "type": "scattergl"
           }
          ],
          "scattermapbox": [
           {
            "marker": {
             "colorbar": {
              "outlinewidth": 0,
              "ticks": ""
             }
            },
            "type": "scattermapbox"
           }
          ],
          "scatterpolar": [
           {
            "marker": {
             "colorbar": {
              "outlinewidth": 0,
              "ticks": ""
             }
            },
            "type": "scatterpolar"
           }
          ],
          "scatterpolargl": [
           {
            "marker": {
             "colorbar": {
              "outlinewidth": 0,
              "ticks": ""
             }
            },
            "type": "scatterpolargl"
           }
          ],
          "scatterternary": [
           {
            "marker": {
             "colorbar": {
              "outlinewidth": 0,
              "ticks": ""
             }
            },
            "type": "scatterternary"
           }
          ],
          "surface": [
           {
            "colorbar": {
             "outlinewidth": 0,
             "ticks": ""
            },
            "colorscale": [
             [
              0,
              "#0d0887"
             ],
             [
              0.1111111111111111,
              "#46039f"
             ],
             [
              0.2222222222222222,
              "#7201a8"
             ],
             [
              0.3333333333333333,
              "#9c179e"
             ],
             [
              0.4444444444444444,
              "#bd3786"
             ],
             [
              0.5555555555555556,
              "#d8576b"
             ],
             [
              0.6666666666666666,
              "#ed7953"
             ],
             [
              0.7777777777777778,
              "#fb9f3a"
             ],
             [
              0.8888888888888888,
              "#fdca26"
             ],
             [
              1,
              "#f0f921"
             ]
            ],
            "type": "surface"
           }
          ],
          "table": [
           {
            "cells": {
             "fill": {
              "color": "#EBF0F8"
             },
             "line": {
              "color": "white"
             }
            },
            "header": {
             "fill": {
              "color": "#C8D4E3"
             },
             "line": {
              "color": "white"
             }
            },
            "type": "table"
           }
          ]
         },
         "layout": {
          "annotationdefaults": {
           "arrowcolor": "#2a3f5f",
           "arrowhead": 0,
           "arrowwidth": 1
          },
          "autotypenumbers": "strict",
          "coloraxis": {
           "colorbar": {
            "outlinewidth": 0,
            "ticks": ""
           }
          },
          "colorscale": {
           "diverging": [
            [
             0,
             "#8e0152"
            ],
            [
             0.1,
             "#c51b7d"
            ],
            [
             0.2,
             "#de77ae"
            ],
            [
             0.3,
             "#f1b6da"
            ],
            [
             0.4,
             "#fde0ef"
            ],
            [
             0.5,
             "#f7f7f7"
            ],
            [
             0.6,
             "#e6f5d0"
            ],
            [
             0.7,
             "#b8e186"
            ],
            [
             0.8,
             "#7fbc41"
            ],
            [
             0.9,
             "#4d9221"
            ],
            [
             1,
             "#276419"
            ]
           ],
           "sequential": [
            [
             0,
             "#0d0887"
            ],
            [
             0.1111111111111111,
             "#46039f"
            ],
            [
             0.2222222222222222,
             "#7201a8"
            ],
            [
             0.3333333333333333,
             "#9c179e"
            ],
            [
             0.4444444444444444,
             "#bd3786"
            ],
            [
             0.5555555555555556,
             "#d8576b"
            ],
            [
             0.6666666666666666,
             "#ed7953"
            ],
            [
             0.7777777777777778,
             "#fb9f3a"
            ],
            [
             0.8888888888888888,
             "#fdca26"
            ],
            [
             1,
             "#f0f921"
            ]
           ],
           "sequentialminus": [
            [
             0,
             "#0d0887"
            ],
            [
             0.1111111111111111,
             "#46039f"
            ],
            [
             0.2222222222222222,
             "#7201a8"
            ],
            [
             0.3333333333333333,
             "#9c179e"
            ],
            [
             0.4444444444444444,
             "#bd3786"
            ],
            [
             0.5555555555555556,
             "#d8576b"
            ],
            [
             0.6666666666666666,
             "#ed7953"
            ],
            [
             0.7777777777777778,
             "#fb9f3a"
            ],
            [
             0.8888888888888888,
             "#fdca26"
            ],
            [
             1,
             "#f0f921"
            ]
           ]
          },
          "colorway": [
           "#636efa",
           "#EF553B",
           "#00cc96",
           "#ab63fa",
           "#FFA15A",
           "#19d3f3",
           "#FF6692",
           "#B6E880",
           "#FF97FF",
           "#FECB52"
          ],
          "font": {
           "color": "#2a3f5f"
          },
          "geo": {
           "bgcolor": "white",
           "lakecolor": "white",
           "landcolor": "#E5ECF6",
           "showlakes": true,
           "showland": true,
           "subunitcolor": "white"
          },
          "hoverlabel": {
           "align": "left"
          },
          "hovermode": "closest",
          "mapbox": {
           "style": "light"
          },
          "paper_bgcolor": "white",
          "plot_bgcolor": "#E5ECF6",
          "polar": {
           "angularaxis": {
            "gridcolor": "white",
            "linecolor": "white",
            "ticks": ""
           },
           "bgcolor": "#E5ECF6",
           "radialaxis": {
            "gridcolor": "white",
            "linecolor": "white",
            "ticks": ""
           }
          },
          "scene": {
           "xaxis": {
            "backgroundcolor": "#E5ECF6",
            "gridcolor": "white",
            "gridwidth": 2,
            "linecolor": "white",
            "showbackground": true,
            "ticks": "",
            "zerolinecolor": "white"
           },
           "yaxis": {
            "backgroundcolor": "#E5ECF6",
            "gridcolor": "white",
            "gridwidth": 2,
            "linecolor": "white",
            "showbackground": true,
            "ticks": "",
            "zerolinecolor": "white"
           },
           "zaxis": {
            "backgroundcolor": "#E5ECF6",
            "gridcolor": "white",
            "gridwidth": 2,
            "linecolor": "white",
            "showbackground": true,
            "ticks": "",
            "zerolinecolor": "white"
           }
          },
          "shapedefaults": {
           "line": {
            "color": "#2a3f5f"
           }
          },
          "ternary": {
           "aaxis": {
            "gridcolor": "white",
            "linecolor": "white",
            "ticks": ""
           },
           "baxis": {
            "gridcolor": "white",
            "linecolor": "white",
            "ticks": ""
           },
           "bgcolor": "#E5ECF6",
           "caxis": {
            "gridcolor": "white",
            "linecolor": "white",
            "ticks": ""
           }
          },
          "title": {
           "x": 0.05
          },
          "xaxis": {
           "automargin": true,
           "gridcolor": "white",
           "linecolor": "white",
           "ticks": "",
           "title": {
            "standoff": 15
           },
           "zerolinecolor": "white",
           "zerolinewidth": 2
          },
          "yaxis": {
           "automargin": true,
           "gridcolor": "white",
           "linecolor": "white",
           "ticks": "",
           "title": {
            "standoff": 15
           },
           "zerolinecolor": "white",
           "zerolinewidth": 2
          }
         }
        },
        "title": {
         "text": "Number of Deaths occured by Covid19 in each region of Sweden"
        },
        "xaxis": {
         "anchor": "y",
         "domain": [
          0,
          1
         ],
         "title": {
          "text": "Region"
         }
        },
        "yaxis": {
         "anchor": "x",
         "domain": [
          0,
          1
         ],
         "title": {
          "text": "Number of deaths"
         }
        }
       }
      }
     },
     "metadata": {},
     "output_type": "display_data"
    }
   ],
   "source": [
    "fig = px.line(\n",
    "    data_frame=df,\n",
    "    \n",
    "    x=\"Region\",\n",
    "   \n",
    "    y=\"Totalt_antal_avlidna\",\n",
    "    \n",
    "    labels={\"Region\": \"Region\", \"Totalt_antal_avlidna\": \"Number of deaths\"},\n",
    "    title=\"Number of Deaths occured by Covid19 in each region of Sweden\",\n",
    "    \n",
    "    )\n",
    "fig.show()\n",
    "#fig.write_html(\"uppgift 3-3.html\", auto_open = True)\n"
   ]
  },
  {
   "cell_type": "markdown",
   "metadata": {},
   "source": [
    "##  KPI in Vaccine\n",
    "\n",
    " 4.  Number of doses taken by different age groups.\n",
    " 5.  At what week and how many persons got 4 doses. \n",
    " 6.  All 5doses taken in each community.\n",
    "\n"
   ]
  },
  {
   "cell_type": "markdown",
   "metadata": {},
   "source": [
    "## # KPI 4:\n",
    "\n",
    "- Read data from Vaccine with different sheets\n",
    "- Collect the data of all doses per age group from those sheets\n",
    "- Merge the collected data\n",
    "- Plot the graph\n"
   ]
  },
  {
   "cell_type": "code",
   "execution_count": 427,
   "metadata": {},
   "outputs": [
    {
     "data": {
      "text/html": [
       "<div>\n",
       "<style scoped>\n",
       "    .dataframe tbody tr th:only-of-type {\n",
       "        vertical-align: middle;\n",
       "    }\n",
       "\n",
       "    .dataframe tbody tr th {\n",
       "        vertical-align: top;\n",
       "    }\n",
       "\n",
       "    .dataframe thead th {\n",
       "        text-align: right;\n",
       "    }\n",
       "</style>\n",
       "<table border=\"1\" class=\"dataframe\">\n",
       "  <thead>\n",
       "    <tr style=\"text-align: right;\">\n",
       "      <th></th>\n",
       "      <th>Län</th>\n",
       "      <th>Län_namn</th>\n",
       "      <th>Kommun</th>\n",
       "      <th>Kommun_namn</th>\n",
       "      <th>Ålder</th>\n",
       "      <th>Befolkning</th>\n",
       "      <th>Antal minst 1 dos</th>\n",
       "      <th>Antal minst 2 doser</th>\n",
       "      <th>Antal 3 doser</th>\n",
       "      <th>Antal 4 doser</th>\n",
       "      <th>Andel minst 1 dos</th>\n",
       "      <th>Andel minst 2 doser</th>\n",
       "      <th>Andel 3 doser</th>\n",
       "      <th>Andel 4 doser</th>\n",
       "    </tr>\n",
       "  </thead>\n",
       "  <tbody>\n",
       "    <tr>\n",
       "      <th>0</th>\n",
       "      <td>1</td>\n",
       "      <td>Stockholms län</td>\n",
       "      <td>114</td>\n",
       "      <td>Upplands Väsby</td>\n",
       "      <td>12-15</td>\n",
       "      <td>2422</td>\n",
       "      <td>1206</td>\n",
       "      <td>1046</td>\n",
       "      <td>NaN</td>\n",
       "      <td>NaN</td>\n",
       "      <td>0.497936</td>\n",
       "      <td>0.431874</td>\n",
       "      <td>NaN</td>\n",
       "      <td>NaN</td>\n",
       "    </tr>\n",
       "    <tr>\n",
       "      <th>1</th>\n",
       "      <td>1</td>\n",
       "      <td>Stockholms län</td>\n",
       "      <td>114</td>\n",
       "      <td>Upplands Väsby</td>\n",
       "      <td>16-17</td>\n",
       "      <td>1203</td>\n",
       "      <td>839</td>\n",
       "      <td>755</td>\n",
       "      <td>NaN</td>\n",
       "      <td>NaN</td>\n",
       "      <td>0.697423</td>\n",
       "      <td>0.627598</td>\n",
       "      <td>NaN</td>\n",
       "      <td>NaN</td>\n",
       "    </tr>\n",
       "    <tr>\n",
       "      <th>2</th>\n",
       "      <td>1</td>\n",
       "      <td>Stockholms län</td>\n",
       "      <td>114</td>\n",
       "      <td>Upplands Väsby</td>\n",
       "      <td>18-29</td>\n",
       "      <td>6692</td>\n",
       "      <td>4887</td>\n",
       "      <td>4469</td>\n",
       "      <td>1959.0</td>\n",
       "      <td>NaN</td>\n",
       "      <td>0.730275</td>\n",
       "      <td>0.667812</td>\n",
       "      <td>0.292738</td>\n",
       "      <td>NaN</td>\n",
       "    </tr>\n",
       "    <tr>\n",
       "      <th>3</th>\n",
       "      <td>1</td>\n",
       "      <td>Stockholms län</td>\n",
       "      <td>114</td>\n",
       "      <td>Upplands Väsby</td>\n",
       "      <td>30-39</td>\n",
       "      <td>7332</td>\n",
       "      <td>5542</td>\n",
       "      <td>5240</td>\n",
       "      <td>2878.0</td>\n",
       "      <td>NaN</td>\n",
       "      <td>0.755865</td>\n",
       "      <td>0.714675</td>\n",
       "      <td>0.392526</td>\n",
       "      <td>NaN</td>\n",
       "    </tr>\n",
       "    <tr>\n",
       "      <th>4</th>\n",
       "      <td>1</td>\n",
       "      <td>Stockholms län</td>\n",
       "      <td>114</td>\n",
       "      <td>Upplands Väsby</td>\n",
       "      <td>40-49</td>\n",
       "      <td>6946</td>\n",
       "      <td>5592</td>\n",
       "      <td>5429</td>\n",
       "      <td>3719.0</td>\n",
       "      <td>NaN</td>\n",
       "      <td>0.805068</td>\n",
       "      <td>0.781601</td>\n",
       "      <td>0.535416</td>\n",
       "      <td>NaN</td>\n",
       "    </tr>\n",
       "  </tbody>\n",
       "</table>\n",
       "</div>"
      ],
      "text/plain": [
       "   Län        Län_namn  Kommun     Kommun_namn  Ålder  Befolkning  \\\n",
       "0    1  Stockholms län     114  Upplands Väsby  12-15        2422   \n",
       "1    1  Stockholms län     114  Upplands Väsby  16-17        1203   \n",
       "2    1  Stockholms län     114  Upplands Väsby  18-29        6692   \n",
       "3    1  Stockholms län     114  Upplands Väsby  30-39        7332   \n",
       "4    1  Stockholms län     114  Upplands Väsby  40-49        6946   \n",
       "\n",
       "   Antal minst 1 dos  Antal minst 2 doser  Antal 3 doser  Antal 4 doser  \\\n",
       "0               1206                 1046            NaN            NaN   \n",
       "1                839                  755            NaN            NaN   \n",
       "2               4887                 4469         1959.0            NaN   \n",
       "3               5542                 5240         2878.0            NaN   \n",
       "4               5592                 5429         3719.0            NaN   \n",
       "\n",
       "   Andel minst 1 dos  Andel minst 2 doser  Andel 3 doser  Andel 4 doser  \n",
       "0           0.497936             0.431874            NaN            NaN  \n",
       "1           0.697423             0.627598            NaN            NaN  \n",
       "2           0.730275             0.667812       0.292738            NaN  \n",
       "3           0.755865             0.714675       0.392526            NaN  \n",
       "4           0.805068             0.781601       0.535416            NaN  "
      ]
     },
     "execution_count": 427,
     "metadata": {},
     "output_type": "execute_result"
    }
   ],
   "source": [
    "df_vaccine = pd.read_excel(\"../Labb/Data/Vaccine.xlsx\", sheet_name=\"Vaccinerade kommun och ålder\")\n",
    "df_vaccine.head()"
   ]
  },
  {
   "cell_type": "code",
   "execution_count": 428,
   "metadata": {},
   "outputs": [
    {
     "data": {
      "text/html": [
       "<div>\n",
       "<style scoped>\n",
       "    .dataframe tbody tr th:only-of-type {\n",
       "        vertical-align: middle;\n",
       "    }\n",
       "\n",
       "    .dataframe tbody tr th {\n",
       "        vertical-align: top;\n",
       "    }\n",
       "\n",
       "    .dataframe thead th {\n",
       "        text-align: right;\n",
       "    }\n",
       "</style>\n",
       "<table border=\"1\" class=\"dataframe\">\n",
       "  <thead>\n",
       "    <tr style=\"text-align: right;\">\n",
       "      <th></th>\n",
       "      <th>Åldersgrupp</th>\n",
       "      <th>Antal minst 1 dos</th>\n",
       "      <th>Antal minst 2 doser</th>\n",
       "      <th>Antal 3 doser</th>\n",
       "    </tr>\n",
       "  </thead>\n",
       "  <tbody>\n",
       "    <tr>\n",
       "      <th>0</th>\n",
       "      <td>12-15</td>\n",
       "      <td>278405</td>\n",
       "      <td>255541</td>\n",
       "      <td>0.0</td>\n",
       "    </tr>\n",
       "    <tr>\n",
       "      <th>1</th>\n",
       "      <td>16-17</td>\n",
       "      <td>187077</td>\n",
       "      <td>175480</td>\n",
       "      <td>0.0</td>\n",
       "    </tr>\n",
       "    <tr>\n",
       "      <th>2</th>\n",
       "      <td>18-29</td>\n",
       "      <td>1201569</td>\n",
       "      <td>1144897</td>\n",
       "      <td>573532.0</td>\n",
       "    </tr>\n",
       "    <tr>\n",
       "      <th>3</th>\n",
       "      <td>30-39</td>\n",
       "      <td>1190083</td>\n",
       "      <td>1148376</td>\n",
       "      <td>689647.0</td>\n",
       "    </tr>\n",
       "    <tr>\n",
       "      <th>4</th>\n",
       "      <td>40-49</td>\n",
       "      <td>1117660</td>\n",
       "      <td>1095826</td>\n",
       "      <td>791299.0</td>\n",
       "    </tr>\n",
       "    <tr>\n",
       "      <th>5</th>\n",
       "      <td>50-59</td>\n",
       "      <td>1210791</td>\n",
       "      <td>1197415</td>\n",
       "      <td>1000554.0</td>\n",
       "    </tr>\n",
       "    <tr>\n",
       "      <th>6</th>\n",
       "      <td>65-69</td>\n",
       "      <td>1044061</td>\n",
       "      <td>1036035</td>\n",
       "      <td>949409.0</td>\n",
       "    </tr>\n",
       "    <tr>\n",
       "      <th>7</th>\n",
       "      <td>70-79</td>\n",
       "      <td>990440</td>\n",
       "      <td>985748</td>\n",
       "      <td>951943.0</td>\n",
       "    </tr>\n",
       "    <tr>\n",
       "      <th>8</th>\n",
       "      <td>80-89</td>\n",
       "      <td>480671</td>\n",
       "      <td>479037</td>\n",
       "      <td>468149.0</td>\n",
       "    </tr>\n",
       "    <tr>\n",
       "      <th>9</th>\n",
       "      <td>90 eller äldre</td>\n",
       "      <td>109619</td>\n",
       "      <td>109230</td>\n",
       "      <td>106717.0</td>\n",
       "    </tr>\n",
       "  </tbody>\n",
       "</table>\n",
       "</div>"
      ],
      "text/plain": [
       "      Åldersgrupp  Antal minst 1 dos  Antal minst 2 doser  Antal 3 doser\n",
       "0           12-15             278405               255541            0.0\n",
       "1           16-17             187077               175480            0.0\n",
       "2           18-29            1201569              1144897       573532.0\n",
       "3           30-39            1190083              1148376       689647.0\n",
       "4           40-49            1117660              1095826       791299.0\n",
       "5           50-59            1210791              1197415      1000554.0\n",
       "6           65-69            1044061              1036035       949409.0\n",
       "7           70-79             990440               985748       951943.0\n",
       "8           80-89             480671               479037       468149.0\n",
       "9  90 eller äldre             109619               109230       106717.0"
      ]
     },
     "execution_count": 428,
     "metadata": {},
     "output_type": "execute_result"
    }
   ],
   "source": [
    "# For doses 1 to 3\n",
    "df = df_vaccine.groupby(\"Ålder\")[[\"Antal minst 1 dos\",\"Antal minst 2 doser\", \"Antal 3 doser\"]].sum(numeric_only= True).reset_index()\n",
    "df1_to_3= df.rename(columns={\"Ålder\":\"Åldersgrupp\"}) # renamed bcz to maintain same name \n",
    "df1_to_3.replace(\"60-69\",\"65-69\", inplace=True) # other data having age 65-69 \n",
    "df1_to_3\n"
   ]
  },
  {
   "cell_type": "code",
   "execution_count": 429,
   "metadata": {},
   "outputs": [
    {
     "data": {
      "text/html": [
       "<div>\n",
       "<style scoped>\n",
       "    .dataframe tbody tr th:only-of-type {\n",
       "        vertical-align: middle;\n",
       "    }\n",
       "\n",
       "    .dataframe tbody tr th {\n",
       "        vertical-align: top;\n",
       "    }\n",
       "\n",
       "    .dataframe thead th {\n",
       "        text-align: right;\n",
       "    }\n",
       "</style>\n",
       "<table border=\"1\" class=\"dataframe\">\n",
       "  <thead>\n",
       "    <tr style=\"text-align: right;\">\n",
       "      <th></th>\n",
       "      <th>Region</th>\n",
       "      <th>Åldersgrupp</th>\n",
       "      <th>Antal vaccinerade</th>\n",
       "      <th>Andel vaccinerade</th>\n",
       "      <th>Vaccinationsstatus</th>\n",
       "    </tr>\n",
       "  </thead>\n",
       "  <tbody>\n",
       "    <tr>\n",
       "      <th>0</th>\n",
       "      <td>| Sverige |</td>\n",
       "      <td>65-69</td>\n",
       "      <td>376002</td>\n",
       "      <td>0.689459</td>\n",
       "      <td>4 doser</td>\n",
       "    </tr>\n",
       "    <tr>\n",
       "      <th>1</th>\n",
       "      <td>| Sverige |</td>\n",
       "      <td>70-79</td>\n",
       "      <td>828445</td>\n",
       "      <td>0.801892</td>\n",
       "      <td>4 doser</td>\n",
       "    </tr>\n",
       "    <tr>\n",
       "      <th>2</th>\n",
       "      <td>| Sverige |</td>\n",
       "      <td>80-89</td>\n",
       "      <td>428931</td>\n",
       "      <td>0.863475</td>\n",
       "      <td>4 doser</td>\n",
       "    </tr>\n",
       "    <tr>\n",
       "      <th>3</th>\n",
       "      <td>| Sverige |</td>\n",
       "      <td>90 eller äldre</td>\n",
       "      <td>97491</td>\n",
       "      <td>0.854128</td>\n",
       "      <td>4 doser</td>\n",
       "    </tr>\n",
       "    <tr>\n",
       "      <th>4</th>\n",
       "      <td>| Sverige |</td>\n",
       "      <td>Totalt</td>\n",
       "      <td>1730869</td>\n",
       "      <td>0.790581</td>\n",
       "      <td>4 doser</td>\n",
       "    </tr>\n",
       "  </tbody>\n",
       "</table>\n",
       "</div>"
      ],
      "text/plain": [
       "        Region     Åldersgrupp  Antal vaccinerade  Andel vaccinerade  \\\n",
       "0  | Sverige |           65-69             376002           0.689459   \n",
       "1  | Sverige |           70-79             828445           0.801892   \n",
       "2  | Sverige |           80-89             428931           0.863475   \n",
       "3  | Sverige |  90 eller äldre              97491           0.854128   \n",
       "4  | Sverige |          Totalt            1730869           0.790581   \n",
       "\n",
       "  Vaccinationsstatus  \n",
       "0            4 doser  \n",
       "1            4 doser  \n",
       "2            4 doser  \n",
       "3            4 doser  \n",
       "4            4 doser  "
      ]
     },
     "execution_count": 429,
     "metadata": {},
     "output_type": "execute_result"
    }
   ],
   "source": [
    "# for 4th dose\n",
    "df4 = pd.read_excel(\"../Labb/Data/Vaccine.xlsx\", sheet_name=\"Dos 4 per åldersgrupp\")\n",
    "df4.head()"
   ]
  },
  {
   "cell_type": "code",
   "execution_count": 430,
   "metadata": {},
   "outputs": [
    {
     "data": {
      "text/html": [
       "<div>\n",
       "<style scoped>\n",
       "    .dataframe tbody tr th:only-of-type {\n",
       "        vertical-align: middle;\n",
       "    }\n",
       "\n",
       "    .dataframe tbody tr th {\n",
       "        vertical-align: top;\n",
       "    }\n",
       "\n",
       "    .dataframe thead th {\n",
       "        text-align: right;\n",
       "    }\n",
       "</style>\n",
       "<table border=\"1\" class=\"dataframe\">\n",
       "  <thead>\n",
       "    <tr style=\"text-align: right;\">\n",
       "      <th></th>\n",
       "      <th>Åldersgrupp</th>\n",
       "      <th>Antal 4 doser</th>\n",
       "    </tr>\n",
       "  </thead>\n",
       "  <tbody>\n",
       "    <tr>\n",
       "      <th>0</th>\n",
       "      <td>65-69</td>\n",
       "      <td>376002</td>\n",
       "    </tr>\n",
       "    <tr>\n",
       "      <th>1</th>\n",
       "      <td>70-79</td>\n",
       "      <td>828445</td>\n",
       "    </tr>\n",
       "    <tr>\n",
       "      <th>2</th>\n",
       "      <td>80-89</td>\n",
       "      <td>428931</td>\n",
       "    </tr>\n",
       "    <tr>\n",
       "      <th>3</th>\n",
       "      <td>90 eller äldre</td>\n",
       "      <td>97491</td>\n",
       "    </tr>\n",
       "    <tr>\n",
       "      <th>4</th>\n",
       "      <td>Totalt</td>\n",
       "      <td>1730869</td>\n",
       "    </tr>\n",
       "  </tbody>\n",
       "</table>\n",
       "</div>"
      ],
      "text/plain": [
       "      Åldersgrupp  Antal 4 doser\n",
       "0           65-69         376002\n",
       "1           70-79         828445\n",
       "2           80-89         428931\n",
       "3  90 eller äldre          97491\n",
       "4          Totalt        1730869"
      ]
     },
     "execution_count": 430,
     "metadata": {},
     "output_type": "execute_result"
    }
   ],
   "source": [
    "df4 = df4.groupby(\"Åldersgrupp\")[[\"Antal vaccinerade\"]].max().reset_index()\n",
    "df4 = df4.rename(columns={\"Antal vaccinerade\":\"Antal 4 doser\"})\n",
    "df4"
   ]
  },
  {
   "cell_type": "code",
   "execution_count": 431,
   "metadata": {},
   "outputs": [
    {
     "data": {
      "text/html": [
       "<div>\n",
       "<style scoped>\n",
       "    .dataframe tbody tr th:only-of-type {\n",
       "        vertical-align: middle;\n",
       "    }\n",
       "\n",
       "    .dataframe tbody tr th {\n",
       "        vertical-align: top;\n",
       "    }\n",
       "\n",
       "    .dataframe thead th {\n",
       "        text-align: right;\n",
       "    }\n",
       "</style>\n",
       "<table border=\"1\" class=\"dataframe\">\n",
       "  <thead>\n",
       "    <tr style=\"text-align: right;\">\n",
       "      <th></th>\n",
       "      <th>Region</th>\n",
       "      <th>Åldersgrupp</th>\n",
       "      <th>Antal vaccinerade</th>\n",
       "      <th>Andel vaccinerade</th>\n",
       "      <th>Vaccinationsstatus</th>\n",
       "    </tr>\n",
       "  </thead>\n",
       "  <tbody>\n",
       "    <tr>\n",
       "      <th>0</th>\n",
       "      <td>| Sverige |</td>\n",
       "      <td>65-69</td>\n",
       "      <td>194116</td>\n",
       "      <td>0.355942</td>\n",
       "      <td>5 doser</td>\n",
       "    </tr>\n",
       "    <tr>\n",
       "      <th>1</th>\n",
       "      <td>| Sverige |</td>\n",
       "      <td>70-79</td>\n",
       "      <td>513081</td>\n",
       "      <td>0.496636</td>\n",
       "      <td>5 doser</td>\n",
       "    </tr>\n",
       "    <tr>\n",
       "      <th>2</th>\n",
       "      <td>| Sverige |</td>\n",
       "      <td>80-89</td>\n",
       "      <td>309976</td>\n",
       "      <td>0.624008</td>\n",
       "      <td>5 doser</td>\n",
       "    </tr>\n",
       "    <tr>\n",
       "      <th>3</th>\n",
       "      <td>| Sverige |</td>\n",
       "      <td>90 eller äldre</td>\n",
       "      <td>66927</td>\n",
       "      <td>0.586354</td>\n",
       "      <td>5 doser</td>\n",
       "    </tr>\n",
       "    <tr>\n",
       "      <th>4</th>\n",
       "      <td>| Sverige |</td>\n",
       "      <td>Totalt</td>\n",
       "      <td>1084100</td>\n",
       "      <td>0.495167</td>\n",
       "      <td>5 doser</td>\n",
       "    </tr>\n",
       "  </tbody>\n",
       "</table>\n",
       "</div>"
      ],
      "text/plain": [
       "        Region     Åldersgrupp  Antal vaccinerade  Andel vaccinerade  \\\n",
       "0  | Sverige |           65-69             194116           0.355942   \n",
       "1  | Sverige |           70-79             513081           0.496636   \n",
       "2  | Sverige |           80-89             309976           0.624008   \n",
       "3  | Sverige |  90 eller äldre              66927           0.586354   \n",
       "4  | Sverige |          Totalt            1084100           0.495167   \n",
       "\n",
       "  Vaccinationsstatus  \n",
       "0            5 doser  \n",
       "1            5 doser  \n",
       "2            5 doser  \n",
       "3            5 doser  \n",
       "4            5 doser  "
      ]
     },
     "execution_count": 431,
     "metadata": {},
     "output_type": "execute_result"
    }
   ],
   "source": [
    "# for 5th dose\n",
    "df5 = pd.read_excel(\"../Labb/Data/Vaccine.xlsx\", sheet_name=\"Dos 5 per åldersgrupp\")\n",
    "df5.head()"
   ]
  },
  {
   "cell_type": "code",
   "execution_count": 432,
   "metadata": {},
   "outputs": [
    {
     "data": {
      "text/html": [
       "<div>\n",
       "<style scoped>\n",
       "    .dataframe tbody tr th:only-of-type {\n",
       "        vertical-align: middle;\n",
       "    }\n",
       "\n",
       "    .dataframe tbody tr th {\n",
       "        vertical-align: top;\n",
       "    }\n",
       "\n",
       "    .dataframe thead th {\n",
       "        text-align: right;\n",
       "    }\n",
       "</style>\n",
       "<table border=\"1\" class=\"dataframe\">\n",
       "  <thead>\n",
       "    <tr style=\"text-align: right;\">\n",
       "      <th></th>\n",
       "      <th>Åldersgrupp</th>\n",
       "      <th>Antal 5 doser</th>\n",
       "    </tr>\n",
       "  </thead>\n",
       "  <tbody>\n",
       "    <tr>\n",
       "      <th>0</th>\n",
       "      <td>65-69</td>\n",
       "      <td>194116</td>\n",
       "    </tr>\n",
       "    <tr>\n",
       "      <th>1</th>\n",
       "      <td>70-79</td>\n",
       "      <td>513081</td>\n",
       "    </tr>\n",
       "    <tr>\n",
       "      <th>2</th>\n",
       "      <td>80-89</td>\n",
       "      <td>309976</td>\n",
       "    </tr>\n",
       "    <tr>\n",
       "      <th>3</th>\n",
       "      <td>90 eller äldre</td>\n",
       "      <td>66927</td>\n",
       "    </tr>\n",
       "    <tr>\n",
       "      <th>4</th>\n",
       "      <td>Totalt</td>\n",
       "      <td>1084100</td>\n",
       "    </tr>\n",
       "  </tbody>\n",
       "</table>\n",
       "</div>"
      ],
      "text/plain": [
       "      Åldersgrupp  Antal 5 doser\n",
       "0           65-69         194116\n",
       "1           70-79         513081\n",
       "2           80-89         309976\n",
       "3  90 eller äldre          66927\n",
       "4          Totalt        1084100"
      ]
     },
     "execution_count": 432,
     "metadata": {},
     "output_type": "execute_result"
    }
   ],
   "source": [
    "df5= df5.groupby(\"Åldersgrupp\")[[\"Antal vaccinerade\"]].max().reset_index()\n",
    "df5 = df5.rename(columns={\"Antal vaccinerade\":\"Antal 5 doser\"}) # change name as above doses\n",
    "df5"
   ]
  },
  {
   "cell_type": "code",
   "execution_count": 433,
   "metadata": {},
   "outputs": [
    {
     "data": {
      "text/html": [
       "<div>\n",
       "<style scoped>\n",
       "    .dataframe tbody tr th:only-of-type {\n",
       "        vertical-align: middle;\n",
       "    }\n",
       "\n",
       "    .dataframe tbody tr th {\n",
       "        vertical-align: top;\n",
       "    }\n",
       "\n",
       "    .dataframe thead th {\n",
       "        text-align: right;\n",
       "    }\n",
       "</style>\n",
       "<table border=\"1\" class=\"dataframe\">\n",
       "  <thead>\n",
       "    <tr style=\"text-align: right;\">\n",
       "      <th></th>\n",
       "      <th>Åldersgrupp</th>\n",
       "      <th>Antal minst 1 dos</th>\n",
       "      <th>Antal minst 2 doser</th>\n",
       "      <th>Antal 3 doser</th>\n",
       "      <th>Antal 4 doser</th>\n",
       "      <th>Antal 5 doser</th>\n",
       "    </tr>\n",
       "  </thead>\n",
       "  <tbody>\n",
       "    <tr>\n",
       "      <th>0</th>\n",
       "      <td>12-15</td>\n",
       "      <td>278405</td>\n",
       "      <td>255541</td>\n",
       "      <td>0.0</td>\n",
       "      <td>NaN</td>\n",
       "      <td>NaN</td>\n",
       "    </tr>\n",
       "    <tr>\n",
       "      <th>1</th>\n",
       "      <td>16-17</td>\n",
       "      <td>187077</td>\n",
       "      <td>175480</td>\n",
       "      <td>0.0</td>\n",
       "      <td>NaN</td>\n",
       "      <td>NaN</td>\n",
       "    </tr>\n",
       "    <tr>\n",
       "      <th>2</th>\n",
       "      <td>18-29</td>\n",
       "      <td>1201569</td>\n",
       "      <td>1144897</td>\n",
       "      <td>573532.0</td>\n",
       "      <td>NaN</td>\n",
       "      <td>NaN</td>\n",
       "    </tr>\n",
       "    <tr>\n",
       "      <th>3</th>\n",
       "      <td>30-39</td>\n",
       "      <td>1190083</td>\n",
       "      <td>1148376</td>\n",
       "      <td>689647.0</td>\n",
       "      <td>NaN</td>\n",
       "      <td>NaN</td>\n",
       "    </tr>\n",
       "    <tr>\n",
       "      <th>4</th>\n",
       "      <td>40-49</td>\n",
       "      <td>1117660</td>\n",
       "      <td>1095826</td>\n",
       "      <td>791299.0</td>\n",
       "      <td>NaN</td>\n",
       "      <td>NaN</td>\n",
       "    </tr>\n",
       "    <tr>\n",
       "      <th>5</th>\n",
       "      <td>50-59</td>\n",
       "      <td>1210791</td>\n",
       "      <td>1197415</td>\n",
       "      <td>1000554.0</td>\n",
       "      <td>NaN</td>\n",
       "      <td>NaN</td>\n",
       "    </tr>\n",
       "    <tr>\n",
       "      <th>6</th>\n",
       "      <td>65-69</td>\n",
       "      <td>1044061</td>\n",
       "      <td>1036035</td>\n",
       "      <td>949409.0</td>\n",
       "      <td>376002.0</td>\n",
       "      <td>194116.0</td>\n",
       "    </tr>\n",
       "    <tr>\n",
       "      <th>7</th>\n",
       "      <td>70-79</td>\n",
       "      <td>990440</td>\n",
       "      <td>985748</td>\n",
       "      <td>951943.0</td>\n",
       "      <td>828445.0</td>\n",
       "      <td>513081.0</td>\n",
       "    </tr>\n",
       "    <tr>\n",
       "      <th>8</th>\n",
       "      <td>80-89</td>\n",
       "      <td>480671</td>\n",
       "      <td>479037</td>\n",
       "      <td>468149.0</td>\n",
       "      <td>428931.0</td>\n",
       "      <td>309976.0</td>\n",
       "    </tr>\n",
       "    <tr>\n",
       "      <th>9</th>\n",
       "      <td>90 eller äldre</td>\n",
       "      <td>109619</td>\n",
       "      <td>109230</td>\n",
       "      <td>106717.0</td>\n",
       "      <td>97491.0</td>\n",
       "      <td>66927.0</td>\n",
       "    </tr>\n",
       "  </tbody>\n",
       "</table>\n",
       "</div>"
      ],
      "text/plain": [
       "      Åldersgrupp  Antal minst 1 dos  Antal minst 2 doser  Antal 3 doser  \\\n",
       "0           12-15             278405               255541            0.0   \n",
       "1           16-17             187077               175480            0.0   \n",
       "2           18-29            1201569              1144897       573532.0   \n",
       "3           30-39            1190083              1148376       689647.0   \n",
       "4           40-49            1117660              1095826       791299.0   \n",
       "5           50-59            1210791              1197415      1000554.0   \n",
       "6           65-69            1044061              1036035       949409.0   \n",
       "7           70-79             990440               985748       951943.0   \n",
       "8           80-89             480671               479037       468149.0   \n",
       "9  90 eller äldre             109619               109230       106717.0   \n",
       "\n",
       "   Antal 4 doser  Antal 5 doser  \n",
       "0            NaN            NaN  \n",
       "1            NaN            NaN  \n",
       "2            NaN            NaN  \n",
       "3            NaN            NaN  \n",
       "4            NaN            NaN  \n",
       "5            NaN            NaN  \n",
       "6       376002.0       194116.0  \n",
       "7       828445.0       513081.0  \n",
       "8       428931.0       309976.0  \n",
       "9        97491.0        66927.0  "
      ]
     },
     "execution_count": 433,
     "metadata": {},
     "output_type": "execute_result"
    }
   ],
   "source": [
    "# Merge all the doses\n",
    "df_total = df1_to_3.merge(df4,on=\"Åldersgrupp\",how = \"left\").merge(df5,on=\"Åldersgrupp\",how = \"left\")\n",
    "df_total"
   ]
  },
  {
   "cell_type": "code",
   "execution_count": 434,
   "metadata": {},
   "outputs": [
    {
     "data": {
      "application/vnd.plotly.v1+json": {
       "config": {
        "plotlyServerURL": "https://plot.ly"
       },
       "data": [
        {
         "alignmentgroup": "True",
         "hovertemplate": "Doses=Antal minst 1 dos<br>Age groups=%{x}<br>Population=%{y}<extra></extra>",
         "legendgroup": "Antal minst 1 dos",
         "marker": {
          "color": "#636efa",
          "pattern": {
           "shape": ""
          }
         },
         "name": "Antal minst 1 dos",
         "offsetgroup": "Antal minst 1 dos",
         "orientation": "v",
         "showlegend": true,
         "textposition": "auto",
         "type": "bar",
         "x": [
          "12-15",
          "16-17",
          "18-29",
          "30-39",
          "40-49",
          "50-59",
          "65-69",
          "70-79",
          "80-89",
          "90 eller äldre"
         ],
         "xaxis": "x",
         "y": [
          278405,
          187077,
          1201569,
          1190083,
          1117660,
          1210791,
          1044061,
          990440,
          480671,
          109619
         ],
         "yaxis": "y"
        },
        {
         "alignmentgroup": "True",
         "hovertemplate": "Doses=Antal minst 2 doser<br>Age groups=%{x}<br>Population=%{y}<extra></extra>",
         "legendgroup": "Antal minst 2 doser",
         "marker": {
          "color": "#EF553B",
          "pattern": {
           "shape": ""
          }
         },
         "name": "Antal minst 2 doser",
         "offsetgroup": "Antal minst 2 doser",
         "orientation": "v",
         "showlegend": true,
         "textposition": "auto",
         "type": "bar",
         "x": [
          "12-15",
          "16-17",
          "18-29",
          "30-39",
          "40-49",
          "50-59",
          "65-69",
          "70-79",
          "80-89",
          "90 eller äldre"
         ],
         "xaxis": "x",
         "y": [
          255541,
          175480,
          1144897,
          1148376,
          1095826,
          1197415,
          1036035,
          985748,
          479037,
          109230
         ],
         "yaxis": "y"
        },
        {
         "alignmentgroup": "True",
         "hovertemplate": "Doses=Antal 3 doser<br>Age groups=%{x}<br>Population=%{y}<extra></extra>",
         "legendgroup": "Antal 3 doser",
         "marker": {
          "color": "#00cc96",
          "pattern": {
           "shape": ""
          }
         },
         "name": "Antal 3 doser",
         "offsetgroup": "Antal 3 doser",
         "orientation": "v",
         "showlegend": true,
         "textposition": "auto",
         "type": "bar",
         "x": [
          "12-15",
          "16-17",
          "18-29",
          "30-39",
          "40-49",
          "50-59",
          "65-69",
          "70-79",
          "80-89",
          "90 eller äldre"
         ],
         "xaxis": "x",
         "y": [
          0,
          0,
          573532,
          689647,
          791299,
          1000554,
          949409,
          951943,
          468149,
          106717
         ],
         "yaxis": "y"
        },
        {
         "alignmentgroup": "True",
         "hovertemplate": "Doses=Antal 4 doser<br>Age groups=%{x}<br>Population=%{y}<extra></extra>",
         "legendgroup": "Antal 4 doser",
         "marker": {
          "color": "#ab63fa",
          "pattern": {
           "shape": ""
          }
         },
         "name": "Antal 4 doser",
         "offsetgroup": "Antal 4 doser",
         "orientation": "v",
         "showlegend": true,
         "textposition": "auto",
         "type": "bar",
         "x": [
          "12-15",
          "16-17",
          "18-29",
          "30-39",
          "40-49",
          "50-59",
          "65-69",
          "70-79",
          "80-89",
          "90 eller äldre"
         ],
         "xaxis": "x",
         "y": [
          null,
          null,
          null,
          null,
          null,
          null,
          376002,
          828445,
          428931,
          97491
         ],
         "yaxis": "y"
        },
        {
         "alignmentgroup": "True",
         "hovertemplate": "Doses=Antal 5 doser<br>Age groups=%{x}<br>Population=%{y}<extra></extra>",
         "legendgroup": "Antal 5 doser",
         "marker": {
          "color": "#FFA15A",
          "pattern": {
           "shape": ""
          }
         },
         "name": "Antal 5 doser",
         "offsetgroup": "Antal 5 doser",
         "orientation": "v",
         "showlegend": true,
         "textposition": "auto",
         "type": "bar",
         "x": [
          "12-15",
          "16-17",
          "18-29",
          "30-39",
          "40-49",
          "50-59",
          "65-69",
          "70-79",
          "80-89",
          "90 eller äldre"
         ],
         "xaxis": "x",
         "y": [
          null,
          null,
          null,
          null,
          null,
          null,
          194116,
          513081,
          309976,
          66927
         ],
         "yaxis": "y"
        }
       ],
       "layout": {
        "barmode": "group",
        "legend": {
         "title": {
          "text": "Doses"
         },
         "tracegroupgap": 0
        },
        "template": {
         "data": {
          "bar": [
           {
            "error_x": {
             "color": "#2a3f5f"
            },
            "error_y": {
             "color": "#2a3f5f"
            },
            "marker": {
             "line": {
              "color": "#E5ECF6",
              "width": 0.5
             },
             "pattern": {
              "fillmode": "overlay",
              "size": 10,
              "solidity": 0.2
             }
            },
            "type": "bar"
           }
          ],
          "barpolar": [
           {
            "marker": {
             "line": {
              "color": "#E5ECF6",
              "width": 0.5
             },
             "pattern": {
              "fillmode": "overlay",
              "size": 10,
              "solidity": 0.2
             }
            },
            "type": "barpolar"
           }
          ],
          "carpet": [
           {
            "aaxis": {
             "endlinecolor": "#2a3f5f",
             "gridcolor": "white",
             "linecolor": "white",
             "minorgridcolor": "white",
             "startlinecolor": "#2a3f5f"
            },
            "baxis": {
             "endlinecolor": "#2a3f5f",
             "gridcolor": "white",
             "linecolor": "white",
             "minorgridcolor": "white",
             "startlinecolor": "#2a3f5f"
            },
            "type": "carpet"
           }
          ],
          "choropleth": [
           {
            "colorbar": {
             "outlinewidth": 0,
             "ticks": ""
            },
            "type": "choropleth"
           }
          ],
          "contour": [
           {
            "colorbar": {
             "outlinewidth": 0,
             "ticks": ""
            },
            "colorscale": [
             [
              0,
              "#0d0887"
             ],
             [
              0.1111111111111111,
              "#46039f"
             ],
             [
              0.2222222222222222,
              "#7201a8"
             ],
             [
              0.3333333333333333,
              "#9c179e"
             ],
             [
              0.4444444444444444,
              "#bd3786"
             ],
             [
              0.5555555555555556,
              "#d8576b"
             ],
             [
              0.6666666666666666,
              "#ed7953"
             ],
             [
              0.7777777777777778,
              "#fb9f3a"
             ],
             [
              0.8888888888888888,
              "#fdca26"
             ],
             [
              1,
              "#f0f921"
             ]
            ],
            "type": "contour"
           }
          ],
          "contourcarpet": [
           {
            "colorbar": {
             "outlinewidth": 0,
             "ticks": ""
            },
            "type": "contourcarpet"
           }
          ],
          "heatmap": [
           {
            "colorbar": {
             "outlinewidth": 0,
             "ticks": ""
            },
            "colorscale": [
             [
              0,
              "#0d0887"
             ],
             [
              0.1111111111111111,
              "#46039f"
             ],
             [
              0.2222222222222222,
              "#7201a8"
             ],
             [
              0.3333333333333333,
              "#9c179e"
             ],
             [
              0.4444444444444444,
              "#bd3786"
             ],
             [
              0.5555555555555556,
              "#d8576b"
             ],
             [
              0.6666666666666666,
              "#ed7953"
             ],
             [
              0.7777777777777778,
              "#fb9f3a"
             ],
             [
              0.8888888888888888,
              "#fdca26"
             ],
             [
              1,
              "#f0f921"
             ]
            ],
            "type": "heatmap"
           }
          ],
          "heatmapgl": [
           {
            "colorbar": {
             "outlinewidth": 0,
             "ticks": ""
            },
            "colorscale": [
             [
              0,
              "#0d0887"
             ],
             [
              0.1111111111111111,
              "#46039f"
             ],
             [
              0.2222222222222222,
              "#7201a8"
             ],
             [
              0.3333333333333333,
              "#9c179e"
             ],
             [
              0.4444444444444444,
              "#bd3786"
             ],
             [
              0.5555555555555556,
              "#d8576b"
             ],
             [
              0.6666666666666666,
              "#ed7953"
             ],
             [
              0.7777777777777778,
              "#fb9f3a"
             ],
             [
              0.8888888888888888,
              "#fdca26"
             ],
             [
              1,
              "#f0f921"
             ]
            ],
            "type": "heatmapgl"
           }
          ],
          "histogram": [
           {
            "marker": {
             "pattern": {
              "fillmode": "overlay",
              "size": 10,
              "solidity": 0.2
             }
            },
            "type": "histogram"
           }
          ],
          "histogram2d": [
           {
            "colorbar": {
             "outlinewidth": 0,
             "ticks": ""
            },
            "colorscale": [
             [
              0,
              "#0d0887"
             ],
             [
              0.1111111111111111,
              "#46039f"
             ],
             [
              0.2222222222222222,
              "#7201a8"
             ],
             [
              0.3333333333333333,
              "#9c179e"
             ],
             [
              0.4444444444444444,
              "#bd3786"
             ],
             [
              0.5555555555555556,
              "#d8576b"
             ],
             [
              0.6666666666666666,
              "#ed7953"
             ],
             [
              0.7777777777777778,
              "#fb9f3a"
             ],
             [
              0.8888888888888888,
              "#fdca26"
             ],
             [
              1,
              "#f0f921"
             ]
            ],
            "type": "histogram2d"
           }
          ],
          "histogram2dcontour": [
           {
            "colorbar": {
             "outlinewidth": 0,
             "ticks": ""
            },
            "colorscale": [
             [
              0,
              "#0d0887"
             ],
             [
              0.1111111111111111,
              "#46039f"
             ],
             [
              0.2222222222222222,
              "#7201a8"
             ],
             [
              0.3333333333333333,
              "#9c179e"
             ],
             [
              0.4444444444444444,
              "#bd3786"
             ],
             [
              0.5555555555555556,
              "#d8576b"
             ],
             [
              0.6666666666666666,
              "#ed7953"
             ],
             [
              0.7777777777777778,
              "#fb9f3a"
             ],
             [
              0.8888888888888888,
              "#fdca26"
             ],
             [
              1,
              "#f0f921"
             ]
            ],
            "type": "histogram2dcontour"
           }
          ],
          "mesh3d": [
           {
            "colorbar": {
             "outlinewidth": 0,
             "ticks": ""
            },
            "type": "mesh3d"
           }
          ],
          "parcoords": [
           {
            "line": {
             "colorbar": {
              "outlinewidth": 0,
              "ticks": ""
             }
            },
            "type": "parcoords"
           }
          ],
          "pie": [
           {
            "automargin": true,
            "type": "pie"
           }
          ],
          "scatter": [
           {
            "fillpattern": {
             "fillmode": "overlay",
             "size": 10,
             "solidity": 0.2
            },
            "type": "scatter"
           }
          ],
          "scatter3d": [
           {
            "line": {
             "colorbar": {
              "outlinewidth": 0,
              "ticks": ""
             }
            },
            "marker": {
             "colorbar": {
              "outlinewidth": 0,
              "ticks": ""
             }
            },
            "type": "scatter3d"
           }
          ],
          "scattercarpet": [
           {
            "marker": {
             "colorbar": {
              "outlinewidth": 0,
              "ticks": ""
             }
            },
            "type": "scattercarpet"
           }
          ],
          "scattergeo": [
           {
            "marker": {
             "colorbar": {
              "outlinewidth": 0,
              "ticks": ""
             }
            },
            "type": "scattergeo"
           }
          ],
          "scattergl": [
           {
            "marker": {
             "colorbar": {
              "outlinewidth": 0,
              "ticks": ""
             }
            },
            "type": "scattergl"
           }
          ],
          "scattermapbox": [
           {
            "marker": {
             "colorbar": {
              "outlinewidth": 0,
              "ticks": ""
             }
            },
            "type": "scattermapbox"
           }
          ],
          "scatterpolar": [
           {
            "marker": {
             "colorbar": {
              "outlinewidth": 0,
              "ticks": ""
             }
            },
            "type": "scatterpolar"
           }
          ],
          "scatterpolargl": [
           {
            "marker": {
             "colorbar": {
              "outlinewidth": 0,
              "ticks": ""
             }
            },
            "type": "scatterpolargl"
           }
          ],
          "scatterternary": [
           {
            "marker": {
             "colorbar": {
              "outlinewidth": 0,
              "ticks": ""
             }
            },
            "type": "scatterternary"
           }
          ],
          "surface": [
           {
            "colorbar": {
             "outlinewidth": 0,
             "ticks": ""
            },
            "colorscale": [
             [
              0,
              "#0d0887"
             ],
             [
              0.1111111111111111,
              "#46039f"
             ],
             [
              0.2222222222222222,
              "#7201a8"
             ],
             [
              0.3333333333333333,
              "#9c179e"
             ],
             [
              0.4444444444444444,
              "#bd3786"
             ],
             [
              0.5555555555555556,
              "#d8576b"
             ],
             [
              0.6666666666666666,
              "#ed7953"
             ],
             [
              0.7777777777777778,
              "#fb9f3a"
             ],
             [
              0.8888888888888888,
              "#fdca26"
             ],
             [
              1,
              "#f0f921"
             ]
            ],
            "type": "surface"
           }
          ],
          "table": [
           {
            "cells": {
             "fill": {
              "color": "#EBF0F8"
             },
             "line": {
              "color": "white"
             }
            },
            "header": {
             "fill": {
              "color": "#C8D4E3"
             },
             "line": {
              "color": "white"
             }
            },
            "type": "table"
           }
          ]
         },
         "layout": {
          "annotationdefaults": {
           "arrowcolor": "#2a3f5f",
           "arrowhead": 0,
           "arrowwidth": 1
          },
          "autotypenumbers": "strict",
          "coloraxis": {
           "colorbar": {
            "outlinewidth": 0,
            "ticks": ""
           }
          },
          "colorscale": {
           "diverging": [
            [
             0,
             "#8e0152"
            ],
            [
             0.1,
             "#c51b7d"
            ],
            [
             0.2,
             "#de77ae"
            ],
            [
             0.3,
             "#f1b6da"
            ],
            [
             0.4,
             "#fde0ef"
            ],
            [
             0.5,
             "#f7f7f7"
            ],
            [
             0.6,
             "#e6f5d0"
            ],
            [
             0.7,
             "#b8e186"
            ],
            [
             0.8,
             "#7fbc41"
            ],
            [
             0.9,
             "#4d9221"
            ],
            [
             1,
             "#276419"
            ]
           ],
           "sequential": [
            [
             0,
             "#0d0887"
            ],
            [
             0.1111111111111111,
             "#46039f"
            ],
            [
             0.2222222222222222,
             "#7201a8"
            ],
            [
             0.3333333333333333,
             "#9c179e"
            ],
            [
             0.4444444444444444,
             "#bd3786"
            ],
            [
             0.5555555555555556,
             "#d8576b"
            ],
            [
             0.6666666666666666,
             "#ed7953"
            ],
            [
             0.7777777777777778,
             "#fb9f3a"
            ],
            [
             0.8888888888888888,
             "#fdca26"
            ],
            [
             1,
             "#f0f921"
            ]
           ],
           "sequentialminus": [
            [
             0,
             "#0d0887"
            ],
            [
             0.1111111111111111,
             "#46039f"
            ],
            [
             0.2222222222222222,
             "#7201a8"
            ],
            [
             0.3333333333333333,
             "#9c179e"
            ],
            [
             0.4444444444444444,
             "#bd3786"
            ],
            [
             0.5555555555555556,
             "#d8576b"
            ],
            [
             0.6666666666666666,
             "#ed7953"
            ],
            [
             0.7777777777777778,
             "#fb9f3a"
            ],
            [
             0.8888888888888888,
             "#fdca26"
            ],
            [
             1,
             "#f0f921"
            ]
           ]
          },
          "colorway": [
           "#636efa",
           "#EF553B",
           "#00cc96",
           "#ab63fa",
           "#FFA15A",
           "#19d3f3",
           "#FF6692",
           "#B6E880",
           "#FF97FF",
           "#FECB52"
          ],
          "font": {
           "color": "#2a3f5f"
          },
          "geo": {
           "bgcolor": "white",
           "lakecolor": "white",
           "landcolor": "#E5ECF6",
           "showlakes": true,
           "showland": true,
           "subunitcolor": "white"
          },
          "hoverlabel": {
           "align": "left"
          },
          "hovermode": "closest",
          "mapbox": {
           "style": "light"
          },
          "paper_bgcolor": "white",
          "plot_bgcolor": "#E5ECF6",
          "polar": {
           "angularaxis": {
            "gridcolor": "white",
            "linecolor": "white",
            "ticks": ""
           },
           "bgcolor": "#E5ECF6",
           "radialaxis": {
            "gridcolor": "white",
            "linecolor": "white",
            "ticks": ""
           }
          },
          "scene": {
           "xaxis": {
            "backgroundcolor": "#E5ECF6",
            "gridcolor": "white",
            "gridwidth": 2,
            "linecolor": "white",
            "showbackground": true,
            "ticks": "",
            "zerolinecolor": "white"
           },
           "yaxis": {
            "backgroundcolor": "#E5ECF6",
            "gridcolor": "white",
            "gridwidth": 2,
            "linecolor": "white",
            "showbackground": true,
            "ticks": "",
            "zerolinecolor": "white"
           },
           "zaxis": {
            "backgroundcolor": "#E5ECF6",
            "gridcolor": "white",
            "gridwidth": 2,
            "linecolor": "white",
            "showbackground": true,
            "ticks": "",
            "zerolinecolor": "white"
           }
          },
          "shapedefaults": {
           "line": {
            "color": "#2a3f5f"
           }
          },
          "ternary": {
           "aaxis": {
            "gridcolor": "white",
            "linecolor": "white",
            "ticks": ""
           },
           "baxis": {
            "gridcolor": "white",
            "linecolor": "white",
            "ticks": ""
           },
           "bgcolor": "#E5ECF6",
           "caxis": {
            "gridcolor": "white",
            "linecolor": "white",
            "ticks": ""
           }
          },
          "title": {
           "x": 0.05
          },
          "xaxis": {
           "automargin": true,
           "gridcolor": "white",
           "linecolor": "white",
           "ticks": "",
           "title": {
            "standoff": 15
           },
           "zerolinecolor": "white",
           "zerolinewidth": 2
          },
          "yaxis": {
           "automargin": true,
           "gridcolor": "white",
           "linecolor": "white",
           "ticks": "",
           "title": {
            "standoff": 15
           },
           "zerolinecolor": "white",
           "zerolinewidth": 2
          }
         }
        },
        "title": {
         "text": "Number of doses taken by different age groups"
        },
        "xaxis": {
         "anchor": "y",
         "domain": [
          0,
          1
         ],
         "title": {
          "text": "Age groups"
         }
        },
        "yaxis": {
         "anchor": "x",
         "domain": [
          0,
          1
         ],
         "title": {
          "text": "Population"
         }
        }
       }
      }
     },
     "metadata": {},
     "output_type": "display_data"
    }
   ],
   "source": [
    "fig = px.bar(\n",
    "    data_frame=df_total,\n",
    "    \n",
    "    x=\"Åldersgrupp\",\n",
    "    \n",
    "    y=[\"Antal minst 1 dos\", \"Antal minst 2 doser\", \"Antal 3 doser\", \"Antal 4 doser\", \"Antal 5 doser\"],\n",
    "    \n",
    "    labels={\"Åldersgrupp\": \"Age groups\", \"value\": \"Population\", \"variable\":\"Doses\"},\n",
    "    title=\"Number of doses taken by different age groups\",\n",
    "    barmode=\"group\"\n",
    "    \n",
    "\n",
    ")\n",
    "fig.show()\n",
    "#fig.write_html(\"uppgift 3-4.html\", auto_open = True)"
   ]
  },
  {
   "cell_type": "markdown",
   "metadata": {},
   "source": [
    "## #KPI 5:\n",
    "\n",
    "- Read data from Vaccine \n",
    "- Check the maximum value of vaccinated in Sweden\n",
    "- From that we get week and total number of persons\n"
   ]
  },
  {
   "cell_type": "code",
   "execution_count": 435,
   "metadata": {},
   "outputs": [
    {
     "data": {
      "text/html": [
       "<div>\n",
       "<style scoped>\n",
       "    .dataframe tbody tr th:only-of-type {\n",
       "        vertical-align: middle;\n",
       "    }\n",
       "\n",
       "    .dataframe tbody tr th {\n",
       "        vertical-align: top;\n",
       "    }\n",
       "\n",
       "    .dataframe thead th {\n",
       "        text-align: right;\n",
       "    }\n",
       "</style>\n",
       "<table border=\"1\" class=\"dataframe\">\n",
       "  <thead>\n",
       "    <tr style=\"text-align: right;\">\n",
       "      <th></th>\n",
       "      <th>Vecka</th>\n",
       "      <th>År</th>\n",
       "      <th>Region</th>\n",
       "      <th>Antal vaccinerade</th>\n",
       "      <th>Andel vaccinerade</th>\n",
       "      <th>Vaccinationsstatus</th>\n",
       "    </tr>\n",
       "  </thead>\n",
       "  <tbody>\n",
       "    <tr>\n",
       "      <th>0</th>\n",
       "      <td>3</td>\n",
       "      <td>2022</td>\n",
       "      <td>| Sverige |</td>\n",
       "      <td>20</td>\n",
       "      <td>0.000002</td>\n",
       "      <td>4 doser</td>\n",
       "    </tr>\n",
       "    <tr>\n",
       "      <th>1</th>\n",
       "      <td>3</td>\n",
       "      <td>2022</td>\n",
       "      <td>Stockholm</td>\n",
       "      <td>0</td>\n",
       "      <td>0.000000</td>\n",
       "      <td>4 doser</td>\n",
       "    </tr>\n",
       "    <tr>\n",
       "      <th>2</th>\n",
       "      <td>3</td>\n",
       "      <td>2022</td>\n",
       "      <td>Uppsala</td>\n",
       "      <td>0</td>\n",
       "      <td>0.000000</td>\n",
       "      <td>4 doser</td>\n",
       "    </tr>\n",
       "    <tr>\n",
       "      <th>3</th>\n",
       "      <td>3</td>\n",
       "      <td>2022</td>\n",
       "      <td>Södermanland</td>\n",
       "      <td>5</td>\n",
       "      <td>0.000021</td>\n",
       "      <td>4 doser</td>\n",
       "    </tr>\n",
       "    <tr>\n",
       "      <th>4</th>\n",
       "      <td>3</td>\n",
       "      <td>2022</td>\n",
       "      <td>Östergötland</td>\n",
       "      <td>0</td>\n",
       "      <td>0.000000</td>\n",
       "      <td>4 doser</td>\n",
       "    </tr>\n",
       "  </tbody>\n",
       "</table>\n",
       "</div>"
      ],
      "text/plain": [
       "   Vecka    År        Region  Antal vaccinerade  Andel vaccinerade  \\\n",
       "0      3  2022   | Sverige |                 20           0.000002   \n",
       "1      3  2022     Stockholm                  0           0.000000   \n",
       "2      3  2022       Uppsala                  0           0.000000   \n",
       "3      3  2022  Södermanland                  5           0.000021   \n",
       "4      3  2022  Östergötland                  0           0.000000   \n",
       "\n",
       "  Vaccinationsstatus  \n",
       "0            4 doser  \n",
       "1            4 doser  \n",
       "2            4 doser  \n",
       "3            4 doser  \n",
       "4            4 doser  "
      ]
     },
     "execution_count": 435,
     "metadata": {},
     "output_type": "execute_result"
    }
   ],
   "source": [
    "df = pd.read_excel(\"../Labb/Data/Vaccine.xlsx\", sheet_name=\"Vaccinerade tidsserie dos 4\")\n",
    "df.head()"
   ]
  },
  {
   "cell_type": "code",
   "execution_count": 436,
   "metadata": {},
   "outputs": [
    {
     "data": {
      "text/html": [
       "<div>\n",
       "<style scoped>\n",
       "    .dataframe tbody tr th:only-of-type {\n",
       "        vertical-align: middle;\n",
       "    }\n",
       "\n",
       "    .dataframe tbody tr th {\n",
       "        vertical-align: top;\n",
       "    }\n",
       "\n",
       "    .dataframe thead th {\n",
       "        text-align: right;\n",
       "    }\n",
       "</style>\n",
       "<table border=\"1\" class=\"dataframe\">\n",
       "  <thead>\n",
       "    <tr style=\"text-align: right;\">\n",
       "      <th></th>\n",
       "      <th>Vecka</th>\n",
       "      <th>År</th>\n",
       "      <th>Region</th>\n",
       "      <th>Antal vaccinerade</th>\n",
       "      <th>Andel vaccinerade</th>\n",
       "      <th>Vaccinationsstatus</th>\n",
       "    </tr>\n",
       "  </thead>\n",
       "  <tbody>\n",
       "    <tr>\n",
       "      <th>858</th>\n",
       "      <td>42</td>\n",
       "      <td>2022</td>\n",
       "      <td>| Sverige |</td>\n",
       "      <td>2427338</td>\n",
       "      <td>0.290789</td>\n",
       "      <td>4 doser</td>\n",
       "    </tr>\n",
       "  </tbody>\n",
       "</table>\n",
       "</div>"
      ],
      "text/plain": [
       "     Vecka    År       Region  Antal vaccinerade  Andel vaccinerade  \\\n",
       "858     42  2022  | Sverige |            2427338           0.290789   \n",
       "\n",
       "    Vaccinationsstatus  \n",
       "858            4 doser  "
      ]
     },
     "execution_count": 436,
     "metadata": {},
     "output_type": "execute_result"
    }
   ],
   "source": [
    "df[df[\"Antal vaccinerade\"] == df[\"Antal vaccinerade\"].max()]"
   ]
  },
  {
   "cell_type": "markdown",
   "metadata": {},
   "source": [
    "### --> The total number of persons in Sweden took 4 doses based on dataset  are 2427338 on Vecka42 2022"
   ]
  },
  {
   "cell_type": "markdown",
   "metadata": {},
   "source": [
    "## # KPI 6:\n",
    "\n",
    "- Read data from Vaccine with diffenent number of sheets\n",
    "- Collect data with commun have all doses from different sheets\n",
    "- Merge data of all communities with 5 doses\n",
    "- Plot graph"
   ]
  },
  {
   "cell_type": "code",
   "execution_count": 437,
   "metadata": {},
   "outputs": [
    {
     "data": {
      "text/html": [
       "<div>\n",
       "<style scoped>\n",
       "    .dataframe tbody tr th:only-of-type {\n",
       "        vertical-align: middle;\n",
       "    }\n",
       "\n",
       "    .dataframe tbody tr th {\n",
       "        vertical-align: top;\n",
       "    }\n",
       "\n",
       "    .dataframe thead th {\n",
       "        text-align: right;\n",
       "    }\n",
       "</style>\n",
       "<table border=\"1\" class=\"dataframe\">\n",
       "  <thead>\n",
       "    <tr style=\"text-align: right;\">\n",
       "      <th></th>\n",
       "      <th>KnKod</th>\n",
       "      <th>KnNamn</th>\n",
       "      <th>Antal_dos1</th>\n",
       "      <th>Antal_dos2</th>\n",
       "      <th>Andel_dos1</th>\n",
       "      <th>Andel_dos2</th>\n",
       "    </tr>\n",
       "  </thead>\n",
       "  <tbody>\n",
       "    <tr>\n",
       "      <th>0</th>\n",
       "      <td>114</td>\n",
       "      <td>Upplands Väsby</td>\n",
       "      <td>33514</td>\n",
       "      <td>32224</td>\n",
       "      <td>0.808677</td>\n",
       "      <td>0.777550</td>\n",
       "    </tr>\n",
       "    <tr>\n",
       "      <th>1</th>\n",
       "      <td>115</td>\n",
       "      <td>Vallentuna</td>\n",
       "      <td>25425</td>\n",
       "      <td>24744</td>\n",
       "      <td>0.864443</td>\n",
       "      <td>0.841289</td>\n",
       "    </tr>\n",
       "    <tr>\n",
       "      <th>2</th>\n",
       "      <td>117</td>\n",
       "      <td>Österåker</td>\n",
       "      <td>36270</td>\n",
       "      <td>35217</td>\n",
       "      <td>0.870766</td>\n",
       "      <td>0.845485</td>\n",
       "    </tr>\n",
       "    <tr>\n",
       "      <th>3</th>\n",
       "      <td>120</td>\n",
       "      <td>Värmdö</td>\n",
       "      <td>34602</td>\n",
       "      <td>33528</td>\n",
       "      <td>0.870688</td>\n",
       "      <td>0.843663</td>\n",
       "    </tr>\n",
       "    <tr>\n",
       "      <th>4</th>\n",
       "      <td>123</td>\n",
       "      <td>Järfälla</td>\n",
       "      <td>57901</td>\n",
       "      <td>55476</td>\n",
       "      <td>0.806073</td>\n",
       "      <td>0.772313</td>\n",
       "    </tr>\n",
       "  </tbody>\n",
       "</table>\n",
       "</div>"
      ],
      "text/plain": [
       "   KnKod          KnNamn  Antal_dos1  Antal_dos2  Andel_dos1  Andel_dos2\n",
       "0    114  Upplands Väsby       33514       32224    0.808677    0.777550\n",
       "1    115      Vallentuna       25425       24744    0.864443    0.841289\n",
       "2    117       Österåker       36270       35217    0.870766    0.845485\n",
       "3    120          Värmdö       34602       33528    0.870688    0.843663\n",
       "4    123        Järfälla       57901       55476    0.806073    0.772313"
      ]
     },
     "execution_count": 437,
     "metadata": {},
     "output_type": "execute_result"
    }
   ],
   "source": [
    "# data for all communities have 1 and 2 doser\n",
    "df1 = pd.read_excel(\"../Labb/Data/Vaccine.xlsx\", sheet_name=\"Vaccinerade kommun\") \n",
    "df1.head()"
   ]
  },
  {
   "cell_type": "code",
   "execution_count": 438,
   "metadata": {},
   "outputs": [
    {
     "data": {
      "text/html": [
       "<div>\n",
       "<style scoped>\n",
       "    .dataframe tbody tr th:only-of-type {\n",
       "        vertical-align: middle;\n",
       "    }\n",
       "\n",
       "    .dataframe tbody tr th {\n",
       "        vertical-align: top;\n",
       "    }\n",
       "\n",
       "    .dataframe thead th {\n",
       "        text-align: right;\n",
       "    }\n",
       "</style>\n",
       "<table border=\"1\" class=\"dataframe\">\n",
       "  <thead>\n",
       "    <tr style=\"text-align: right;\">\n",
       "      <th></th>\n",
       "      <th>KnKod</th>\n",
       "      <th>KnNamn</th>\n",
       "      <th>Antal_dos3</th>\n",
       "      <th>Andel_dos3</th>\n",
       "    </tr>\n",
       "  </thead>\n",
       "  <tbody>\n",
       "    <tr>\n",
       "      <th>0</th>\n",
       "      <td>114</td>\n",
       "      <td>Upplands Väsby</td>\n",
       "      <td>22131</td>\n",
       "      <td>0.585198</td>\n",
       "    </tr>\n",
       "    <tr>\n",
       "      <th>1</th>\n",
       "      <td>115</td>\n",
       "      <td>Vallentuna</td>\n",
       "      <td>18072</td>\n",
       "      <td>0.687436</td>\n",
       "    </tr>\n",
       "    <tr>\n",
       "      <th>2</th>\n",
       "      <td>117</td>\n",
       "      <td>Österåker</td>\n",
       "      <td>26146</td>\n",
       "      <td>0.694966</td>\n",
       "    </tr>\n",
       "    <tr>\n",
       "      <th>3</th>\n",
       "      <td>120</td>\n",
       "      <td>Värmdö</td>\n",
       "      <td>24513</td>\n",
       "      <td>0.683823</td>\n",
       "    </tr>\n",
       "    <tr>\n",
       "      <th>4</th>\n",
       "      <td>123</td>\n",
       "      <td>Järfälla</td>\n",
       "      <td>36822</td>\n",
       "      <td>0.562726</td>\n",
       "    </tr>\n",
       "  </tbody>\n",
       "</table>\n",
       "</div>"
      ],
      "text/plain": [
       "   KnKod          KnNamn  Antal_dos3  Andel_dos3\n",
       "0    114  Upplands Väsby       22131    0.585198\n",
       "1    115      Vallentuna       18072    0.687436\n",
       "2    117       Österåker       26146    0.694966\n",
       "3    120          Värmdö       24513    0.683823\n",
       "4    123        Järfälla       36822    0.562726"
      ]
     },
     "execution_count": 438,
     "metadata": {},
     "output_type": "execute_result"
    }
   ],
   "source": [
    "# data for all communities have  3rd dose\n",
    "df2 = pd.read_excel(\"../Labb/Data/Vaccine.xlsx\", sheet_name=\"Vaccinerade kommun dos 3\")\n",
    "df2.head()"
   ]
  },
  {
   "cell_type": "code",
   "execution_count": 439,
   "metadata": {},
   "outputs": [
    {
     "data": {
      "text/html": [
       "<div>\n",
       "<style scoped>\n",
       "    .dataframe tbody tr th:only-of-type {\n",
       "        vertical-align: middle;\n",
       "    }\n",
       "\n",
       "    .dataframe tbody tr th {\n",
       "        vertical-align: top;\n",
       "    }\n",
       "\n",
       "    .dataframe thead th {\n",
       "        text-align: right;\n",
       "    }\n",
       "</style>\n",
       "<table border=\"1\" class=\"dataframe\">\n",
       "  <thead>\n",
       "    <tr style=\"text-align: right;\">\n",
       "      <th></th>\n",
       "      <th>KnKod</th>\n",
       "      <th>KnNamn</th>\n",
       "      <th>Antal_dos4</th>\n",
       "      <th>Andel_dos4</th>\n",
       "    </tr>\n",
       "  </thead>\n",
       "  <tbody>\n",
       "    <tr>\n",
       "      <th>0</th>\n",
       "      <td>114</td>\n",
       "      <td>Upplands Väsby</td>\n",
       "      <td>9719</td>\n",
       "      <td>0.256994</td>\n",
       "    </tr>\n",
       "    <tr>\n",
       "      <th>1</th>\n",
       "      <td>115</td>\n",
       "      <td>Vallentuna</td>\n",
       "      <td>8144</td>\n",
       "      <td>0.309787</td>\n",
       "    </tr>\n",
       "    <tr>\n",
       "      <th>2</th>\n",
       "      <td>117</td>\n",
       "      <td>Österåker</td>\n",
       "      <td>11995</td>\n",
       "      <td>0.318829</td>\n",
       "    </tr>\n",
       "    <tr>\n",
       "      <th>3</th>\n",
       "      <td>120</td>\n",
       "      <td>Värmdö</td>\n",
       "      <td>10785</td>\n",
       "      <td>0.300862</td>\n",
       "    </tr>\n",
       "    <tr>\n",
       "      <th>4</th>\n",
       "      <td>123</td>\n",
       "      <td>Järfälla</td>\n",
       "      <td>15401</td>\n",
       "      <td>0.235363</td>\n",
       "    </tr>\n",
       "  </tbody>\n",
       "</table>\n",
       "</div>"
      ],
      "text/plain": [
       "   KnKod          KnNamn  Antal_dos4  Andel_dos4\n",
       "0    114  Upplands Väsby        9719    0.256994\n",
       "1    115      Vallentuna        8144    0.309787\n",
       "2    117       Österåker       11995    0.318829\n",
       "3    120          Värmdö       10785    0.300862\n",
       "4    123        Järfälla       15401    0.235363"
      ]
     },
     "execution_count": 439,
     "metadata": {},
     "output_type": "execute_result"
    }
   ],
   "source": [
    "#data for all communities have  4th dose\n",
    "df3 = pd.read_excel(\"../Labb/Data/Vaccine.xlsx\", sheet_name=\"Vaccinerade kommun dos 4\")\n",
    "df3.head()"
   ]
  },
  {
   "cell_type": "code",
   "execution_count": 440,
   "metadata": {},
   "outputs": [
    {
     "data": {
      "text/html": [
       "<div>\n",
       "<style scoped>\n",
       "    .dataframe tbody tr th:only-of-type {\n",
       "        vertical-align: middle;\n",
       "    }\n",
       "\n",
       "    .dataframe tbody tr th {\n",
       "        vertical-align: top;\n",
       "    }\n",
       "\n",
       "    .dataframe thead th {\n",
       "        text-align: right;\n",
       "    }\n",
       "</style>\n",
       "<table border=\"1\" class=\"dataframe\">\n",
       "  <thead>\n",
       "    <tr style=\"text-align: right;\">\n",
       "      <th></th>\n",
       "      <th>KnKod</th>\n",
       "      <th>KnNamn</th>\n",
       "      <th>Antal_dos5</th>\n",
       "      <th>Andel_dos5</th>\n",
       "    </tr>\n",
       "  </thead>\n",
       "  <tbody>\n",
       "    <tr>\n",
       "      <th>0</th>\n",
       "      <td>114</td>\n",
       "      <td>Upplands Väsby</td>\n",
       "      <td>3714</td>\n",
       "      <td>0.452982</td>\n",
       "    </tr>\n",
       "    <tr>\n",
       "      <th>1</th>\n",
       "      <td>115</td>\n",
       "      <td>Vallentuna</td>\n",
       "      <td>2877</td>\n",
       "      <td>0.503588</td>\n",
       "    </tr>\n",
       "    <tr>\n",
       "      <th>2</th>\n",
       "      <td>117</td>\n",
       "      <td>Österåker</td>\n",
       "      <td>4635</td>\n",
       "      <td>0.506613</td>\n",
       "    </tr>\n",
       "    <tr>\n",
       "      <th>3</th>\n",
       "      <td>120</td>\n",
       "      <td>Värmdö</td>\n",
       "      <td>4317</td>\n",
       "      <td>0.505030</td>\n",
       "    </tr>\n",
       "    <tr>\n",
       "      <th>4</th>\n",
       "      <td>123</td>\n",
       "      <td>Järfälla</td>\n",
       "      <td>5876</td>\n",
       "      <td>0.422126</td>\n",
       "    </tr>\n",
       "  </tbody>\n",
       "</table>\n",
       "</div>"
      ],
      "text/plain": [
       "   KnKod          KnNamn  Antal_dos5  Andel_dos5\n",
       "0    114  Upplands Väsby        3714    0.452982\n",
       "1    115      Vallentuna        2877    0.503588\n",
       "2    117       Österåker        4635    0.506613\n",
       "3    120          Värmdö        4317    0.505030\n",
       "4    123        Järfälla        5876    0.422126"
      ]
     },
     "execution_count": 440,
     "metadata": {},
     "output_type": "execute_result"
    }
   ],
   "source": [
    "#data for all communities have 5th dose\n",
    "df4 = pd.read_excel(\"../Labb/Data/Vaccine.xlsx\", sheet_name=\"Vaccinerade kommun dos 5\")\n",
    "df4.head()"
   ]
  },
  {
   "cell_type": "code",
   "execution_count": 441,
   "metadata": {},
   "outputs": [
    {
     "data": {
      "text/html": [
       "<div>\n",
       "<style scoped>\n",
       "    .dataframe tbody tr th:only-of-type {\n",
       "        vertical-align: middle;\n",
       "    }\n",
       "\n",
       "    .dataframe tbody tr th {\n",
       "        vertical-align: top;\n",
       "    }\n",
       "\n",
       "    .dataframe thead th {\n",
       "        text-align: right;\n",
       "    }\n",
       "</style>\n",
       "<table border=\"1\" class=\"dataframe\">\n",
       "  <thead>\n",
       "    <tr style=\"text-align: right;\">\n",
       "      <th></th>\n",
       "      <th>KnKod</th>\n",
       "      <th>KnNamn</th>\n",
       "      <th>Antal_dos1</th>\n",
       "      <th>Antal_dos2</th>\n",
       "      <th>Andel_dos1</th>\n",
       "      <th>Andel_dos2</th>\n",
       "      <th>Antal_dos3</th>\n",
       "      <th>Andel_dos3</th>\n",
       "      <th>Antal_dos4</th>\n",
       "      <th>Andel_dos4</th>\n",
       "      <th>Antal_dos5</th>\n",
       "      <th>Andel_dos5</th>\n",
       "    </tr>\n",
       "  </thead>\n",
       "  <tbody>\n",
       "    <tr>\n",
       "      <th>0</th>\n",
       "      <td>114</td>\n",
       "      <td>Upplands Väsby</td>\n",
       "      <td>33514</td>\n",
       "      <td>32224</td>\n",
       "      <td>0.808677</td>\n",
       "      <td>0.777550</td>\n",
       "      <td>22131</td>\n",
       "      <td>0.585198</td>\n",
       "      <td>9719</td>\n",
       "      <td>0.256994</td>\n",
       "      <td>3714</td>\n",
       "      <td>0.452982</td>\n",
       "    </tr>\n",
       "    <tr>\n",
       "      <th>1</th>\n",
       "      <td>115</td>\n",
       "      <td>Vallentuna</td>\n",
       "      <td>25425</td>\n",
       "      <td>24744</td>\n",
       "      <td>0.864443</td>\n",
       "      <td>0.841289</td>\n",
       "      <td>18072</td>\n",
       "      <td>0.687436</td>\n",
       "      <td>8144</td>\n",
       "      <td>0.309787</td>\n",
       "      <td>2877</td>\n",
       "      <td>0.503588</td>\n",
       "    </tr>\n",
       "    <tr>\n",
       "      <th>2</th>\n",
       "      <td>117</td>\n",
       "      <td>Österåker</td>\n",
       "      <td>36270</td>\n",
       "      <td>35217</td>\n",
       "      <td>0.870766</td>\n",
       "      <td>0.845485</td>\n",
       "      <td>26146</td>\n",
       "      <td>0.694966</td>\n",
       "      <td>11995</td>\n",
       "      <td>0.318829</td>\n",
       "      <td>4635</td>\n",
       "      <td>0.506613</td>\n",
       "    </tr>\n",
       "    <tr>\n",
       "      <th>3</th>\n",
       "      <td>120</td>\n",
       "      <td>Värmdö</td>\n",
       "      <td>34602</td>\n",
       "      <td>33528</td>\n",
       "      <td>0.870688</td>\n",
       "      <td>0.843663</td>\n",
       "      <td>24513</td>\n",
       "      <td>0.683823</td>\n",
       "      <td>10785</td>\n",
       "      <td>0.300862</td>\n",
       "      <td>4317</td>\n",
       "      <td>0.505030</td>\n",
       "    </tr>\n",
       "    <tr>\n",
       "      <th>4</th>\n",
       "      <td>123</td>\n",
       "      <td>Järfälla</td>\n",
       "      <td>57901</td>\n",
       "      <td>55476</td>\n",
       "      <td>0.806073</td>\n",
       "      <td>0.772313</td>\n",
       "      <td>36822</td>\n",
       "      <td>0.562726</td>\n",
       "      <td>15401</td>\n",
       "      <td>0.235363</td>\n",
       "      <td>5876</td>\n",
       "      <td>0.422126</td>\n",
       "    </tr>\n",
       "  </tbody>\n",
       "</table>\n",
       "</div>"
      ],
      "text/plain": [
       "   KnKod          KnNamn  Antal_dos1  Antal_dos2  Andel_dos1  Andel_dos2  \\\n",
       "0    114  Upplands Väsby       33514       32224    0.808677    0.777550   \n",
       "1    115      Vallentuna       25425       24744    0.864443    0.841289   \n",
       "2    117       Österåker       36270       35217    0.870766    0.845485   \n",
       "3    120          Värmdö       34602       33528    0.870688    0.843663   \n",
       "4    123        Järfälla       57901       55476    0.806073    0.772313   \n",
       "\n",
       "   Antal_dos3  Andel_dos3  Antal_dos4  Andel_dos4  Antal_dos5  Andel_dos5  \n",
       "0       22131    0.585198        9719    0.256994        3714    0.452982  \n",
       "1       18072    0.687436        8144    0.309787        2877    0.503588  \n",
       "2       26146    0.694966       11995    0.318829        4635    0.506613  \n",
       "3       24513    0.683823       10785    0.300862        4317    0.505030  \n",
       "4       36822    0.562726       15401    0.235363        5876    0.422126  "
      ]
     },
     "execution_count": 441,
     "metadata": {},
     "output_type": "execute_result"
    }
   ],
   "source": [
    "# Merge all the data into one\n",
    "df_merge = df1.merge(df2,on=[\"KnKod\",\"KnNamn\"]).merge(df3,on=[\"KnKod\",\"KnNamn\"]).merge(df4, on=[\"KnKod\",\"KnNamn\"])\n",
    "df_merge.head()"
   ]
  },
  {
   "cell_type": "code",
   "execution_count": 442,
   "metadata": {},
   "outputs": [
    {
     "data": {
      "application/vnd.plotly.v1+json": {
       "config": {
        "plotlyServerURL": "https://plot.ly"
       },
       "data": [
        {
         "hovertemplate": "Doses=Antal_dos1<br>Commun name=%{x}<br>Population=%{y}<extra></extra>",
         "legendgroup": "Antal_dos1",
         "line": {
          "color": "#636efa",
          "dash": "solid"
         },
         "marker": {
          "symbol": "circle"
         },
         "mode": "lines",
         "name": "Antal_dos1",
         "showlegend": true,
         "type": "scattergl",
         "x": [
          "Upplands Väsby",
          "Vallentuna",
          "Österåker",
          "Värmdö",
          "Järfälla",
          "Ekerö",
          "Huddinge",
          "Botkyrka",
          "Salem",
          "Haninge",
          "Tyresö",
          "Upplands-Bro",
          "Nykvarn",
          "Täby",
          "Danderyd",
          "Sollentuna",
          "Stockholm",
          "Södertälje",
          "Nacka",
          "Sundbyberg",
          "Solna",
          "Lidingö",
          "Vaxholm",
          "Norrtälje",
          "Sigtuna",
          "Nynäshamn",
          "Håbo",
          "Älvkarleby",
          "Knivsta",
          "Heby",
          "Tierp",
          "Uppsala",
          "Enköping",
          "Östhammar",
          "Vingåker",
          "Gnesta",
          "Nyköping",
          "Oxelösund",
          "Flen",
          "Katrineholm",
          "Eskilstuna",
          "Strängnäs",
          "Trosa",
          "Ödeshög",
          "Ydre",
          "Kinda",
          "Boxholm",
          "Åtvidaberg",
          "Finspång",
          "Valdemarsvik",
          "Linköping",
          "Norrköping",
          "Söderköping",
          "Motala",
          "Vadstena",
          "Mjölby",
          "Aneby",
          "Gnosjö",
          "Mullsjö",
          "Habo",
          "Gislaved",
          "Vaggeryd",
          "Jönköping",
          "Nässjö",
          "Värnamo",
          "Sävsjö",
          "Vetlanda",
          "Eksjö",
          "Tranås",
          "Uppvidinge",
          "Lessebo",
          "Tingsryd",
          "Alvesta",
          "Älmhult",
          "Markaryd",
          "Växjö",
          "Ljungby",
          "Högsby",
          "Torsås",
          "Mörbylånga",
          "Hultsfred",
          "Mönsterås",
          "Emmaboda",
          "Kalmar",
          "Nybro",
          "Oskarshamn",
          "Västervik",
          "Vimmerby",
          "Borgholm",
          "Gotland",
          "Olofström",
          "Karlskrona",
          "Ronneby",
          "Karlshamn",
          "Sölvesborg",
          "Svalöv",
          "Staffanstorp",
          "Burlöv",
          "Vellinge",
          "Östra Göinge",
          "Örkelljunga",
          "Bjuv",
          "Kävlinge",
          "Lomma",
          "Svedala",
          "Skurup",
          "Sjöbo",
          "Hörby",
          "Höör",
          "Tomelilla",
          "Bromölla",
          "Osby",
          "Perstorp",
          "Klippan",
          "Åstorp",
          "Båstad",
          "Malmö",
          "Lund",
          "Landskrona",
          "Helsingborg",
          "Höganäs",
          "Eslöv",
          "Ystad",
          "Trelleborg",
          "Kristianstad",
          "Simrishamn",
          "Ängelholm",
          "Hässleholm",
          "Hylte",
          "Halmstad",
          "Laholm",
          "Falkenberg",
          "Varberg",
          "Kungsbacka",
          "Härryda",
          "Partille",
          "Öckerö",
          "Stenungsund",
          "Tjörn",
          "Orust",
          "Sotenäs",
          "Munkedal",
          "Tanum",
          "Dals-Ed",
          "Färgelanda",
          "Ale",
          "Lerum",
          "Vårgårda",
          "Bollebygd",
          "Grästorp",
          "Essunga",
          "Karlsborg",
          "Gullspång",
          "Tranemo",
          "Bengtsfors",
          "Mellerud",
          "Lilla Edet",
          "Mark",
          "Svenljunga",
          "Herrljunga",
          "Vara",
          "Götene",
          "Tibro",
          "Töreboda",
          "Göteborg",
          "Mölndal",
          "Kungälv",
          "Lysekil",
          "Uddevalla",
          "Strömstad",
          "Vänersborg",
          "Trollhättan",
          "Alingsås",
          "Borås",
          "Ulricehamn",
          "Åmål",
          "Mariestad",
          "Lidköping",
          "Skara",
          "Skövde",
          "Hjo",
          "Tidaholm",
          "Falköping",
          "Kil",
          "Eda",
          "Torsby",
          "Storfors",
          "Hammarö",
          "Munkfors",
          "Forshaga",
          "Grums",
          "Årjäng",
          "Sunne",
          "Karlstad",
          "Kristinehamn",
          "Filipstad",
          "Hagfors",
          "Arvika",
          "Säffle",
          "Lekeberg",
          "Laxå",
          "Hallsberg",
          "Degerfors",
          "Hällefors",
          "Ljusnarsberg",
          "Örebro",
          "Kumla",
          "Askersund",
          "Karlskoga",
          "Nora",
          "Lindesberg",
          "Skinnskatteberg",
          "Surahammar",
          "Kungsör",
          "Hallstahammar",
          "Norberg",
          "Västerås",
          "Sala",
          "Fagersta",
          "Köping",
          "Arboga",
          "Vansbro",
          "Malung-Sälen",
          "Gagnef",
          "Leksand",
          "Rättvik",
          "Orsa",
          "Älvdalen",
          "Smedjebacken",
          "Mora",
          "Falun",
          "Borlänge",
          "Säter",
          "Hedemora",
          "Avesta",
          "Ludvika",
          "Ockelbo",
          "Hofors",
          "Ovanåker",
          "Nordanstig",
          "Ljusdal",
          "Gävle",
          "Sandviken",
          "Söderhamn",
          "Bollnäs",
          "Hudiksvall",
          "Ånge",
          "Timrå",
          "Härnösand",
          "Sundsvall",
          "Kramfors",
          "Sollefteå",
          "Örnsköldsvik",
          "Ragunda",
          "Bräcke",
          "Krokom",
          "Strömsund",
          "Åre",
          "Berg",
          "Härjedalen",
          "Östersund",
          "Nordmaling",
          "Bjurholm",
          "Vindeln",
          "Robertsfors",
          "Norsjö",
          "Malå",
          "Storuman",
          "Sorsele",
          "Dorotea",
          "Vännäs",
          "Vilhelmina",
          "Åsele",
          "Umeå",
          "Lycksele",
          "Skellefteå",
          "Arvidsjaur",
          "Arjeplog",
          "Jokkmokk",
          "Överkalix",
          "Kalix",
          "Övertorneå",
          "Pajala",
          "Gällivare",
          "Älvsbyn",
          "Luleå",
          "Piteå",
          "Boden",
          "Haparanda",
          "Kiruna"
         ],
         "xaxis": "x",
         "y": [
          33514,
          25425,
          36270,
          34602,
          57901,
          21029,
          76828,
          57202,
          11990,
          63779,
          35787,
          20936,
          8498,
          57620,
          25567,
          55172,
          722973,
          62933,
          80702,
          37752,
          62742,
          36998,
          9341,
          50824,
          33445,
          21300,
          16749,
          7454,
          14799,
          10967,
          16446,
          187385,
          35947,
          17796,
          7028,
          8465,
          44355,
          9324,
          12080,
          26418,
          79416,
          28928,
          11134,
          4084,
          2917,
          8014,
          4356,
          9208,
          16695,
          6067,
          129299,
          106591,
          11584,
          33903,
          6204,
          22050,
          5157,
          6983,
          5594,
          9514,
          21750,
          10611,
          107958,
          23374,
          26273,
          8427,
          20915,
          13745,
          14659,
          6807,
          6220,
          9209,
          14386,
          12842,
          7260,
          71725,
          20692,
          3977,
          5399,
          12567,
          10368,
          9966,
          7021,
          55623,
          15249,
          20564,
          29272,
          11983,
          8942,
          48785,
          9953,
          52252,
          21974,
          24823,
          13498,
          10006,
          19519,
          12720,
          29080,
          10680,
          7207,
          10379,
          24741,
          19247,
          16517,
          11827,
          14069,
          11322,
          12667,
          10099,
          9462,
          9857,
          5020,
          12295,
          10562,
          12456,
          235469,
          99066,
          32169,
          104808,
          21583,
          24902,
          24867,
          33502,
          65227,
          15014,
          33128,
          38227,
          7537,
          78446,
          19666,
          35204,
          52306,
          65984,
          29324,
          28936,
          10229,
          20881,
          12879,
          12211,
          7612,
          8020,
          10281,
          3585,
          4993,
          22978,
          32109,
          9066,
          7230,
          4520,
          4298,
          5664,
          3983,
          8936,
          7291,
          6881,
          9975,
          26020,
          7908,
          7131,
          12196,
          10390,
          8432,
          6994,
          424619,
          53167,
          36670,
          11510,
          43456,
          9810,
          30207,
          43630,
          32102,
          83008,
          18829,
          9557,
          19667,
          32167,
          14228,
          43649,
          7236,
          9912,
          24898,
          9500,
          6528,
          9184,
          3119,
          13046,
          2850,
          9019,
          7108,
          7682,
          10683,
          77359,
          19355,
          8039,
          9101,
          20729,
          11979,
          6338,
          4339,
          12086,
          7424,
          5149,
          3435,
          118698,
          16777,
          8861,
          24318,
          8294,
          17752,
          3291,
          7418,
          6474,
          12312,
          4314,
          117870,
          17366,
          9625,
          19347,
          10892,
          5127,
          7885,
          8060,
          12813,
          8776,
          5254,
          5360,
          8480,
          15942,
          46737,
          39019,
          8819,
          11913,
          17577,
          19659,
          4464,
          7287,
          9127,
          6816,
          14443,
          78743,
          30203,
          19459,
          20491,
          29356,
          7326,
          13866,
          19703,
          77859,
          14040,
          14379,
          43847,
          3967,
          4737,
          11650,
          8784,
          9365,
          5352,
          8169,
          50215,
          5658,
          1877,
          4256,
          5415,
          3216,
          2357,
          4634,
          1907,
          2010,
          6933,
          5042,
          2214,
          105536,
          9700,
          59159,
          4922,
          2182,
          3847,
          2555,
          12767,
          3473,
          4611,
          13681,
          6206,
          63172,
          34101,
          22656,
          7097,
          17244
         ],
         "yaxis": "y"
        },
        {
         "hovertemplate": "Doses=Antal_dos2<br>Commun name=%{x}<br>Population=%{y}<extra></extra>",
         "legendgroup": "Antal_dos2",
         "line": {
          "color": "#EF553B",
          "dash": "solid"
         },
         "marker": {
          "symbol": "circle"
         },
         "mode": "lines",
         "name": "Antal_dos2",
         "showlegend": true,
         "type": "scattergl",
         "x": [
          "Upplands Väsby",
          "Vallentuna",
          "Österåker",
          "Värmdö",
          "Järfälla",
          "Ekerö",
          "Huddinge",
          "Botkyrka",
          "Salem",
          "Haninge",
          "Tyresö",
          "Upplands-Bro",
          "Nykvarn",
          "Täby",
          "Danderyd",
          "Sollentuna",
          "Stockholm",
          "Södertälje",
          "Nacka",
          "Sundbyberg",
          "Solna",
          "Lidingö",
          "Vaxholm",
          "Norrtälje",
          "Sigtuna",
          "Nynäshamn",
          "Håbo",
          "Älvkarleby",
          "Knivsta",
          "Heby",
          "Tierp",
          "Uppsala",
          "Enköping",
          "Östhammar",
          "Vingåker",
          "Gnesta",
          "Nyköping",
          "Oxelösund",
          "Flen",
          "Katrineholm",
          "Eskilstuna",
          "Strängnäs",
          "Trosa",
          "Ödeshög",
          "Ydre",
          "Kinda",
          "Boxholm",
          "Åtvidaberg",
          "Finspång",
          "Valdemarsvik",
          "Linköping",
          "Norrköping",
          "Söderköping",
          "Motala",
          "Vadstena",
          "Mjölby",
          "Aneby",
          "Gnosjö",
          "Mullsjö",
          "Habo",
          "Gislaved",
          "Vaggeryd",
          "Jönköping",
          "Nässjö",
          "Värnamo",
          "Sävsjö",
          "Vetlanda",
          "Eksjö",
          "Tranås",
          "Uppvidinge",
          "Lessebo",
          "Tingsryd",
          "Alvesta",
          "Älmhult",
          "Markaryd",
          "Växjö",
          "Ljungby",
          "Högsby",
          "Torsås",
          "Mörbylånga",
          "Hultsfred",
          "Mönsterås",
          "Emmaboda",
          "Kalmar",
          "Nybro",
          "Oskarshamn",
          "Västervik",
          "Vimmerby",
          "Borgholm",
          "Gotland",
          "Olofström",
          "Karlskrona",
          "Ronneby",
          "Karlshamn",
          "Sölvesborg",
          "Svalöv",
          "Staffanstorp",
          "Burlöv",
          "Vellinge",
          "Östra Göinge",
          "Örkelljunga",
          "Bjuv",
          "Kävlinge",
          "Lomma",
          "Svedala",
          "Skurup",
          "Sjöbo",
          "Hörby",
          "Höör",
          "Tomelilla",
          "Bromölla",
          "Osby",
          "Perstorp",
          "Klippan",
          "Åstorp",
          "Båstad",
          "Malmö",
          "Lund",
          "Landskrona",
          "Helsingborg",
          "Höganäs",
          "Eslöv",
          "Ystad",
          "Trelleborg",
          "Kristianstad",
          "Simrishamn",
          "Ängelholm",
          "Hässleholm",
          "Hylte",
          "Halmstad",
          "Laholm",
          "Falkenberg",
          "Varberg",
          "Kungsbacka",
          "Härryda",
          "Partille",
          "Öckerö",
          "Stenungsund",
          "Tjörn",
          "Orust",
          "Sotenäs",
          "Munkedal",
          "Tanum",
          "Dals-Ed",
          "Färgelanda",
          "Ale",
          "Lerum",
          "Vårgårda",
          "Bollebygd",
          "Grästorp",
          "Essunga",
          "Karlsborg",
          "Gullspång",
          "Tranemo",
          "Bengtsfors",
          "Mellerud",
          "Lilla Edet",
          "Mark",
          "Svenljunga",
          "Herrljunga",
          "Vara",
          "Götene",
          "Tibro",
          "Töreboda",
          "Göteborg",
          "Mölndal",
          "Kungälv",
          "Lysekil",
          "Uddevalla",
          "Strömstad",
          "Vänersborg",
          "Trollhättan",
          "Alingsås",
          "Borås",
          "Ulricehamn",
          "Åmål",
          "Mariestad",
          "Lidköping",
          "Skara",
          "Skövde",
          "Hjo",
          "Tidaholm",
          "Falköping",
          "Kil",
          "Eda",
          "Torsby",
          "Storfors",
          "Hammarö",
          "Munkfors",
          "Forshaga",
          "Grums",
          "Årjäng",
          "Sunne",
          "Karlstad",
          "Kristinehamn",
          "Filipstad",
          "Hagfors",
          "Arvika",
          "Säffle",
          "Lekeberg",
          "Laxå",
          "Hallsberg",
          "Degerfors",
          "Hällefors",
          "Ljusnarsberg",
          "Örebro",
          "Kumla",
          "Askersund",
          "Karlskoga",
          "Nora",
          "Lindesberg",
          "Skinnskatteberg",
          "Surahammar",
          "Kungsör",
          "Hallstahammar",
          "Norberg",
          "Västerås",
          "Sala",
          "Fagersta",
          "Köping",
          "Arboga",
          "Vansbro",
          "Malung-Sälen",
          "Gagnef",
          "Leksand",
          "Rättvik",
          "Orsa",
          "Älvdalen",
          "Smedjebacken",
          "Mora",
          "Falun",
          "Borlänge",
          "Säter",
          "Hedemora",
          "Avesta",
          "Ludvika",
          "Ockelbo",
          "Hofors",
          "Ovanåker",
          "Nordanstig",
          "Ljusdal",
          "Gävle",
          "Sandviken",
          "Söderhamn",
          "Bollnäs",
          "Hudiksvall",
          "Ånge",
          "Timrå",
          "Härnösand",
          "Sundsvall",
          "Kramfors",
          "Sollefteå",
          "Örnsköldsvik",
          "Ragunda",
          "Bräcke",
          "Krokom",
          "Strömsund",
          "Åre",
          "Berg",
          "Härjedalen",
          "Östersund",
          "Nordmaling",
          "Bjurholm",
          "Vindeln",
          "Robertsfors",
          "Norsjö",
          "Malå",
          "Storuman",
          "Sorsele",
          "Dorotea",
          "Vännäs",
          "Vilhelmina",
          "Åsele",
          "Umeå",
          "Lycksele",
          "Skellefteå",
          "Arvidsjaur",
          "Arjeplog",
          "Jokkmokk",
          "Överkalix",
          "Kalix",
          "Övertorneå",
          "Pajala",
          "Gällivare",
          "Älvsbyn",
          "Luleå",
          "Piteå",
          "Boden",
          "Haparanda",
          "Kiruna"
         ],
         "xaxis": "x",
         "y": [
          32224,
          24744,
          35217,
          33528,
          55476,
          20415,
          73699,
          54129,
          11540,
          60779,
          34578,
          20031,
          8215,
          56162,
          24892,
          53371,
          697646,
          59877,
          78167,
          36231,
          60395,
          36034,
          9138,
          49363,
          31905,
          20275,
          16429,
          7325,
          14481,
          10761,
          16147,
          182821,
          35265,
          17571,
          6864,
          8254,
          43436,
          9048,
          11730,
          25865,
          77121,
          28161,
          10860,
          4035,
          2892,
          7942,
          4314,
          9126,
          16437,
          6000,
          127455,
          104824,
          11451,
          33490,
          6160,
          21770,
          5092,
          6916,
          5513,
          9403,
          21426,
          10429,
          105869,
          22935,
          25807,
          8270,
          20608,
          13542,
          14456,
          6694,
          6148,
          9074,
          14100,
          12574,
          7137,
          70542,
          20225,
          3896,
          5331,
          12444,
          10204,
          9843,
          6933,
          54834,
          15037,
          20314,
          28966,
          11862,
          8858,
          47930,
          9808,
          51513,
          21605,
          24476,
          13325,
          9766,
          19227,
          12388,
          28684,
          10451,
          7046,
          10106,
          24398,
          18986,
          16272,
          11622,
          13803,
          11090,
          12480,
          9916,
          9322,
          9697,
          4887,
          12062,
          10269,
          12263,
          228342,
          96954,
          31431,
          101992,
          21296,
          24421,
          24483,
          32851,
          63946,
          14786,
          32566,
          37506,
          7419,
          77172,
          19344,
          34750,
          51601,
          65043,
          28746,
          28228,
          10022,
          20464,
          12736,
          11988,
          7484,
          7856,
          10072,
          3532,
          4896,
          22389,
          31529,
          8850,
          7106,
          4440,
          4210,
          5562,
          3905,
          8781,
          7160,
          6753,
          9690,
          25296,
          7725,
          7001,
          12000,
          10197,
          8257,
          6849,
          410304,
          51911,
          35928,
          11289,
          42477,
          9497,
          29551,
          42297,
          31519,
          81090,
          18494,
          9371,
          19329,
          31759,
          13947,
          42839,
          7119,
          9746,
          24451,
          9422,
          6446,
          9121,
          3088,
          12916,
          2807,
          8898,
          7004,
          7583,
          10573,
          76392,
          19147,
          7940,
          8957,
          20546,
          11837,
          6252,
          4290,
          11953,
          7329,
          5059,
          3366,
          116492,
          16602,
          8774,
          24094,
          8152,
          17492,
          3222,
          7279,
          6320,
          11988,
          4240,
          114852,
          16971,
          9451,
          18843,
          10648,
          5059,
          7811,
          7960,
          12667,
          8643,
          5163,
          5290,
          8355,
          15760,
          45930,
          38306,
          8711,
          11752,
          17277,
          19326,
          4363,
          7117,
          8952,
          6605,
          14135,
          76857,
          29499,
          19018,
          20050,
          28671,
          7168,
          13574,
          19339,
          76361,
          13830,
          14126,
          43387,
          3883,
          4633,
          11515,
          8672,
          9151,
          5266,
          8013,
          49394,
          5602,
          1859,
          4169,
          5359,
          3183,
          2291,
          4600,
          1882,
          1991,
          6819,
          4935,
          2192,
          103798,
          9599,
          58170,
          4857,
          2145,
          3790,
          2530,
          12607,
          3431,
          4536,
          13512,
          6118,
          62309,
          33726,
          22358,
          6997,
          17003
         ],
         "yaxis": "y"
        },
        {
         "hovertemplate": "Doses=Antal_dos3<br>Commun name=%{x}<br>Population=%{y}<extra></extra>",
         "legendgroup": "Antal_dos3",
         "line": {
          "color": "#00cc96",
          "dash": "solid"
         },
         "marker": {
          "symbol": "circle"
         },
         "mode": "lines",
         "name": "Antal_dos3",
         "showlegend": true,
         "type": "scattergl",
         "x": [
          "Upplands Väsby",
          "Vallentuna",
          "Österåker",
          "Värmdö",
          "Järfälla",
          "Ekerö",
          "Huddinge",
          "Botkyrka",
          "Salem",
          "Haninge",
          "Tyresö",
          "Upplands-Bro",
          "Nykvarn",
          "Täby",
          "Danderyd",
          "Sollentuna",
          "Stockholm",
          "Södertälje",
          "Nacka",
          "Sundbyberg",
          "Solna",
          "Lidingö",
          "Vaxholm",
          "Norrtälje",
          "Sigtuna",
          "Nynäshamn",
          "Håbo",
          "Älvkarleby",
          "Knivsta",
          "Heby",
          "Tierp",
          "Uppsala",
          "Enköping",
          "Östhammar",
          "Vingåker",
          "Gnesta",
          "Nyköping",
          "Oxelösund",
          "Flen",
          "Katrineholm",
          "Eskilstuna",
          "Strängnäs",
          "Trosa",
          "Ödeshög",
          "Ydre",
          "Kinda",
          "Boxholm",
          "Åtvidaberg",
          "Finspång",
          "Valdemarsvik",
          "Linköping",
          "Norrköping",
          "Söderköping",
          "Motala",
          "Vadstena",
          "Mjölby",
          "Aneby",
          "Gnosjö",
          "Mullsjö",
          "Habo",
          "Gislaved",
          "Vaggeryd",
          "Jönköping",
          "Nässjö",
          "Värnamo",
          "Sävsjö",
          "Vetlanda",
          "Eksjö",
          "Tranås",
          "Uppvidinge",
          "Lessebo",
          "Tingsryd",
          "Alvesta",
          "Älmhult",
          "Markaryd",
          "Växjö",
          "Ljungby",
          "Högsby",
          "Torsås",
          "Mörbylånga",
          "Hultsfred",
          "Mönsterås",
          "Emmaboda",
          "Kalmar",
          "Nybro",
          "Oskarshamn",
          "Västervik",
          "Vimmerby",
          "Borgholm",
          "Gotland",
          "Olofström",
          "Karlskrona",
          "Ronneby",
          "Karlshamn",
          "Sölvesborg",
          "Svalöv",
          "Staffanstorp",
          "Burlöv",
          "Vellinge",
          "Östra Göinge",
          "Örkelljunga",
          "Bjuv",
          "Kävlinge",
          "Lomma",
          "Svedala",
          "Skurup",
          "Sjöbo",
          "Hörby",
          "Höör",
          "Tomelilla",
          "Bromölla",
          "Osby",
          "Perstorp",
          "Klippan",
          "Åstorp",
          "Båstad",
          "Malmö",
          "Lund",
          "Landskrona",
          "Helsingborg",
          "Höganäs",
          "Eslöv",
          "Ystad",
          "Trelleborg",
          "Kristianstad",
          "Simrishamn",
          "Ängelholm",
          "Hässleholm",
          "Hylte",
          "Halmstad",
          "Laholm",
          "Falkenberg",
          "Varberg",
          "Kungsbacka",
          "Härryda",
          "Partille",
          "Öckerö",
          "Stenungsund",
          "Tjörn",
          "Orust",
          "Sotenäs",
          "Munkedal",
          "Tanum",
          "Dals-Ed",
          "Färgelanda",
          "Ale",
          "Lerum",
          "Vårgårda",
          "Bollebygd",
          "Grästorp",
          "Essunga",
          "Karlsborg",
          "Gullspång",
          "Tranemo",
          "Bengtsfors",
          "Mellerud",
          "Lilla Edet",
          "Mark",
          "Svenljunga",
          "Herrljunga",
          "Vara",
          "Götene",
          "Tibro",
          "Töreboda",
          "Göteborg",
          "Mölndal",
          "Kungälv",
          "Lysekil",
          "Uddevalla",
          "Strömstad",
          "Vänersborg",
          "Trollhättan",
          "Alingsås",
          "Borås",
          "Ulricehamn",
          "Åmål",
          "Mariestad",
          "Lidköping",
          "Skara",
          "Skövde",
          "Hjo",
          "Tidaholm",
          "Falköping",
          "Kil",
          "Eda",
          "Torsby",
          "Storfors",
          "Hammarö",
          "Munkfors",
          "Forshaga",
          "Grums",
          "Årjäng",
          "Sunne",
          "Karlstad",
          "Kristinehamn",
          "Filipstad",
          "Hagfors",
          "Arvika",
          "Säffle",
          "Lekeberg",
          "Laxå",
          "Hallsberg",
          "Degerfors",
          "Hällefors",
          "Ljusnarsberg",
          "Örebro",
          "Kumla",
          "Askersund",
          "Karlskoga",
          "Nora",
          "Lindesberg",
          "Skinnskatteberg",
          "Surahammar",
          "Kungsör",
          "Hallstahammar",
          "Norberg",
          "Västerås",
          "Sala",
          "Fagersta",
          "Köping",
          "Arboga",
          "Vansbro",
          "Malung-Sälen",
          "Gagnef",
          "Leksand",
          "Rättvik",
          "Orsa",
          "Älvdalen",
          "Smedjebacken",
          "Mora",
          "Falun",
          "Borlänge",
          "Säter",
          "Hedemora",
          "Avesta",
          "Ludvika",
          "Ockelbo",
          "Hofors",
          "Ovanåker",
          "Nordanstig",
          "Ljusdal",
          "Gävle",
          "Sandviken",
          "Söderhamn",
          "Bollnäs",
          "Hudiksvall",
          "Ånge",
          "Timrå",
          "Härnösand",
          "Sundsvall",
          "Kramfors",
          "Sollefteå",
          "Örnsköldsvik",
          "Ragunda",
          "Bräcke",
          "Krokom",
          "Strömsund",
          "Åre",
          "Berg",
          "Härjedalen",
          "Östersund",
          "Nordmaling",
          "Bjurholm",
          "Vindeln",
          "Robertsfors",
          "Norsjö",
          "Malå",
          "Storuman",
          "Sorsele",
          "Dorotea",
          "Vännäs",
          "Vilhelmina",
          "Åsele",
          "Umeå",
          "Lycksele",
          "Skellefteå",
          "Arvidsjaur",
          "Arjeplog",
          "Jokkmokk",
          "Överkalix",
          "Kalix",
          "Övertorneå",
          "Pajala",
          "Gällivare",
          "Älvsbyn",
          "Luleå",
          "Piteå",
          "Boden",
          "Haparanda",
          "Kiruna"
         ],
         "xaxis": "x",
         "y": [
          22131,
          18072,
          26146,
          24513,
          36822,
          14786,
          49907,
          32720,
          7972,
          40833,
          24636,
          12945,
          5784,
          42571,
          18726,
          38343,
          506258,
          36450,
          57164,
          24502,
          43817,
          26936,
          6962,
          38609,
          20414,
          14845,
          11774,
          5509,
          10482,
          8190,
          12441,
          137125,
          26278,
          13944,
          5141,
          6042,
          32445,
          6911,
          8636,
          19100,
          53220,
          20932,
          8031,
          3132,
          2355,
          6204,
          3451,
          7348,
          12511,
          4843,
          96939,
          75920,
          8963,
          25972,
          5120,
          16559,
          3872,
          5170,
          4159,
          7030,
          15561,
          7666,
          76718,
          16909,
          19521,
          5931,
          15361,
          10479,
          11111,
          4691,
          4259,
          6730,
          9936,
          9086,
          4959,
          49432,
          14652,
          2999,
          4180,
          10060,
          7843,
          7599,
          5448,
          41875,
          11605,
          15380,
          23456,
          9299,
          7448,
          37423,
          7299,
          39821,
          16275,
          18695,
          10169,
          6543,
          14079,
          7960,
          22037,
          7152,
          4892,
          6468,
          17910,
          14808,
          11290,
          8111,
          9794,
          7763,
          8934,
          7026,
          6655,
          7004,
          3229,
          8188,
          6477,
          9392,
          146791,
          71392,
          21533,
          68366,
          15965,
          16536,
          18651,
          23195,
          45123,
          11601,
          23906,
          26451,
          5399,
          56839,
          14608,
          26406,
          39765,
          48980,
          20100,
          19771,
          7479,
          14303,
          9637,
          9068,
          5983,
          5615,
          7757,
          2581,
          3562,
          15043,
          22050,
          6066,
          4928,
          3332,
          3113,
          4456,
          2992,
          6398,
          5448,
          4972,
          6697,
          17514,
          5486,
          5049,
          8826,
          7628,
          5932,
          5088,
          272071,
          36447,
          25073,
          8877,
          29504,
          6647,
          21490,
          29308,
          22480,
          54347,
          13545,
          7007,
          14587,
          23771,
          9919,
          31038,
          5376,
          7207,
          17138,
          7219,
          4963,
          7493,
          2441,
          10112,
          2174,
          6719,
          5373,
          5637,
          8356,
          58090,
          14975,
          6050,
          7123,
          16079,
          9120,
          4640,
          3427,
          9070,
          5705,
          3886,
          2627,
          84475,
          12399,
          6939,
          18681,
          6266,
          13267,
          2506,
          5376,
          4769,
          8663,
          3246,
          82585,
          12746,
          6839,
          13805,
          8144,
          3743,
          5861,
          6005,
          9912,
          6812,
          3866,
          4240,
          6499,
          11824,
          35224,
          27075,
          6721,
          9602,
          12686,
          14226,
          3382,
          5391,
          6957,
          4861,
          10499,
          55681,
          21753,
          14587,
          14929,
          21596,
          5515,
          10170,
          14830,
          56524,
          10611,
          10906,
          33550,
          2872,
          3526,
          8382,
          6561,
          6197,
          3814,
          6224,
          35757,
          4316,
          1451,
          3180,
          4115,
          2539,
          1760,
          3658,
          1443,
          1588,
          5085,
          3653,
          1828,
          76690,
          7354,
          43528,
          3773,
          1669,
          2922,
          2006,
          9836,
          2816,
          3534,
          10484,
          4616,
          46553,
          26328,
          17156,
          5109,
          12491
         ],
         "yaxis": "y"
        },
        {
         "hovertemplate": "Doses=Antal_dos4<br>Commun name=%{x}<br>Population=%{y}<extra></extra>",
         "legendgroup": "Antal_dos4",
         "line": {
          "color": "#ab63fa",
          "dash": "solid"
         },
         "marker": {
          "symbol": "circle"
         },
         "mode": "lines",
         "name": "Antal_dos4",
         "showlegend": true,
         "type": "scattergl",
         "x": [
          "Upplands Väsby",
          "Vallentuna",
          "Österåker",
          "Värmdö",
          "Järfälla",
          "Ekerö",
          "Huddinge",
          "Botkyrka",
          "Salem",
          "Haninge",
          "Tyresö",
          "Upplands-Bro",
          "Nykvarn",
          "Täby",
          "Danderyd",
          "Sollentuna",
          "Stockholm",
          "Södertälje",
          "Nacka",
          "Sundbyberg",
          "Solna",
          "Lidingö",
          "Vaxholm",
          "Norrtälje",
          "Sigtuna",
          "Nynäshamn",
          "Håbo",
          "Älvkarleby",
          "Knivsta",
          "Heby",
          "Tierp",
          "Uppsala",
          "Enköping",
          "Östhammar",
          "Vingåker",
          "Gnesta",
          "Nyköping",
          "Oxelösund",
          "Flen",
          "Katrineholm",
          "Eskilstuna",
          "Strängnäs",
          "Trosa",
          "Ödeshög",
          "Ydre",
          "Kinda",
          "Boxholm",
          "Åtvidaberg",
          "Finspång",
          "Valdemarsvik",
          "Linköping",
          "Norrköping",
          "Söderköping",
          "Motala",
          "Vadstena",
          "Mjölby",
          "Aneby",
          "Gnosjö",
          "Mullsjö",
          "Habo",
          "Gislaved",
          "Vaggeryd",
          "Jönköping",
          "Nässjö",
          "Värnamo",
          "Sävsjö",
          "Vetlanda",
          "Eksjö",
          "Tranås",
          "Uppvidinge",
          "Lessebo",
          "Tingsryd",
          "Alvesta",
          "Älmhult",
          "Markaryd",
          "Växjö",
          "Ljungby",
          "Högsby",
          "Torsås",
          "Mörbylånga",
          "Hultsfred",
          "Mönsterås",
          "Emmaboda",
          "Kalmar",
          "Nybro",
          "Oskarshamn",
          "Västervik",
          "Vimmerby",
          "Borgholm",
          "Gotland",
          "Olofström",
          "Karlskrona",
          "Ronneby",
          "Karlshamn",
          "Sölvesborg",
          "Svalöv",
          "Staffanstorp",
          "Burlöv",
          "Vellinge",
          "Östra Göinge",
          "Örkelljunga",
          "Bjuv",
          "Kävlinge",
          "Lomma",
          "Svedala",
          "Skurup",
          "Sjöbo",
          "Hörby",
          "Höör",
          "Tomelilla",
          "Bromölla",
          "Osby",
          "Perstorp",
          "Klippan",
          "Åstorp",
          "Båstad",
          "Malmö",
          "Lund",
          "Landskrona",
          "Helsingborg",
          "Höganäs",
          "Eslöv",
          "Ystad",
          "Trelleborg",
          "Kristianstad",
          "Simrishamn",
          "Ängelholm",
          "Hässleholm",
          "Hylte",
          "Halmstad",
          "Laholm",
          "Falkenberg",
          "Varberg",
          "Kungsbacka",
          "Härryda",
          "Partille",
          "Öckerö",
          "Stenungsund",
          "Tjörn",
          "Orust",
          "Sotenäs",
          "Munkedal",
          "Tanum",
          "Dals-Ed",
          "Färgelanda",
          "Ale",
          "Lerum",
          "Vårgårda",
          "Bollebygd",
          "Grästorp",
          "Essunga",
          "Karlsborg",
          "Gullspång",
          "Tranemo",
          "Bengtsfors",
          "Mellerud",
          "Lilla Edet",
          "Mark",
          "Svenljunga",
          "Herrljunga",
          "Vara",
          "Götene",
          "Tibro",
          "Töreboda",
          "Göteborg",
          "Mölndal",
          "Kungälv",
          "Lysekil",
          "Uddevalla",
          "Strömstad",
          "Vänersborg",
          "Trollhättan",
          "Alingsås",
          "Borås",
          "Ulricehamn",
          "Åmål",
          "Mariestad",
          "Lidköping",
          "Skara",
          "Skövde",
          "Hjo",
          "Tidaholm",
          "Falköping",
          "Kil",
          "Eda",
          "Torsby",
          "Storfors",
          "Hammarö",
          "Munkfors",
          "Forshaga",
          "Grums",
          "Årjäng",
          "Sunne",
          "Karlstad",
          "Kristinehamn",
          "Filipstad",
          "Hagfors",
          "Arvika",
          "Säffle",
          "Lekeberg",
          "Laxå",
          "Hallsberg",
          "Degerfors",
          "Hällefors",
          "Ljusnarsberg",
          "Örebro",
          "Kumla",
          "Askersund",
          "Karlskoga",
          "Nora",
          "Lindesberg",
          "Skinnskatteberg",
          "Surahammar",
          "Kungsör",
          "Hallstahammar",
          "Norberg",
          "Västerås",
          "Sala",
          "Fagersta",
          "Köping",
          "Arboga",
          "Vansbro",
          "Malung-Sälen",
          "Gagnef",
          "Leksand",
          "Rättvik",
          "Orsa",
          "Älvdalen",
          "Smedjebacken",
          "Mora",
          "Falun",
          "Borlänge",
          "Säter",
          "Hedemora",
          "Avesta",
          "Ludvika",
          "Ockelbo",
          "Hofors",
          "Ovanåker",
          "Nordanstig",
          "Ljusdal",
          "Gävle",
          "Sandviken",
          "Söderhamn",
          "Bollnäs",
          "Hudiksvall",
          "Ånge",
          "Timrå",
          "Härnösand",
          "Sundsvall",
          "Kramfors",
          "Sollefteå",
          "Örnsköldsvik",
          "Ragunda",
          "Bräcke",
          "Krokom",
          "Strömsund",
          "Åre",
          "Berg",
          "Härjedalen",
          "Östersund",
          "Nordmaling",
          "Bjurholm",
          "Vindeln",
          "Robertsfors",
          "Norsjö",
          "Malå",
          "Storuman",
          "Sorsele",
          "Dorotea",
          "Vännäs",
          "Vilhelmina",
          "Åsele",
          "Umeå",
          "Lycksele",
          "Skellefteå",
          "Arvidsjaur",
          "Arjeplog",
          "Jokkmokk",
          "Överkalix",
          "Kalix",
          "Övertorneå",
          "Pajala",
          "Gällivare",
          "Älvsbyn",
          "Luleå",
          "Piteå",
          "Boden",
          "Haparanda",
          "Kiruna"
         ],
         "xaxis": "x",
         "y": [
          9719,
          8144,
          11995,
          10785,
          15401,
          6633,
          19351,
          12665,
          3545,
          16820,
          10380,
          5443,
          2263,
          19684,
          8347,
          15690,
          194829,
          14277,
          23760,
          8345,
          15991,
          12137,
          3416,
          21481,
          8120,
          6851,
          5077,
          2810,
          4007,
          4058,
          6377,
          55090,
          12316,
          7215,
          2639,
          2760,
          15384,
          3507,
          4830,
          8817,
          23338,
          9673,
          3876,
          1957,
          1359,
          3583,
          2146,
          4429,
          6729,
          2983,
          51196,
          40516,
          5262,
          15798,
          3397,
          9332,
          1786,
          2140,
          1829,
          2657,
          6447,
          3019,
          30053,
          7509,
          8252,
          2696,
          6961,
          4892,
          5205,
          2161,
          1998,
          3295,
          4719,
          3684,
          2392,
          19452,
          6680,
          1498,
          2048,
          4879,
          3904,
          3589,
          2765,
          17640,
          5447,
          7178,
          12797,
          4482,
          4100,
          18496,
          3480,
          17305,
          7503,
          8481,
          4534,
          2545,
          5868,
          3116,
          9537,
          3155,
          2231,
          2554,
          6986,
          6592,
          4463,
          3307,
          4385,
          3342,
          3601,
          3238,
          2931,
          3063,
          1417,
          3526,
          2529,
          4732,
          49331,
          25471,
          9185,
          26448,
          7481,
          6481,
          8203,
          9714,
          19869,
          6317,
          10743,
          11738,
          2590,
          23285,
          6803,
          11383,
          17316,
          19788,
          7274,
          7532,
          3567,
          5906,
          4967,
          4597,
          3291,
          2565,
          3806,
          1318,
          1699,
          5833,
          8525,
          2300,
          2156,
          1689,
          1508,
          2564,
          1445,
          2926,
          2645,
          2397,
          2965,
          7702,
          2554,
          2293,
          4257,
          3684,
          2916,
          2313,
          91376,
          12841,
          10598,
          4860,
          13645,
          2944,
          10136,
          12179,
          10449,
          23629,
          5978,
          3630,
          7274,
          11348,
          4274,
          12414,
          2578,
          3597,
          7623,
          3456,
          2362,
          4157,
          1288,
          4496,
          1141,
          3248,
          2671,
          2664,
          3974,
          25644,
          7695,
          3336,
          3887,
          7945,
          4721,
          1933,
          1822,
          4288,
          2888,
          2105,
          1374,
          32682,
          5372,
          3594,
          9274,
          3134,
          6439,
          1333,
          2558,
          2340,
          4097,
          1697,
          35574,
          6244,
          3473,
          6934,
          4102,
          1856,
          2889,
          3153,
          5254,
          3794,
          1966,
          2025,
          3514,
          6315,
          17853,
          13039,
          3542,
          5151,
          6294,
          7262,
          1817,
          2920,
          3864,
          2451,
          5526,
          26369,
          11340,
          7846,
          7822,
          10903,
          2758,
          4999,
          8312,
          26166,
          5867,
          5992,
          17277,
          1337,
          1663,
          3588,
          3293,
          2330,
          1952,
          3026,
          15145,
          2369,
          749,
          1763,
          2162,
          1577,
          884,
          2021,
          804,
          972,
          2624,
          1925,
          1159,
          34016,
          3751,
          22587,
          2043,
          864,
          1518,
          1251,
          5305,
          1704,
          2021,
          4861,
          2252,
          20637,
          13271,
          8909,
          2724,
          5906
         ],
         "yaxis": "y"
        },
        {
         "hovertemplate": "Doses=Antal_dos5<br>Commun name=%{x}<br>Population=%{y}<extra></extra>",
         "legendgroup": "Antal_dos5",
         "line": {
          "color": "#FFA15A",
          "dash": "solid"
         },
         "marker": {
          "symbol": "circle"
         },
         "mode": "lines",
         "name": "Antal_dos5",
         "showlegend": true,
         "type": "scattergl",
         "x": [
          "Upplands Väsby",
          "Vallentuna",
          "Österåker",
          "Värmdö",
          "Järfälla",
          "Ekerö",
          "Huddinge",
          "Botkyrka",
          "Salem",
          "Haninge",
          "Tyresö",
          "Upplands-Bro",
          "Nykvarn",
          "Täby",
          "Danderyd",
          "Sollentuna",
          "Stockholm",
          "Södertälje",
          "Nacka",
          "Sundbyberg",
          "Solna",
          "Lidingö",
          "Vaxholm",
          "Norrtälje",
          "Sigtuna",
          "Nynäshamn",
          "Håbo",
          "Älvkarleby",
          "Knivsta",
          "Heby",
          "Tierp",
          "Uppsala",
          "Enköping",
          "Östhammar",
          "Vingåker",
          "Gnesta",
          "Nyköping",
          "Oxelösund",
          "Flen",
          "Katrineholm",
          "Eskilstuna",
          "Strängnäs",
          "Trosa",
          "Ödeshög",
          "Ydre",
          "Kinda",
          "Boxholm",
          "Åtvidaberg",
          "Finspång",
          "Valdemarsvik",
          "Linköping",
          "Norrköping",
          "Söderköping",
          "Motala",
          "Vadstena",
          "Mjölby",
          "Aneby",
          "Gnosjö",
          "Mullsjö",
          "Habo",
          "Gislaved",
          "Vaggeryd",
          "Jönköping",
          "Nässjö",
          "Värnamo",
          "Sävsjö",
          "Vetlanda",
          "Eksjö",
          "Tranås",
          "Uppvidinge",
          "Lessebo",
          "Tingsryd",
          "Alvesta",
          "Älmhult",
          "Markaryd",
          "Växjö",
          "Ljungby",
          "Högsby",
          "Torsås",
          "Mörbylånga",
          "Hultsfred",
          "Mönsterås",
          "Emmaboda",
          "Kalmar",
          "Nybro",
          "Oskarshamn",
          "Västervik",
          "Vimmerby",
          "Borgholm",
          "Gotland",
          "Olofström",
          "Karlskrona",
          "Ronneby",
          "Karlshamn",
          "Sölvesborg",
          "Svalöv",
          "Staffanstorp",
          "Burlöv",
          "Vellinge",
          "Östra Göinge",
          "Örkelljunga",
          "Bjuv",
          "Kävlinge",
          "Lomma",
          "Svedala",
          "Skurup",
          "Sjöbo",
          "Hörby",
          "Höör",
          "Tomelilla",
          "Bromölla",
          "Osby",
          "Perstorp",
          "Klippan",
          "Åstorp",
          "Båstad",
          "Malmö",
          "Lund",
          "Landskrona",
          "Helsingborg",
          "Höganäs",
          "Eslöv",
          "Ystad",
          "Trelleborg",
          "Kristianstad",
          "Simrishamn",
          "Ängelholm",
          "Hässleholm",
          "Hylte",
          "Halmstad",
          "Laholm",
          "Falkenberg",
          "Varberg",
          "Kungsbacka",
          "Härryda",
          "Partille",
          "Öckerö",
          "Stenungsund",
          "Tjörn",
          "Orust",
          "Sotenäs",
          "Munkedal",
          "Tanum",
          "Dals-Ed",
          "Färgelanda",
          "Ale",
          "Lerum",
          "Vårgårda",
          "Bollebygd",
          "Grästorp",
          "Essunga",
          "Karlsborg",
          "Gullspång",
          "Tranemo",
          "Bengtsfors",
          "Mellerud",
          "Lilla Edet",
          "Mark",
          "Svenljunga",
          "Herrljunga",
          "Vara",
          "Götene",
          "Tibro",
          "Töreboda",
          "Göteborg",
          "Mölndal",
          "Kungälv",
          "Lysekil",
          "Uddevalla",
          "Strömstad",
          "Vänersborg",
          "Trollhättan",
          "Alingsås",
          "Borås",
          "Ulricehamn",
          "Åmål",
          "Mariestad",
          "Lidköping",
          "Skara",
          "Skövde",
          "Hjo",
          "Tidaholm",
          "Falköping",
          "Kil",
          "Eda",
          "Torsby",
          "Storfors",
          "Hammarö",
          "Munkfors",
          "Forshaga",
          "Grums",
          "Årjäng",
          "Sunne",
          "Karlstad",
          "Kristinehamn",
          "Filipstad",
          "Hagfors",
          "Arvika",
          "Säffle",
          "Lekeberg",
          "Laxå",
          "Hallsberg",
          "Degerfors",
          "Hällefors",
          "Ljusnarsberg",
          "Örebro",
          "Kumla",
          "Askersund",
          "Karlskoga",
          "Nora",
          "Lindesberg",
          "Skinnskatteberg",
          "Surahammar",
          "Kungsör",
          "Hallstahammar",
          "Norberg",
          "Västerås",
          "Sala",
          "Fagersta",
          "Köping",
          "Arboga",
          "Vansbro",
          "Malung-Sälen",
          "Gagnef",
          "Leksand",
          "Rättvik",
          "Orsa",
          "Älvdalen",
          "Smedjebacken",
          "Mora",
          "Falun",
          "Borlänge",
          "Säter",
          "Hedemora",
          "Avesta",
          "Ludvika",
          "Ockelbo",
          "Hofors",
          "Ovanåker",
          "Nordanstig",
          "Ljusdal",
          "Gävle",
          "Sandviken",
          "Söderhamn",
          "Bollnäs",
          "Hudiksvall",
          "Ånge",
          "Timrå",
          "Härnösand",
          "Sundsvall",
          "Kramfors",
          "Sollefteå",
          "Örnsköldsvik",
          "Ragunda",
          "Bräcke",
          "Krokom",
          "Strömsund",
          "Åre",
          "Berg",
          "Härjedalen",
          "Östersund",
          "Nordmaling",
          "Bjurholm",
          "Vindeln",
          "Robertsfors",
          "Norsjö",
          "Malå",
          "Storuman",
          "Sorsele",
          "Dorotea",
          "Vännäs",
          "Vilhelmina",
          "Åsele",
          "Umeå",
          "Lycksele",
          "Skellefteå",
          "Arvidsjaur",
          "Arjeplog",
          "Jokkmokk",
          "Överkalix",
          "Kalix",
          "Övertorneå",
          "Pajala",
          "Gällivare",
          "Älvsbyn",
          "Luleå",
          "Piteå",
          "Boden",
          "Haparanda",
          "Kiruna"
         ],
         "xaxis": "x",
         "y": [
          3714,
          2877,
          4635,
          4317,
          5876,
          2590,
          6630,
          4581,
          1539,
          6282,
          3683,
          2080,
          678,
          7828,
          3073,
          5738,
          68923,
          5355,
          9169,
          2728,
          5529,
          4751,
          1323,
          9364,
          2932,
          2440,
          2278,
          1415,
          1711,
          2007,
          3276,
          25152,
          5846,
          3740,
          1466,
          1321,
          7995,
          1926,
          2751,
          4241,
          11468,
          4656,
          2041,
          935,
          712,
          1624,
          1057,
          2112,
          2735,
          1326,
          19176,
          16831,
          2397,
          6841,
          1660,
          3955,
          1034,
          1185,
          816,
          1390,
          3353,
          1461,
          15511,
          3729,
          4139,
          1343,
          3627,
          2653,
          2953,
          984,
          953,
          1488,
          2474,
          1671,
          1214,
          9041,
          3223,
          796,
          1211,
          2787,
          2160,
          1983,
          1420,
          9357,
          2986,
          3996,
          6947,
          2498,
          2251,
          10134,
          1694,
          8772,
          3821,
          4152,
          2042,
          921,
          2335,
          1113,
          4025,
          1289,
          852,
          1020,
          2907,
          2826,
          1906,
          1210,
          1707,
          1327,
          1291,
          1404,
          1387,
          1456,
          555,
          1518,
          1073,
          2141,
          19233,
          9996,
          3947,
          10200,
          3297,
          2572,
          3550,
          4092,
          8760,
          3057,
          4400,
          5101,
          1415,
          13091,
          3754,
          6508,
          9978,
          10497,
          2880,
          2883,
          1497,
          2783,
          2465,
          2060,
          1573,
          1109,
          1716,
          676,
          739,
          2420,
          3661,
          746,
          892,
          878,
          746,
          1233,
          649,
          1348,
          1362,
          1155,
          1197,
          2932,
          1108,
          1009,
          1798,
          1766,
          1323,
          979,
          35062,
          4769,
          4700,
          2279,
          5403,
          1298,
          4421,
          4631,
          4609,
          9748,
          2380,
          1660,
          3669,
          5224,
          1988,
          5528,
          1082,
          1554,
          3237,
          2180,
          1435,
          2618,
          804,
          2604,
          666,
          2047,
          1673,
          1590,
          2567,
          14662,
          4929,
          2089,
          2435,
          5214,
          3023,
          1006,
          972,
          2112,
          1523,
          1123,
          718,
          16316,
          2644,
          1969,
          4798,
          1741,
          3429,
          652,
          1191,
          1063,
          1916,
          805,
          16050,
          2923,
          1686,
          3150,
          2006,
          956,
          1354,
          1588,
          2596,
          1985,
          1009,
          1069,
          1735,
          3088,
          8273,
          6286,
          1696,
          2998,
          2898,
          3635,
          995,
          1449,
          2040,
          1191,
          2948,
          12197,
          5472,
          3939,
          3980,
          5592,
          1330,
          2045,
          3905,
          10822,
          2699,
          2811,
          8171,
          642,
          645,
          1729,
          1515,
          1096,
          1007,
          1442,
          7401,
          1237,
          379,
          915,
          1068,
          774,
          404,
          1122,
          469,
          463,
          1336,
          988,
          609,
          14217,
          1755,
          11352,
          1067,
          417,
          720,
          708,
          2596,
          877,
          980,
          2041,
          985,
          8819,
          6392,
          4149,
          1287,
          2345
         ],
         "yaxis": "y"
        }
       ],
       "layout": {
        "legend": {
         "title": {
          "text": "Doses"
         },
         "tracegroupgap": 0
        },
        "template": {
         "data": {
          "bar": [
           {
            "error_x": {
             "color": "#2a3f5f"
            },
            "error_y": {
             "color": "#2a3f5f"
            },
            "marker": {
             "line": {
              "color": "#E5ECF6",
              "width": 0.5
             },
             "pattern": {
              "fillmode": "overlay",
              "size": 10,
              "solidity": 0.2
             }
            },
            "type": "bar"
           }
          ],
          "barpolar": [
           {
            "marker": {
             "line": {
              "color": "#E5ECF6",
              "width": 0.5
             },
             "pattern": {
              "fillmode": "overlay",
              "size": 10,
              "solidity": 0.2
             }
            },
            "type": "barpolar"
           }
          ],
          "carpet": [
           {
            "aaxis": {
             "endlinecolor": "#2a3f5f",
             "gridcolor": "white",
             "linecolor": "white",
             "minorgridcolor": "white",
             "startlinecolor": "#2a3f5f"
            },
            "baxis": {
             "endlinecolor": "#2a3f5f",
             "gridcolor": "white",
             "linecolor": "white",
             "minorgridcolor": "white",
             "startlinecolor": "#2a3f5f"
            },
            "type": "carpet"
           }
          ],
          "choropleth": [
           {
            "colorbar": {
             "outlinewidth": 0,
             "ticks": ""
            },
            "type": "choropleth"
           }
          ],
          "contour": [
           {
            "colorbar": {
             "outlinewidth": 0,
             "ticks": ""
            },
            "colorscale": [
             [
              0,
              "#0d0887"
             ],
             [
              0.1111111111111111,
              "#46039f"
             ],
             [
              0.2222222222222222,
              "#7201a8"
             ],
             [
              0.3333333333333333,
              "#9c179e"
             ],
             [
              0.4444444444444444,
              "#bd3786"
             ],
             [
              0.5555555555555556,
              "#d8576b"
             ],
             [
              0.6666666666666666,
              "#ed7953"
             ],
             [
              0.7777777777777778,
              "#fb9f3a"
             ],
             [
              0.8888888888888888,
              "#fdca26"
             ],
             [
              1,
              "#f0f921"
             ]
            ],
            "type": "contour"
           }
          ],
          "contourcarpet": [
           {
            "colorbar": {
             "outlinewidth": 0,
             "ticks": ""
            },
            "type": "contourcarpet"
           }
          ],
          "heatmap": [
           {
            "colorbar": {
             "outlinewidth": 0,
             "ticks": ""
            },
            "colorscale": [
             [
              0,
              "#0d0887"
             ],
             [
              0.1111111111111111,
              "#46039f"
             ],
             [
              0.2222222222222222,
              "#7201a8"
             ],
             [
              0.3333333333333333,
              "#9c179e"
             ],
             [
              0.4444444444444444,
              "#bd3786"
             ],
             [
              0.5555555555555556,
              "#d8576b"
             ],
             [
              0.6666666666666666,
              "#ed7953"
             ],
             [
              0.7777777777777778,
              "#fb9f3a"
             ],
             [
              0.8888888888888888,
              "#fdca26"
             ],
             [
              1,
              "#f0f921"
             ]
            ],
            "type": "heatmap"
           }
          ],
          "heatmapgl": [
           {
            "colorbar": {
             "outlinewidth": 0,
             "ticks": ""
            },
            "colorscale": [
             [
              0,
              "#0d0887"
             ],
             [
              0.1111111111111111,
              "#46039f"
             ],
             [
              0.2222222222222222,
              "#7201a8"
             ],
             [
              0.3333333333333333,
              "#9c179e"
             ],
             [
              0.4444444444444444,
              "#bd3786"
             ],
             [
              0.5555555555555556,
              "#d8576b"
             ],
             [
              0.6666666666666666,
              "#ed7953"
             ],
             [
              0.7777777777777778,
              "#fb9f3a"
             ],
             [
              0.8888888888888888,
              "#fdca26"
             ],
             [
              1,
              "#f0f921"
             ]
            ],
            "type": "heatmapgl"
           }
          ],
          "histogram": [
           {
            "marker": {
             "pattern": {
              "fillmode": "overlay",
              "size": 10,
              "solidity": 0.2
             }
            },
            "type": "histogram"
           }
          ],
          "histogram2d": [
           {
            "colorbar": {
             "outlinewidth": 0,
             "ticks": ""
            },
            "colorscale": [
             [
              0,
              "#0d0887"
             ],
             [
              0.1111111111111111,
              "#46039f"
             ],
             [
              0.2222222222222222,
              "#7201a8"
             ],
             [
              0.3333333333333333,
              "#9c179e"
             ],
             [
              0.4444444444444444,
              "#bd3786"
             ],
             [
              0.5555555555555556,
              "#d8576b"
             ],
             [
              0.6666666666666666,
              "#ed7953"
             ],
             [
              0.7777777777777778,
              "#fb9f3a"
             ],
             [
              0.8888888888888888,
              "#fdca26"
             ],
             [
              1,
              "#f0f921"
             ]
            ],
            "type": "histogram2d"
           }
          ],
          "histogram2dcontour": [
           {
            "colorbar": {
             "outlinewidth": 0,
             "ticks": ""
            },
            "colorscale": [
             [
              0,
              "#0d0887"
             ],
             [
              0.1111111111111111,
              "#46039f"
             ],
             [
              0.2222222222222222,
              "#7201a8"
             ],
             [
              0.3333333333333333,
              "#9c179e"
             ],
             [
              0.4444444444444444,
              "#bd3786"
             ],
             [
              0.5555555555555556,
              "#d8576b"
             ],
             [
              0.6666666666666666,
              "#ed7953"
             ],
             [
              0.7777777777777778,
              "#fb9f3a"
             ],
             [
              0.8888888888888888,
              "#fdca26"
             ],
             [
              1,
              "#f0f921"
             ]
            ],
            "type": "histogram2dcontour"
           }
          ],
          "mesh3d": [
           {
            "colorbar": {
             "outlinewidth": 0,
             "ticks": ""
            },
            "type": "mesh3d"
           }
          ],
          "parcoords": [
           {
            "line": {
             "colorbar": {
              "outlinewidth": 0,
              "ticks": ""
             }
            },
            "type": "parcoords"
           }
          ],
          "pie": [
           {
            "automargin": true,
            "type": "pie"
           }
          ],
          "scatter": [
           {
            "fillpattern": {
             "fillmode": "overlay",
             "size": 10,
             "solidity": 0.2
            },
            "type": "scatter"
           }
          ],
          "scatter3d": [
           {
            "line": {
             "colorbar": {
              "outlinewidth": 0,
              "ticks": ""
             }
            },
            "marker": {
             "colorbar": {
              "outlinewidth": 0,
              "ticks": ""
             }
            },
            "type": "scatter3d"
           }
          ],
          "scattercarpet": [
           {
            "marker": {
             "colorbar": {
              "outlinewidth": 0,
              "ticks": ""
             }
            },
            "type": "scattercarpet"
           }
          ],
          "scattergeo": [
           {
            "marker": {
             "colorbar": {
              "outlinewidth": 0,
              "ticks": ""
             }
            },
            "type": "scattergeo"
           }
          ],
          "scattergl": [
           {
            "marker": {
             "colorbar": {
              "outlinewidth": 0,
              "ticks": ""
             }
            },
            "type": "scattergl"
           }
          ],
          "scattermapbox": [
           {
            "marker": {
             "colorbar": {
              "outlinewidth": 0,
              "ticks": ""
             }
            },
            "type": "scattermapbox"
           }
          ],
          "scatterpolar": [
           {
            "marker": {
             "colorbar": {
              "outlinewidth": 0,
              "ticks": ""
             }
            },
            "type": "scatterpolar"
           }
          ],
          "scatterpolargl": [
           {
            "marker": {
             "colorbar": {
              "outlinewidth": 0,
              "ticks": ""
             }
            },
            "type": "scatterpolargl"
           }
          ],
          "scatterternary": [
           {
            "marker": {
             "colorbar": {
              "outlinewidth": 0,
              "ticks": ""
             }
            },
            "type": "scatterternary"
           }
          ],
          "surface": [
           {
            "colorbar": {
             "outlinewidth": 0,
             "ticks": ""
            },
            "colorscale": [
             [
              0,
              "#0d0887"
             ],
             [
              0.1111111111111111,
              "#46039f"
             ],
             [
              0.2222222222222222,
              "#7201a8"
             ],
             [
              0.3333333333333333,
              "#9c179e"
             ],
             [
              0.4444444444444444,
              "#bd3786"
             ],
             [
              0.5555555555555556,
              "#d8576b"
             ],
             [
              0.6666666666666666,
              "#ed7953"
             ],
             [
              0.7777777777777778,
              "#fb9f3a"
             ],
             [
              0.8888888888888888,
              "#fdca26"
             ],
             [
              1,
              "#f0f921"
             ]
            ],
            "type": "surface"
           }
          ],
          "table": [
           {
            "cells": {
             "fill": {
              "color": "#EBF0F8"
             },
             "line": {
              "color": "white"
             }
            },
            "header": {
             "fill": {
              "color": "#C8D4E3"
             },
             "line": {
              "color": "white"
             }
            },
            "type": "table"
           }
          ]
         },
         "layout": {
          "annotationdefaults": {
           "arrowcolor": "#2a3f5f",
           "arrowhead": 0,
           "arrowwidth": 1
          },
          "autotypenumbers": "strict",
          "coloraxis": {
           "colorbar": {
            "outlinewidth": 0,
            "ticks": ""
           }
          },
          "colorscale": {
           "diverging": [
            [
             0,
             "#8e0152"
            ],
            [
             0.1,
             "#c51b7d"
            ],
            [
             0.2,
             "#de77ae"
            ],
            [
             0.3,
             "#f1b6da"
            ],
            [
             0.4,
             "#fde0ef"
            ],
            [
             0.5,
             "#f7f7f7"
            ],
            [
             0.6,
             "#e6f5d0"
            ],
            [
             0.7,
             "#b8e186"
            ],
            [
             0.8,
             "#7fbc41"
            ],
            [
             0.9,
             "#4d9221"
            ],
            [
             1,
             "#276419"
            ]
           ],
           "sequential": [
            [
             0,
             "#0d0887"
            ],
            [
             0.1111111111111111,
             "#46039f"
            ],
            [
             0.2222222222222222,
             "#7201a8"
            ],
            [
             0.3333333333333333,
             "#9c179e"
            ],
            [
             0.4444444444444444,
             "#bd3786"
            ],
            [
             0.5555555555555556,
             "#d8576b"
            ],
            [
             0.6666666666666666,
             "#ed7953"
            ],
            [
             0.7777777777777778,
             "#fb9f3a"
            ],
            [
             0.8888888888888888,
             "#fdca26"
            ],
            [
             1,
             "#f0f921"
            ]
           ],
           "sequentialminus": [
            [
             0,
             "#0d0887"
            ],
            [
             0.1111111111111111,
             "#46039f"
            ],
            [
             0.2222222222222222,
             "#7201a8"
            ],
            [
             0.3333333333333333,
             "#9c179e"
            ],
            [
             0.4444444444444444,
             "#bd3786"
            ],
            [
             0.5555555555555556,
             "#d8576b"
            ],
            [
             0.6666666666666666,
             "#ed7953"
            ],
            [
             0.7777777777777778,
             "#fb9f3a"
            ],
            [
             0.8888888888888888,
             "#fdca26"
            ],
            [
             1,
             "#f0f921"
            ]
           ]
          },
          "colorway": [
           "#636efa",
           "#EF553B",
           "#00cc96",
           "#ab63fa",
           "#FFA15A",
           "#19d3f3",
           "#FF6692",
           "#B6E880",
           "#FF97FF",
           "#FECB52"
          ],
          "font": {
           "color": "#2a3f5f"
          },
          "geo": {
           "bgcolor": "white",
           "lakecolor": "white",
           "landcolor": "#E5ECF6",
           "showlakes": true,
           "showland": true,
           "subunitcolor": "white"
          },
          "hoverlabel": {
           "align": "left"
          },
          "hovermode": "closest",
          "mapbox": {
           "style": "light"
          },
          "paper_bgcolor": "white",
          "plot_bgcolor": "#E5ECF6",
          "polar": {
           "angularaxis": {
            "gridcolor": "white",
            "linecolor": "white",
            "ticks": ""
           },
           "bgcolor": "#E5ECF6",
           "radialaxis": {
            "gridcolor": "white",
            "linecolor": "white",
            "ticks": ""
           }
          },
          "scene": {
           "xaxis": {
            "backgroundcolor": "#E5ECF6",
            "gridcolor": "white",
            "gridwidth": 2,
            "linecolor": "white",
            "showbackground": true,
            "ticks": "",
            "zerolinecolor": "white"
           },
           "yaxis": {
            "backgroundcolor": "#E5ECF6",
            "gridcolor": "white",
            "gridwidth": 2,
            "linecolor": "white",
            "showbackground": true,
            "ticks": "",
            "zerolinecolor": "white"
           },
           "zaxis": {
            "backgroundcolor": "#E5ECF6",
            "gridcolor": "white",
            "gridwidth": 2,
            "linecolor": "white",
            "showbackground": true,
            "ticks": "",
            "zerolinecolor": "white"
           }
          },
          "shapedefaults": {
           "line": {
            "color": "#2a3f5f"
           }
          },
          "ternary": {
           "aaxis": {
            "gridcolor": "white",
            "linecolor": "white",
            "ticks": ""
           },
           "baxis": {
            "gridcolor": "white",
            "linecolor": "white",
            "ticks": ""
           },
           "bgcolor": "#E5ECF6",
           "caxis": {
            "gridcolor": "white",
            "linecolor": "white",
            "ticks": ""
           }
          },
          "title": {
           "x": 0.05
          },
          "xaxis": {
           "automargin": true,
           "gridcolor": "white",
           "linecolor": "white",
           "ticks": "",
           "title": {
            "standoff": 15
           },
           "zerolinecolor": "white",
           "zerolinewidth": 2
          },
          "yaxis": {
           "automargin": true,
           "gridcolor": "white",
           "linecolor": "white",
           "ticks": "",
           "title": {
            "standoff": 15
           },
           "zerolinecolor": "white",
           "zerolinewidth": 2
          }
         }
        },
        "title": {
         "text": "Total number of doses taken in each community"
        },
        "xaxis": {
         "anchor": "y",
         "domain": [
          0,
          1
         ],
         "title": {
          "text": "Commun name"
         }
        },
        "yaxis": {
         "anchor": "x",
         "domain": [
          0,
          1
         ],
         "title": {
          "text": "Population"
         },
         "type": "log"
        }
       }
      }
     },
     "metadata": {},
     "output_type": "display_data"
    }
   ],
   "source": [
    "fig = px.line(\n",
    "    data_frame=df_merge,\n",
    "    \n",
    "    x=\"KnNamn\",\n",
    "    \n",
    "    y=[\"Antal_dos1\", \"Antal_dos2\", \"Antal_dos3\", \"Antal_dos4\",\"Antal_dos5\"],\n",
    "    \n",
    "    labels={\"KnNamn\": \"Commun name\", \"value\": \"Population\", \"variable\":\"Doses\"},\n",
    "    title=\"Total number of doses taken in each community\",\n",
    "    log_y= True,\n",
    "    \n",
    ")\n",
    "fig.show()\n",
    "#fig.write_html(\"uppgift 3-6.html\", auto_open = True)"
   ]
  }
 ],
 "metadata": {
  "kernelspec": {
   "display_name": "Python 3.9.13 ('Databehandling-Vineela-Nedunuri-LgAYhuxz')",
   "language": "python",
   "name": "python3"
  },
  "language_info": {
   "codemirror_mode": {
    "name": "ipython",
    "version": 3
   },
   "file_extension": ".py",
   "mimetype": "text/x-python",
   "name": "python",
   "nbconvert_exporter": "python",
   "pygments_lexer": "ipython3",
   "version": "3.9.13"
  },
  "orig_nbformat": 4,
  "vscode": {
   "interpreter": {
    "hash": "6a82f5107a13012c868f5218eea1477a67cc06b95c05a43ff8b0398a52597d16"
   }
  }
 },
 "nbformat": 4,
 "nbformat_minor": 2
}
