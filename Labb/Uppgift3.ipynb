{
 "cells": [
  {
   "cell_type": "markdown",
   "metadata": {},
   "source": [
    "# KPI in Covid19\n",
    "  - Based on age groups the number of cases, deaths and intensive care patients \n",
    "  - On which date which community has registered highest number of cases.\n",
    "  - Number of cases in gothenburg district "
   ]
  },
  {
   "cell_type": "code",
   "execution_count": 246,
   "metadata": {},
   "outputs": [],
   "source": [
    "import pandas as pd\n",
    "import plotly_express as px\n",
    "import numpy as np\n",
    "import seaborn as sns\n",
    "import matplotlib.pyplot as plt\n",
    "\n"
   ]
  },
  {
   "cell_type": "markdown",
   "metadata": {},
   "source": [
    "## KPI 1\n",
    " - Read the data from corresponding sheet\n",
    " - From different age groups, the number cases, death and intensiv are collected\n",
    " - plot the graph "
   ]
  },
  {
   "cell_type": "code",
   "execution_count": 247,
   "metadata": {},
   "outputs": [
    {
     "data": {
      "text/html": [
       "<div>\n",
       "<style scoped>\n",
       "    .dataframe tbody tr th:only-of-type {\n",
       "        vertical-align: middle;\n",
       "    }\n",
       "\n",
       "    .dataframe tbody tr th {\n",
       "        vertical-align: top;\n",
       "    }\n",
       "\n",
       "    .dataframe thead th {\n",
       "        text-align: right;\n",
       "    }\n",
       "</style>\n",
       "<table border=\"1\" class=\"dataframe\">\n",
       "  <thead>\n",
       "    <tr style=\"text-align: right;\">\n",
       "      <th></th>\n",
       "      <th>Åldersgrupp</th>\n",
       "      <th>Totalt_antal_fall</th>\n",
       "      <th>Totalt_antal_intensivvårdade</th>\n",
       "      <th>Totalt_antal_avlidna</th>\n",
       "    </tr>\n",
       "  </thead>\n",
       "  <tbody>\n",
       "    <tr>\n",
       "      <th>0</th>\n",
       "      <td>Ålder_0_9</td>\n",
       "      <td>138071</td>\n",
       "      <td>109</td>\n",
       "      <td>17</td>\n",
       "    </tr>\n",
       "    <tr>\n",
       "      <th>1</th>\n",
       "      <td>Ålder_10_19</td>\n",
       "      <td>355823</td>\n",
       "      <td>101</td>\n",
       "      <td>9</td>\n",
       "    </tr>\n",
       "    <tr>\n",
       "      <th>2</th>\n",
       "      <td>Ålder_20_29</td>\n",
       "      <td>418506</td>\n",
       "      <td>285</td>\n",
       "      <td>41</td>\n",
       "    </tr>\n",
       "    <tr>\n",
       "      <th>3</th>\n",
       "      <td>Ålder_30_39</td>\n",
       "      <td>493443</td>\n",
       "      <td>492</td>\n",
       "      <td>71</td>\n",
       "    </tr>\n",
       "    <tr>\n",
       "      <th>4</th>\n",
       "      <td>Ålder_40_49</td>\n",
       "      <td>474702</td>\n",
       "      <td>997</td>\n",
       "      <td>172</td>\n",
       "    </tr>\n",
       "  </tbody>\n",
       "</table>\n",
       "</div>"
      ],
      "text/plain": [
       "   Åldersgrupp  Totalt_antal_fall  Totalt_antal_intensivvårdade  \\\n",
       "0    Ålder_0_9             138071                           109   \n",
       "1  Ålder_10_19             355823                           101   \n",
       "2  Ålder_20_29             418506                           285   \n",
       "3  Ålder_30_39             493443                           492   \n",
       "4  Ålder_40_49             474702                           997   \n",
       "\n",
       "   Totalt_antal_avlidna  \n",
       "0                    17  \n",
       "1                     9  \n",
       "2                    41  \n",
       "3                    71  \n",
       "4                   172  "
      ]
     },
     "execution_count": 247,
     "metadata": {},
     "output_type": "execute_result"
    }
   ],
   "source": [
    "df = pd.read_excel(\"../Labb/Data/Covid19.xlsx\",sheet_name=\"Totalt antal per åldersgrupp\")  \n",
    "df.head()"
   ]
  },
  {
   "cell_type": "code",
   "execution_count": 248,
   "metadata": {},
   "outputs": [
    {
     "data": {
      "application/vnd.plotly.v1+json": {
       "config": {
        "plotlyServerURL": "https://plot.ly"
       },
       "data": [
        {
         "hovertemplate": "Covid19=Totalt_antal_fall<br>Åldersgrupp=%{x}<br>Antal person=%{y}<extra></extra>",
         "legendgroup": "Totalt_antal_fall",
         "line": {
          "color": "#636efa",
          "dash": "solid"
         },
         "marker": {
          "symbol": "circle"
         },
         "mode": "lines",
         "name": "Totalt_antal_fall",
         "orientation": "v",
         "showlegend": true,
         "type": "scatter",
         "x": [
          "Ålder_0_9",
          "Ålder_10_19",
          "Ålder_20_29",
          "Ålder_30_39",
          "Ålder_40_49",
          "Ålder_50_59",
          "Ålder_60_69",
          "Ålder_70_79",
          "Ålder_80_89",
          "Ålder_90_plus",
          "Uppgift saknas"
         ],
         "xaxis": "x",
         "y": [
          138071,
          355823,
          418506,
          493443,
          474702,
          378468,
          180079,
          87096,
          58170,
          26677,
          545
         ],
         "yaxis": "y"
        },
        {
         "hovertemplate": "Covid19=Totalt_antal_intensivvårdade<br>Åldersgrupp=%{x}<br>Antal person=%{y}<extra></extra>",
         "legendgroup": "Totalt_antal_intensivvårdade",
         "line": {
          "color": "#EF553B",
          "dash": "solid"
         },
         "marker": {
          "symbol": "circle"
         },
         "mode": "lines",
         "name": "Totalt_antal_intensivvårdade",
         "orientation": "v",
         "showlegend": true,
         "type": "scatter",
         "x": [
          "Ålder_0_9",
          "Ålder_10_19",
          "Ålder_20_29",
          "Ålder_30_39",
          "Ålder_40_49",
          "Ålder_50_59",
          "Ålder_60_69",
          "Ålder_70_79",
          "Ålder_80_89",
          "Ålder_90_plus",
          "Uppgift saknas"
         ],
         "xaxis": "x",
         "y": [
          109,
          101,
          285,
          492,
          997,
          1932,
          2595,
          2394,
          612,
          21,
          6
         ],
         "yaxis": "y"
        },
        {
         "hovertemplate": "Covid19=Totalt_antal_avlidna<br>Åldersgrupp=%{x}<br>Antal person=%{y}<extra></extra>",
         "legendgroup": "Totalt_antal_avlidna",
         "line": {
          "color": "#00cc96",
          "dash": "solid"
         },
         "marker": {
          "symbol": "circle"
         },
         "mode": "lines",
         "name": "Totalt_antal_avlidna",
         "orientation": "v",
         "showlegend": true,
         "type": "scatter",
         "x": [
          "Ålder_0_9",
          "Ålder_10_19",
          "Ålder_20_29",
          "Ålder_30_39",
          "Ålder_40_49",
          "Ålder_50_59",
          "Ålder_60_69",
          "Ålder_70_79",
          "Ålder_80_89",
          "Ålder_90_plus",
          "Uppgift saknas"
         ],
         "xaxis": "x",
         "y": [
          17,
          9,
          41,
          71,
          172,
          523,
          1422,
          4654,
          8326,
          5420,
          4
         ],
         "yaxis": "y"
        }
       ],
       "layout": {
        "legend": {
         "title": {
          "text": "Covid19"
         },
         "tracegroupgap": 0
        },
        "template": {
         "data": {
          "bar": [
           {
            "error_x": {
             "color": "#2a3f5f"
            },
            "error_y": {
             "color": "#2a3f5f"
            },
            "marker": {
             "line": {
              "color": "#E5ECF6",
              "width": 0.5
             },
             "pattern": {
              "fillmode": "overlay",
              "size": 10,
              "solidity": 0.2
             }
            },
            "type": "bar"
           }
          ],
          "barpolar": [
           {
            "marker": {
             "line": {
              "color": "#E5ECF6",
              "width": 0.5
             },
             "pattern": {
              "fillmode": "overlay",
              "size": 10,
              "solidity": 0.2
             }
            },
            "type": "barpolar"
           }
          ],
          "carpet": [
           {
            "aaxis": {
             "endlinecolor": "#2a3f5f",
             "gridcolor": "white",
             "linecolor": "white",
             "minorgridcolor": "white",
             "startlinecolor": "#2a3f5f"
            },
            "baxis": {
             "endlinecolor": "#2a3f5f",
             "gridcolor": "white",
             "linecolor": "white",
             "minorgridcolor": "white",
             "startlinecolor": "#2a3f5f"
            },
            "type": "carpet"
           }
          ],
          "choropleth": [
           {
            "colorbar": {
             "outlinewidth": 0,
             "ticks": ""
            },
            "type": "choropleth"
           }
          ],
          "contour": [
           {
            "colorbar": {
             "outlinewidth": 0,
             "ticks": ""
            },
            "colorscale": [
             [
              0,
              "#0d0887"
             ],
             [
              0.1111111111111111,
              "#46039f"
             ],
             [
              0.2222222222222222,
              "#7201a8"
             ],
             [
              0.3333333333333333,
              "#9c179e"
             ],
             [
              0.4444444444444444,
              "#bd3786"
             ],
             [
              0.5555555555555556,
              "#d8576b"
             ],
             [
              0.6666666666666666,
              "#ed7953"
             ],
             [
              0.7777777777777778,
              "#fb9f3a"
             ],
             [
              0.8888888888888888,
              "#fdca26"
             ],
             [
              1,
              "#f0f921"
             ]
            ],
            "type": "contour"
           }
          ],
          "contourcarpet": [
           {
            "colorbar": {
             "outlinewidth": 0,
             "ticks": ""
            },
            "type": "contourcarpet"
           }
          ],
          "heatmap": [
           {
            "colorbar": {
             "outlinewidth": 0,
             "ticks": ""
            },
            "colorscale": [
             [
              0,
              "#0d0887"
             ],
             [
              0.1111111111111111,
              "#46039f"
             ],
             [
              0.2222222222222222,
              "#7201a8"
             ],
             [
              0.3333333333333333,
              "#9c179e"
             ],
             [
              0.4444444444444444,
              "#bd3786"
             ],
             [
              0.5555555555555556,
              "#d8576b"
             ],
             [
              0.6666666666666666,
              "#ed7953"
             ],
             [
              0.7777777777777778,
              "#fb9f3a"
             ],
             [
              0.8888888888888888,
              "#fdca26"
             ],
             [
              1,
              "#f0f921"
             ]
            ],
            "type": "heatmap"
           }
          ],
          "heatmapgl": [
           {
            "colorbar": {
             "outlinewidth": 0,
             "ticks": ""
            },
            "colorscale": [
             [
              0,
              "#0d0887"
             ],
             [
              0.1111111111111111,
              "#46039f"
             ],
             [
              0.2222222222222222,
              "#7201a8"
             ],
             [
              0.3333333333333333,
              "#9c179e"
             ],
             [
              0.4444444444444444,
              "#bd3786"
             ],
             [
              0.5555555555555556,
              "#d8576b"
             ],
             [
              0.6666666666666666,
              "#ed7953"
             ],
             [
              0.7777777777777778,
              "#fb9f3a"
             ],
             [
              0.8888888888888888,
              "#fdca26"
             ],
             [
              1,
              "#f0f921"
             ]
            ],
            "type": "heatmapgl"
           }
          ],
          "histogram": [
           {
            "marker": {
             "pattern": {
              "fillmode": "overlay",
              "size": 10,
              "solidity": 0.2
             }
            },
            "type": "histogram"
           }
          ],
          "histogram2d": [
           {
            "colorbar": {
             "outlinewidth": 0,
             "ticks": ""
            },
            "colorscale": [
             [
              0,
              "#0d0887"
             ],
             [
              0.1111111111111111,
              "#46039f"
             ],
             [
              0.2222222222222222,
              "#7201a8"
             ],
             [
              0.3333333333333333,
              "#9c179e"
             ],
             [
              0.4444444444444444,
              "#bd3786"
             ],
             [
              0.5555555555555556,
              "#d8576b"
             ],
             [
              0.6666666666666666,
              "#ed7953"
             ],
             [
              0.7777777777777778,
              "#fb9f3a"
             ],
             [
              0.8888888888888888,
              "#fdca26"
             ],
             [
              1,
              "#f0f921"
             ]
            ],
            "type": "histogram2d"
           }
          ],
          "histogram2dcontour": [
           {
            "colorbar": {
             "outlinewidth": 0,
             "ticks": ""
            },
            "colorscale": [
             [
              0,
              "#0d0887"
             ],
             [
              0.1111111111111111,
              "#46039f"
             ],
             [
              0.2222222222222222,
              "#7201a8"
             ],
             [
              0.3333333333333333,
              "#9c179e"
             ],
             [
              0.4444444444444444,
              "#bd3786"
             ],
             [
              0.5555555555555556,
              "#d8576b"
             ],
             [
              0.6666666666666666,
              "#ed7953"
             ],
             [
              0.7777777777777778,
              "#fb9f3a"
             ],
             [
              0.8888888888888888,
              "#fdca26"
             ],
             [
              1,
              "#f0f921"
             ]
            ],
            "type": "histogram2dcontour"
           }
          ],
          "mesh3d": [
           {
            "colorbar": {
             "outlinewidth": 0,
             "ticks": ""
            },
            "type": "mesh3d"
           }
          ],
          "parcoords": [
           {
            "line": {
             "colorbar": {
              "outlinewidth": 0,
              "ticks": ""
             }
            },
            "type": "parcoords"
           }
          ],
          "pie": [
           {
            "automargin": true,
            "type": "pie"
           }
          ],
          "scatter": [
           {
            "fillpattern": {
             "fillmode": "overlay",
             "size": 10,
             "solidity": 0.2
            },
            "type": "scatter"
           }
          ],
          "scatter3d": [
           {
            "line": {
             "colorbar": {
              "outlinewidth": 0,
              "ticks": ""
             }
            },
            "marker": {
             "colorbar": {
              "outlinewidth": 0,
              "ticks": ""
             }
            },
            "type": "scatter3d"
           }
          ],
          "scattercarpet": [
           {
            "marker": {
             "colorbar": {
              "outlinewidth": 0,
              "ticks": ""
             }
            },
            "type": "scattercarpet"
           }
          ],
          "scattergeo": [
           {
            "marker": {
             "colorbar": {
              "outlinewidth": 0,
              "ticks": ""
             }
            },
            "type": "scattergeo"
           }
          ],
          "scattergl": [
           {
            "marker": {
             "colorbar": {
              "outlinewidth": 0,
              "ticks": ""
             }
            },
            "type": "scattergl"
           }
          ],
          "scattermapbox": [
           {
            "marker": {
             "colorbar": {
              "outlinewidth": 0,
              "ticks": ""
             }
            },
            "type": "scattermapbox"
           }
          ],
          "scatterpolar": [
           {
            "marker": {
             "colorbar": {
              "outlinewidth": 0,
              "ticks": ""
             }
            },
            "type": "scatterpolar"
           }
          ],
          "scatterpolargl": [
           {
            "marker": {
             "colorbar": {
              "outlinewidth": 0,
              "ticks": ""
             }
            },
            "type": "scatterpolargl"
           }
          ],
          "scatterternary": [
           {
            "marker": {
             "colorbar": {
              "outlinewidth": 0,
              "ticks": ""
             }
            },
            "type": "scatterternary"
           }
          ],
          "surface": [
           {
            "colorbar": {
             "outlinewidth": 0,
             "ticks": ""
            },
            "colorscale": [
             [
              0,
              "#0d0887"
             ],
             [
              0.1111111111111111,
              "#46039f"
             ],
             [
              0.2222222222222222,
              "#7201a8"
             ],
             [
              0.3333333333333333,
              "#9c179e"
             ],
             [
              0.4444444444444444,
              "#bd3786"
             ],
             [
              0.5555555555555556,
              "#d8576b"
             ],
             [
              0.6666666666666666,
              "#ed7953"
             ],
             [
              0.7777777777777778,
              "#fb9f3a"
             ],
             [
              0.8888888888888888,
              "#fdca26"
             ],
             [
              1,
              "#f0f921"
             ]
            ],
            "type": "surface"
           }
          ],
          "table": [
           {
            "cells": {
             "fill": {
              "color": "#EBF0F8"
             },
             "line": {
              "color": "white"
             }
            },
            "header": {
             "fill": {
              "color": "#C8D4E3"
             },
             "line": {
              "color": "white"
             }
            },
            "type": "table"
           }
          ]
         },
         "layout": {
          "annotationdefaults": {
           "arrowcolor": "#2a3f5f",
           "arrowhead": 0,
           "arrowwidth": 1
          },
          "autotypenumbers": "strict",
          "coloraxis": {
           "colorbar": {
            "outlinewidth": 0,
            "ticks": ""
           }
          },
          "colorscale": {
           "diverging": [
            [
             0,
             "#8e0152"
            ],
            [
             0.1,
             "#c51b7d"
            ],
            [
             0.2,
             "#de77ae"
            ],
            [
             0.3,
             "#f1b6da"
            ],
            [
             0.4,
             "#fde0ef"
            ],
            [
             0.5,
             "#f7f7f7"
            ],
            [
             0.6,
             "#e6f5d0"
            ],
            [
             0.7,
             "#b8e186"
            ],
            [
             0.8,
             "#7fbc41"
            ],
            [
             0.9,
             "#4d9221"
            ],
            [
             1,
             "#276419"
            ]
           ],
           "sequential": [
            [
             0,
             "#0d0887"
            ],
            [
             0.1111111111111111,
             "#46039f"
            ],
            [
             0.2222222222222222,
             "#7201a8"
            ],
            [
             0.3333333333333333,
             "#9c179e"
            ],
            [
             0.4444444444444444,
             "#bd3786"
            ],
            [
             0.5555555555555556,
             "#d8576b"
            ],
            [
             0.6666666666666666,
             "#ed7953"
            ],
            [
             0.7777777777777778,
             "#fb9f3a"
            ],
            [
             0.8888888888888888,
             "#fdca26"
            ],
            [
             1,
             "#f0f921"
            ]
           ],
           "sequentialminus": [
            [
             0,
             "#0d0887"
            ],
            [
             0.1111111111111111,
             "#46039f"
            ],
            [
             0.2222222222222222,
             "#7201a8"
            ],
            [
             0.3333333333333333,
             "#9c179e"
            ],
            [
             0.4444444444444444,
             "#bd3786"
            ],
            [
             0.5555555555555556,
             "#d8576b"
            ],
            [
             0.6666666666666666,
             "#ed7953"
            ],
            [
             0.7777777777777778,
             "#fb9f3a"
            ],
            [
             0.8888888888888888,
             "#fdca26"
            ],
            [
             1,
             "#f0f921"
            ]
           ]
          },
          "colorway": [
           "#636efa",
           "#EF553B",
           "#00cc96",
           "#ab63fa",
           "#FFA15A",
           "#19d3f3",
           "#FF6692",
           "#B6E880",
           "#FF97FF",
           "#FECB52"
          ],
          "font": {
           "color": "#2a3f5f"
          },
          "geo": {
           "bgcolor": "white",
           "lakecolor": "white",
           "landcolor": "#E5ECF6",
           "showlakes": true,
           "showland": true,
           "subunitcolor": "white"
          },
          "hoverlabel": {
           "align": "left"
          },
          "hovermode": "closest",
          "mapbox": {
           "style": "light"
          },
          "paper_bgcolor": "white",
          "plot_bgcolor": "#E5ECF6",
          "polar": {
           "angularaxis": {
            "gridcolor": "white",
            "linecolor": "white",
            "ticks": ""
           },
           "bgcolor": "#E5ECF6",
           "radialaxis": {
            "gridcolor": "white",
            "linecolor": "white",
            "ticks": ""
           }
          },
          "scene": {
           "xaxis": {
            "backgroundcolor": "#E5ECF6",
            "gridcolor": "white",
            "gridwidth": 2,
            "linecolor": "white",
            "showbackground": true,
            "ticks": "",
            "zerolinecolor": "white"
           },
           "yaxis": {
            "backgroundcolor": "#E5ECF6",
            "gridcolor": "white",
            "gridwidth": 2,
            "linecolor": "white",
            "showbackground": true,
            "ticks": "",
            "zerolinecolor": "white"
           },
           "zaxis": {
            "backgroundcolor": "#E5ECF6",
            "gridcolor": "white",
            "gridwidth": 2,
            "linecolor": "white",
            "showbackground": true,
            "ticks": "",
            "zerolinecolor": "white"
           }
          },
          "shapedefaults": {
           "line": {
            "color": "#2a3f5f"
           }
          },
          "ternary": {
           "aaxis": {
            "gridcolor": "white",
            "linecolor": "white",
            "ticks": ""
           },
           "baxis": {
            "gridcolor": "white",
            "linecolor": "white",
            "ticks": ""
           },
           "bgcolor": "#E5ECF6",
           "caxis": {
            "gridcolor": "white",
            "linecolor": "white",
            "ticks": ""
           }
          },
          "title": {
           "x": 0.05
          },
          "xaxis": {
           "automargin": true,
           "gridcolor": "white",
           "linecolor": "white",
           "ticks": "",
           "title": {
            "standoff": 15
           },
           "zerolinecolor": "white",
           "zerolinewidth": 2
          },
          "yaxis": {
           "automargin": true,
           "gridcolor": "white",
           "linecolor": "white",
           "ticks": "",
           "title": {
            "standoff": 15
           },
           "zerolinecolor": "white",
           "zerolinewidth": 2
          }
         }
        },
        "title": {
         "text": "Number of cases, intensive care patients and death"
        },
        "xaxis": {
         "anchor": "y",
         "domain": [
          0,
          1
         ],
         "title": {
          "text": "Åldersgrupp"
         }
        },
        "yaxis": {
         "anchor": "x",
         "domain": [
          0,
          1
         ],
         "title": {
          "text": "Antal person"
         },
         "type": "log"
        }
       }
      }
     },
     "metadata": {},
     "output_type": "display_data"
    }
   ],
   "source": [
    "fig = px.line(\n",
    "    df,\n",
    "    x=\"Åldersgrupp\",\n",
    "    y=[\"Totalt_antal_fall\", \"Totalt_antal_intensivvårdade\", \"Totalt_antal_avlidna\"],\n",
    "    labels = {\"Åldersgrupp\":\"Åldersgrupp\",\"value\":\"Antal person\", \"variable\": \"Covid19\"},\n",
    "    log_y=True,\n",
    "    title=\"Number of cases, intensive care patients and death\",\n",
    ")\n",
    "fig.show()\n",
    "#fig.write_html(\"uppgift 3-1.html\", auto_open = True)"
   ]
  },
  {
   "cell_type": "markdown",
   "metadata": {},
   "source": [
    "## KPI 2 : \n",
    "   - Read the data related to  corresponding sheet on Covid19 \n",
    "   - Pick out the date by find out maximum number of cases\n",
    "   - With that maximum cases we can pick out the kommun\n"
   ]
  },
  {
   "cell_type": "code",
   "execution_count": 249,
   "metadata": {},
   "outputs": [
    {
     "data": {
      "text/html": [
       "<div>\n",
       "<style scoped>\n",
       "    .dataframe tbody tr th:only-of-type {\n",
       "        vertical-align: middle;\n",
       "    }\n",
       "\n",
       "    .dataframe tbody tr th {\n",
       "        vertical-align: top;\n",
       "    }\n",
       "\n",
       "    .dataframe thead th {\n",
       "        text-align: right;\n",
       "    }\n",
       "</style>\n",
       "<table border=\"1\" class=\"dataframe\">\n",
       "  <thead>\n",
       "    <tr style=\"text-align: right;\">\n",
       "      <th></th>\n",
       "      <th>Statistikdatum</th>\n",
       "      <th>Totalt_antal_fall</th>\n",
       "      <th>Blekinge</th>\n",
       "      <th>Dalarna</th>\n",
       "      <th>Gotland</th>\n",
       "      <th>Gävleborg</th>\n",
       "      <th>Halland</th>\n",
       "      <th>Jämtland_Härjedalen</th>\n",
       "      <th>Jönköping</th>\n",
       "      <th>Kalmar</th>\n",
       "      <th>...</th>\n",
       "      <th>Stockholm</th>\n",
       "      <th>Sörmland</th>\n",
       "      <th>Uppsala</th>\n",
       "      <th>Värmland</th>\n",
       "      <th>Västerbotten</th>\n",
       "      <th>Västernorrland</th>\n",
       "      <th>Västmanland</th>\n",
       "      <th>Västra_Götaland</th>\n",
       "      <th>Örebro</th>\n",
       "      <th>Östergötland</th>\n",
       "    </tr>\n",
       "  </thead>\n",
       "  <tbody>\n",
       "    <tr>\n",
       "      <th>0</th>\n",
       "      <td>2020-02-04</td>\n",
       "      <td>1</td>\n",
       "      <td>0</td>\n",
       "      <td>0</td>\n",
       "      <td>0</td>\n",
       "      <td>0</td>\n",
       "      <td>0</td>\n",
       "      <td>0</td>\n",
       "      <td>1</td>\n",
       "      <td>0</td>\n",
       "      <td>...</td>\n",
       "      <td>0</td>\n",
       "      <td>0</td>\n",
       "      <td>0</td>\n",
       "      <td>0</td>\n",
       "      <td>0</td>\n",
       "      <td>0</td>\n",
       "      <td>0</td>\n",
       "      <td>0</td>\n",
       "      <td>0</td>\n",
       "      <td>0</td>\n",
       "    </tr>\n",
       "    <tr>\n",
       "      <th>1</th>\n",
       "      <td>2020-02-05</td>\n",
       "      <td>0</td>\n",
       "      <td>0</td>\n",
       "      <td>0</td>\n",
       "      <td>0</td>\n",
       "      <td>0</td>\n",
       "      <td>0</td>\n",
       "      <td>0</td>\n",
       "      <td>0</td>\n",
       "      <td>0</td>\n",
       "      <td>...</td>\n",
       "      <td>0</td>\n",
       "      <td>0</td>\n",
       "      <td>0</td>\n",
       "      <td>0</td>\n",
       "      <td>0</td>\n",
       "      <td>0</td>\n",
       "      <td>0</td>\n",
       "      <td>0</td>\n",
       "      <td>0</td>\n",
       "      <td>0</td>\n",
       "    </tr>\n",
       "    <tr>\n",
       "      <th>2</th>\n",
       "      <td>2020-02-06</td>\n",
       "      <td>0</td>\n",
       "      <td>0</td>\n",
       "      <td>0</td>\n",
       "      <td>0</td>\n",
       "      <td>0</td>\n",
       "      <td>0</td>\n",
       "      <td>0</td>\n",
       "      <td>0</td>\n",
       "      <td>0</td>\n",
       "      <td>...</td>\n",
       "      <td>0</td>\n",
       "      <td>0</td>\n",
       "      <td>0</td>\n",
       "      <td>0</td>\n",
       "      <td>0</td>\n",
       "      <td>0</td>\n",
       "      <td>0</td>\n",
       "      <td>0</td>\n",
       "      <td>0</td>\n",
       "      <td>0</td>\n",
       "    </tr>\n",
       "    <tr>\n",
       "      <th>3</th>\n",
       "      <td>2020-02-07</td>\n",
       "      <td>0</td>\n",
       "      <td>0</td>\n",
       "      <td>0</td>\n",
       "      <td>0</td>\n",
       "      <td>0</td>\n",
       "      <td>0</td>\n",
       "      <td>0</td>\n",
       "      <td>0</td>\n",
       "      <td>0</td>\n",
       "      <td>...</td>\n",
       "      <td>0</td>\n",
       "      <td>0</td>\n",
       "      <td>0</td>\n",
       "      <td>0</td>\n",
       "      <td>0</td>\n",
       "      <td>0</td>\n",
       "      <td>0</td>\n",
       "      <td>0</td>\n",
       "      <td>0</td>\n",
       "      <td>0</td>\n",
       "    </tr>\n",
       "    <tr>\n",
       "      <th>4</th>\n",
       "      <td>2020-02-08</td>\n",
       "      <td>0</td>\n",
       "      <td>0</td>\n",
       "      <td>0</td>\n",
       "      <td>0</td>\n",
       "      <td>0</td>\n",
       "      <td>0</td>\n",
       "      <td>0</td>\n",
       "      <td>0</td>\n",
       "      <td>0</td>\n",
       "      <td>...</td>\n",
       "      <td>0</td>\n",
       "      <td>0</td>\n",
       "      <td>0</td>\n",
       "      <td>0</td>\n",
       "      <td>0</td>\n",
       "      <td>0</td>\n",
       "      <td>0</td>\n",
       "      <td>0</td>\n",
       "      <td>0</td>\n",
       "      <td>0</td>\n",
       "    </tr>\n",
       "  </tbody>\n",
       "</table>\n",
       "<p>5 rows × 23 columns</p>\n",
       "</div>"
      ],
      "text/plain": [
       "  Statistikdatum  Totalt_antal_fall  Blekinge  Dalarna  Gotland  Gävleborg  \\\n",
       "0     2020-02-04                  1         0        0        0          0   \n",
       "1     2020-02-05                  0         0        0        0          0   \n",
       "2     2020-02-06                  0         0        0        0          0   \n",
       "3     2020-02-07                  0         0        0        0          0   \n",
       "4     2020-02-08                  0         0        0        0          0   \n",
       "\n",
       "   Halland  Jämtland_Härjedalen  Jönköping  Kalmar  ...  Stockholm  Sörmland  \\\n",
       "0        0                    0          1       0  ...          0         0   \n",
       "1        0                    0          0       0  ...          0         0   \n",
       "2        0                    0          0       0  ...          0         0   \n",
       "3        0                    0          0       0  ...          0         0   \n",
       "4        0                    0          0       0  ...          0         0   \n",
       "\n",
       "   Uppsala  Värmland  Västerbotten  Västernorrland  Västmanland  \\\n",
       "0        0         0             0               0            0   \n",
       "1        0         0             0               0            0   \n",
       "2        0         0             0               0            0   \n",
       "3        0         0             0               0            0   \n",
       "4        0         0             0               0            0   \n",
       "\n",
       "   Västra_Götaland  Örebro  Östergötland  \n",
       "0                0       0             0  \n",
       "1                0       0             0  \n",
       "2                0       0             0  \n",
       "3                0       0             0  \n",
       "4                0       0             0  \n",
       "\n",
       "[5 rows x 23 columns]"
      ]
     },
     "execution_count": 249,
     "metadata": {},
     "output_type": "execute_result"
    }
   ],
   "source": [
    "df = pd.read_excel(\"../Labb/Data/Covid19.xlsx\",sheet_name=\"Antal per dag region\")  \n",
    "df.head()"
   ]
  },
  {
   "cell_type": "code",
   "execution_count": 250,
   "metadata": {},
   "outputs": [
    {
     "data": {
      "text/html": [
       "<div>\n",
       "<style scoped>\n",
       "    .dataframe tbody tr th:only-of-type {\n",
       "        vertical-align: middle;\n",
       "    }\n",
       "\n",
       "    .dataframe tbody tr th {\n",
       "        vertical-align: top;\n",
       "    }\n",
       "\n",
       "    .dataframe thead th {\n",
       "        text-align: right;\n",
       "    }\n",
       "</style>\n",
       "<table border=\"1\" class=\"dataframe\">\n",
       "  <thead>\n",
       "    <tr style=\"text-align: right;\">\n",
       "      <th></th>\n",
       "      <th>Statistikdatum</th>\n",
       "      <th>Totalt_antal_fall</th>\n",
       "      <th>Blekinge</th>\n",
       "      <th>Dalarna</th>\n",
       "      <th>Gotland</th>\n",
       "      <th>Gävleborg</th>\n",
       "      <th>Halland</th>\n",
       "      <th>Jämtland_Härjedalen</th>\n",
       "      <th>Jönköping</th>\n",
       "      <th>Kalmar</th>\n",
       "      <th>...</th>\n",
       "      <th>Stockholm</th>\n",
       "      <th>Sörmland</th>\n",
       "      <th>Uppsala</th>\n",
       "      <th>Värmland</th>\n",
       "      <th>Västerbotten</th>\n",
       "      <th>Västernorrland</th>\n",
       "      <th>Västmanland</th>\n",
       "      <th>Västra_Götaland</th>\n",
       "      <th>Örebro</th>\n",
       "      <th>Östergötland</th>\n",
       "    </tr>\n",
       "  </thead>\n",
       "  <tbody>\n",
       "    <tr>\n",
       "      <th>723</th>\n",
       "      <td>2022-01-27</td>\n",
       "      <td>53881</td>\n",
       "      <td>547</td>\n",
       "      <td>1371</td>\n",
       "      <td>235</td>\n",
       "      <td>1496</td>\n",
       "      <td>2878</td>\n",
       "      <td>1232</td>\n",
       "      <td>2682</td>\n",
       "      <td>1259</td>\n",
       "      <td>...</td>\n",
       "      <td>8169</td>\n",
       "      <td>745</td>\n",
       "      <td>2454</td>\n",
       "      <td>1474</td>\n",
       "      <td>753</td>\n",
       "      <td>1178</td>\n",
       "      <td>2151</td>\n",
       "      <td>14429</td>\n",
       "      <td>1464</td>\n",
       "      <td>2139</td>\n",
       "    </tr>\n",
       "    <tr>\n",
       "      <th>721</th>\n",
       "      <td>2022-01-25</td>\n",
       "      <td>46669</td>\n",
       "      <td>445</td>\n",
       "      <td>1580</td>\n",
       "      <td>336</td>\n",
       "      <td>1284</td>\n",
       "      <td>2056</td>\n",
       "      <td>492</td>\n",
       "      <td>1461</td>\n",
       "      <td>1562</td>\n",
       "      <td>...</td>\n",
       "      <td>9642</td>\n",
       "      <td>1579</td>\n",
       "      <td>2033</td>\n",
       "      <td>2147</td>\n",
       "      <td>1230</td>\n",
       "      <td>922</td>\n",
       "      <td>2093</td>\n",
       "      <td>8609</td>\n",
       "      <td>2245</td>\n",
       "      <td>1564</td>\n",
       "    </tr>\n",
       "  </tbody>\n",
       "</table>\n",
       "<p>2 rows × 23 columns</p>\n",
       "</div>"
      ],
      "text/plain": [
       "    Statistikdatum  Totalt_antal_fall  Blekinge  Dalarna  Gotland  Gävleborg  \\\n",
       "723     2022-01-27              53881       547     1371      235       1496   \n",
       "721     2022-01-25              46669       445     1580      336       1284   \n",
       "\n",
       "     Halland  Jämtland_Härjedalen  Jönköping  Kalmar  ...  Stockholm  \\\n",
       "723     2878                 1232       2682    1259  ...       8169   \n",
       "721     2056                  492       1461    1562  ...       9642   \n",
       "\n",
       "     Sörmland  Uppsala  Värmland  Västerbotten  Västernorrland  Västmanland  \\\n",
       "723       745     2454      1474           753            1178         2151   \n",
       "721      1579     2033      2147          1230             922         2093   \n",
       "\n",
       "     Västra_Götaland  Örebro  Östergötland  \n",
       "723            14429    1464          2139  \n",
       "721             8609    2245          1564  \n",
       "\n",
       "[2 rows x 23 columns]"
      ]
     },
     "execution_count": 250,
     "metadata": {},
     "output_type": "execute_result"
    }
   ],
   "source": [
    "#df.query('Totalt_antal_fall == Totalt_antal_fall.max()') # It is also working\n",
    "\n",
    "df.nlargest(2,['Totalt_antal_fall']) # to find how many top rows you want fo specific column"
   ]
  },
  {
   "cell_type": "code",
   "execution_count": 251,
   "metadata": {},
   "outputs": [
    {
     "data": {
      "text/html": [
       "<div>\n",
       "<style scoped>\n",
       "    .dataframe tbody tr th:only-of-type {\n",
       "        vertical-align: middle;\n",
       "    }\n",
       "\n",
       "    .dataframe tbody tr th {\n",
       "        vertical-align: top;\n",
       "    }\n",
       "\n",
       "    .dataframe thead th {\n",
       "        text-align: right;\n",
       "    }\n",
       "</style>\n",
       "<table border=\"1\" class=\"dataframe\">\n",
       "  <thead>\n",
       "    <tr style=\"text-align: right;\">\n",
       "      <th></th>\n",
       "      <th>Statistikdatum</th>\n",
       "      <th>Totalt_antal_fall</th>\n",
       "      <th>Blekinge</th>\n",
       "      <th>Dalarna</th>\n",
       "      <th>Gotland</th>\n",
       "      <th>Gävleborg</th>\n",
       "      <th>Halland</th>\n",
       "      <th>Jämtland_Härjedalen</th>\n",
       "      <th>Jönköping</th>\n",
       "      <th>Kalmar</th>\n",
       "      <th>...</th>\n",
       "      <th>Stockholm</th>\n",
       "      <th>Sörmland</th>\n",
       "      <th>Uppsala</th>\n",
       "      <th>Värmland</th>\n",
       "      <th>Västerbotten</th>\n",
       "      <th>Västernorrland</th>\n",
       "      <th>Västmanland</th>\n",
       "      <th>Västra_Götaland</th>\n",
       "      <th>Örebro</th>\n",
       "      <th>Östergötland</th>\n",
       "    </tr>\n",
       "  </thead>\n",
       "  <tbody>\n",
       "    <tr>\n",
       "      <th>723</th>\n",
       "      <td>2022-01-27</td>\n",
       "      <td>53881</td>\n",
       "      <td>547</td>\n",
       "      <td>1371</td>\n",
       "      <td>235</td>\n",
       "      <td>1496</td>\n",
       "      <td>2878</td>\n",
       "      <td>1232</td>\n",
       "      <td>2682</td>\n",
       "      <td>1259</td>\n",
       "      <td>...</td>\n",
       "      <td>8169</td>\n",
       "      <td>745</td>\n",
       "      <td>2454</td>\n",
       "      <td>1474</td>\n",
       "      <td>753</td>\n",
       "      <td>1178</td>\n",
       "      <td>2151</td>\n",
       "      <td>14429</td>\n",
       "      <td>1464</td>\n",
       "      <td>2139</td>\n",
       "    </tr>\n",
       "  </tbody>\n",
       "</table>\n",
       "<p>1 rows × 23 columns</p>\n",
       "</div>"
      ],
      "text/plain": [
       "    Statistikdatum  Totalt_antal_fall  Blekinge  Dalarna  Gotland  Gävleborg  \\\n",
       "723     2022-01-27              53881       547     1371      235       1496   \n",
       "\n",
       "     Halland  Jämtland_Härjedalen  Jönköping  Kalmar  ...  Stockholm  \\\n",
       "723     2878                 1232       2682    1259  ...       8169   \n",
       "\n",
       "     Sörmland  Uppsala  Värmland  Västerbotten  Västernorrland  Västmanland  \\\n",
       "723       745     2454      1474           753            1178         2151   \n",
       "\n",
       "     Västra_Götaland  Örebro  Östergötland  \n",
       "723            14429    1464          2139  \n",
       "\n",
       "[1 rows x 23 columns]"
      ]
     },
     "execution_count": 251,
     "metadata": {},
     "output_type": "execute_result"
    }
   ],
   "source": [
    "# returns row with maximum value in \"Totalt_antal_fall\" column\n",
    "df_max = df[df[\"Totalt_antal_fall\"] == df[\"Totalt_antal_fall\"].max()]\n",
    "df_max\n"
   ]
  },
  {
   "cell_type": "code",
   "execution_count": 252,
   "metadata": {},
   "outputs": [
    {
     "data": {
      "text/html": [
       "<div>\n",
       "<style scoped>\n",
       "    .dataframe tbody tr th:only-of-type {\n",
       "        vertical-align: middle;\n",
       "    }\n",
       "\n",
       "    .dataframe tbody tr th {\n",
       "        vertical-align: top;\n",
       "    }\n",
       "\n",
       "    .dataframe thead th {\n",
       "        text-align: right;\n",
       "    }\n",
       "</style>\n",
       "<table border=\"1\" class=\"dataframe\">\n",
       "  <thead>\n",
       "    <tr style=\"text-align: right;\">\n",
       "      <th></th>\n",
       "      <th>Blekinge</th>\n",
       "      <th>Dalarna</th>\n",
       "      <th>Gotland</th>\n",
       "      <th>Gävleborg</th>\n",
       "      <th>Halland</th>\n",
       "      <th>Jämtland_Härjedalen</th>\n",
       "      <th>Jönköping</th>\n",
       "      <th>Kalmar</th>\n",
       "      <th>Kronoberg</th>\n",
       "      <th>Norrbotten</th>\n",
       "      <th>...</th>\n",
       "      <th>Stockholm</th>\n",
       "      <th>Sörmland</th>\n",
       "      <th>Uppsala</th>\n",
       "      <th>Värmland</th>\n",
       "      <th>Västerbotten</th>\n",
       "      <th>Västernorrland</th>\n",
       "      <th>Västmanland</th>\n",
       "      <th>Västra_Götaland</th>\n",
       "      <th>Örebro</th>\n",
       "      <th>Östergötland</th>\n",
       "    </tr>\n",
       "  </thead>\n",
       "  <tbody>\n",
       "    <tr>\n",
       "      <th>723</th>\n",
       "      <td>547</td>\n",
       "      <td>1371</td>\n",
       "      <td>235</td>\n",
       "      <td>1496</td>\n",
       "      <td>2878</td>\n",
       "      <td>1232</td>\n",
       "      <td>2682</td>\n",
       "      <td>1259</td>\n",
       "      <td>1239</td>\n",
       "      <td>470</td>\n",
       "      <td>...</td>\n",
       "      <td>8169</td>\n",
       "      <td>745</td>\n",
       "      <td>2454</td>\n",
       "      <td>1474</td>\n",
       "      <td>753</td>\n",
       "      <td>1178</td>\n",
       "      <td>2151</td>\n",
       "      <td>14429</td>\n",
       "      <td>1464</td>\n",
       "      <td>2139</td>\n",
       "    </tr>\n",
       "  </tbody>\n",
       "</table>\n",
       "<p>1 rows × 21 columns</p>\n",
       "</div>"
      ],
      "text/plain": [
       "     Blekinge  Dalarna  Gotland  Gävleborg  Halland  Jämtland_Härjedalen  \\\n",
       "723       547     1371      235       1496     2878                 1232   \n",
       "\n",
       "     Jönköping  Kalmar  Kronoberg  Norrbotten  ...  Stockholm  Sörmland  \\\n",
       "723       2682    1259       1239         470  ...       8169       745   \n",
       "\n",
       "     Uppsala  Värmland  Västerbotten  Västernorrland  Västmanland  \\\n",
       "723     2454      1474           753            1178         2151   \n",
       "\n",
       "     Västra_Götaland  Örebro  Östergötland  \n",
       "723            14429    1464          2139  \n",
       "\n",
       "[1 rows x 21 columns]"
      ]
     },
     "execution_count": 252,
     "metadata": {},
     "output_type": "execute_result"
    }
   ],
   "source": [
    "df_kommun = df_max.loc[:,  ~df_max.columns.isin(['Statistikdatum','Totalt_antal_fall'])] # Exlude multiple columns\n",
    "df_kommun\n"
   ]
  },
  {
   "cell_type": "code",
   "execution_count": 253,
   "metadata": {},
   "outputs": [
    {
     "name": "stdout",
     "output_type": "stream",
     "text": [
      "723    Västra_Götaland\n",
      "dtype: object\n"
     ]
    }
   ],
   "source": [
    "kommun = df_kommun.idxmax(axis = 1)\n",
    "print(kommun)"
   ]
  },
  {
   "cell_type": "markdown",
   "metadata": {},
   "source": [
    "###  --> The heighest number of cases  are registerd in Västra_Götaland kommun on 2022-01-27\t"
   ]
  },
  {
   "cell_type": "markdown",
   "metadata": {},
   "source": [
    "## KPI 3:\n",
    "  - Read data \n",
    "  - collect district from the data "
   ]
  },
  {
   "cell_type": "code",
   "execution_count": 254,
   "metadata": {},
   "outputs": [
    {
     "data": {
      "text/html": [
       "<div>\n",
       "<style scoped>\n",
       "    .dataframe tbody tr th:only-of-type {\n",
       "        vertical-align: middle;\n",
       "    }\n",
       "\n",
       "    .dataframe tbody tr th {\n",
       "        vertical-align: top;\n",
       "    }\n",
       "\n",
       "    .dataframe thead th {\n",
       "        text-align: right;\n",
       "    }\n",
       "</style>\n",
       "<table border=\"1\" class=\"dataframe\">\n",
       "  <thead>\n",
       "    <tr style=\"text-align: right;\">\n",
       "      <th></th>\n",
       "      <th>år</th>\n",
       "      <th>veckonummer</th>\n",
       "      <th>KnKod</th>\n",
       "      <th>KnNamn</th>\n",
       "      <th>Stadsdel</th>\n",
       "      <th>Kommun_stadsdel</th>\n",
       "      <th>tot_antal_fall_per10000inv</th>\n",
       "      <th>antal_fall_per10000_inv</th>\n",
       "      <th>tot_antal_fall</th>\n",
       "      <th>nya_fall_vecka</th>\n",
       "    </tr>\n",
       "  </thead>\n",
       "  <tbody>\n",
       "    <tr>\n",
       "      <th>0</th>\n",
       "      <td>2020</td>\n",
       "      <td>1</td>\n",
       "      <td>1440</td>\n",
       "      <td>Ale</td>\n",
       "      <td>NaN</td>\n",
       "      <td>Ale</td>\n",
       "      <td>0.0</td>\n",
       "      <td>0.0</td>\n",
       "      <td>0</td>\n",
       "      <td>0</td>\n",
       "    </tr>\n",
       "    <tr>\n",
       "      <th>1</th>\n",
       "      <td>2020</td>\n",
       "      <td>2</td>\n",
       "      <td>1440</td>\n",
       "      <td>Ale</td>\n",
       "      <td>NaN</td>\n",
       "      <td>Ale</td>\n",
       "      <td>0.0</td>\n",
       "      <td>0.0</td>\n",
       "      <td>0</td>\n",
       "      <td>0</td>\n",
       "    </tr>\n",
       "    <tr>\n",
       "      <th>2</th>\n",
       "      <td>2020</td>\n",
       "      <td>3</td>\n",
       "      <td>1440</td>\n",
       "      <td>Ale</td>\n",
       "      <td>NaN</td>\n",
       "      <td>Ale</td>\n",
       "      <td>0.0</td>\n",
       "      <td>0.0</td>\n",
       "      <td>0</td>\n",
       "      <td>0</td>\n",
       "    </tr>\n",
       "    <tr>\n",
       "      <th>3</th>\n",
       "      <td>2020</td>\n",
       "      <td>4</td>\n",
       "      <td>1440</td>\n",
       "      <td>Ale</td>\n",
       "      <td>NaN</td>\n",
       "      <td>Ale</td>\n",
       "      <td>0.0</td>\n",
       "      <td>0.0</td>\n",
       "      <td>0</td>\n",
       "      <td>0</td>\n",
       "    </tr>\n",
       "    <tr>\n",
       "      <th>4</th>\n",
       "      <td>2020</td>\n",
       "      <td>5</td>\n",
       "      <td>1440</td>\n",
       "      <td>Ale</td>\n",
       "      <td>NaN</td>\n",
       "      <td>Ale</td>\n",
       "      <td>0.0</td>\n",
       "      <td>0.0</td>\n",
       "      <td>0</td>\n",
       "      <td>0</td>\n",
       "    </tr>\n",
       "  </tbody>\n",
       "</table>\n",
       "</div>"
      ],
      "text/plain": [
       "     år  veckonummer KnKod KnNamn Stadsdel Kommun_stadsdel  \\\n",
       "0  2020            1  1440    Ale      NaN             Ale   \n",
       "1  2020            2  1440    Ale      NaN             Ale   \n",
       "2  2020            3  1440    Ale      NaN             Ale   \n",
       "3  2020            4  1440    Ale      NaN             Ale   \n",
       "4  2020            5  1440    Ale      NaN             Ale   \n",
       "\n",
       "   tot_antal_fall_per10000inv  antal_fall_per10000_inv tot_antal_fall  \\\n",
       "0                         0.0                      0.0              0   \n",
       "1                         0.0                      0.0              0   \n",
       "2                         0.0                      0.0              0   \n",
       "3                         0.0                      0.0              0   \n",
       "4                         0.0                      0.0              0   \n",
       "\n",
       "  nya_fall_vecka  \n",
       "0              0  \n",
       "1              0  \n",
       "2              0  \n",
       "3              0  \n",
       "4              0  "
      ]
     },
     "execution_count": 254,
     "metadata": {},
     "output_type": "execute_result"
    }
   ],
   "source": [
    "df = pd.read_excel(\"../Labb/Data/Covid19.xlsx\",sheet_name=\"Veckodata Kommun_stadsdel\")  \n",
    "df.head()"
   ]
  },
  {
   "cell_type": "code",
   "execution_count": 255,
   "metadata": {},
   "outputs": [
    {
     "data": {
      "text/plain": [
       "Index(['år', 'veckonummer', 'KnKod', 'KnNamn', 'Stadsdel', 'Kommun_stadsdel',\n",
       "       'tot_antal_fall_per10000inv', 'antal_fall_per10000_inv',\n",
       "       'tot_antal_fall', 'nya_fall_vecka'],\n",
       "      dtype='object')"
      ]
     },
     "execution_count": 255,
     "metadata": {},
     "output_type": "execute_result"
    }
   ],
   "source": [
    "df.columns\n"
   ]
  },
  {
   "cell_type": "code",
   "execution_count": 256,
   "metadata": {},
   "outputs": [
    {
     "data": {
      "text/html": [
       "<div>\n",
       "<style scoped>\n",
       "    .dataframe tbody tr th:only-of-type {\n",
       "        vertical-align: middle;\n",
       "    }\n",
       "\n",
       "    .dataframe tbody tr th {\n",
       "        vertical-align: top;\n",
       "    }\n",
       "\n",
       "    .dataframe thead th {\n",
       "        text-align: right;\n",
       "    }\n",
       "</style>\n",
       "<table border=\"1\" class=\"dataframe\">\n",
       "  <thead>\n",
       "    <tr style=\"text-align: right;\">\n",
       "      <th></th>\n",
       "      <th>år</th>\n",
       "      <th>veckonummer</th>\n",
       "      <th>KnKod</th>\n",
       "      <th>KnNamn</th>\n",
       "      <th>Stadsdel</th>\n",
       "      <th>Kommun_stadsdel</th>\n",
       "      <th>tot_antal_fall_per10000inv</th>\n",
       "      <th>antal_fall_per10000_inv</th>\n",
       "      <th>tot_antal_fall</th>\n",
       "      <th>nya_fall_vecka</th>\n",
       "    </tr>\n",
       "  </thead>\n",
       "  <tbody>\n",
       "    <tr>\n",
       "      <th>8379</th>\n",
       "      <td>2020</td>\n",
       "      <td>1</td>\n",
       "      <td>1480</td>\n",
       "      <td>Göteborg</td>\n",
       "      <td>Angered</td>\n",
       "      <td>Göteborg Angered</td>\n",
       "      <td>0.0</td>\n",
       "      <td>0.0</td>\n",
       "      <td>0</td>\n",
       "      <td>0</td>\n",
       "    </tr>\n",
       "    <tr>\n",
       "      <th>8380</th>\n",
       "      <td>2020</td>\n",
       "      <td>2</td>\n",
       "      <td>1480</td>\n",
       "      <td>Göteborg</td>\n",
       "      <td>Angered</td>\n",
       "      <td>Göteborg Angered</td>\n",
       "      <td>0.0</td>\n",
       "      <td>0.0</td>\n",
       "      <td>0</td>\n",
       "      <td>0</td>\n",
       "    </tr>\n",
       "    <tr>\n",
       "      <th>8381</th>\n",
       "      <td>2020</td>\n",
       "      <td>3</td>\n",
       "      <td>1480</td>\n",
       "      <td>Göteborg</td>\n",
       "      <td>Angered</td>\n",
       "      <td>Göteborg Angered</td>\n",
       "      <td>0.0</td>\n",
       "      <td>0.0</td>\n",
       "      <td>0</td>\n",
       "      <td>0</td>\n",
       "    </tr>\n",
       "    <tr>\n",
       "      <th>8382</th>\n",
       "      <td>2020</td>\n",
       "      <td>4</td>\n",
       "      <td>1480</td>\n",
       "      <td>Göteborg</td>\n",
       "      <td>Angered</td>\n",
       "      <td>Göteborg Angered</td>\n",
       "      <td>0.0</td>\n",
       "      <td>0.0</td>\n",
       "      <td>0</td>\n",
       "      <td>0</td>\n",
       "    </tr>\n",
       "    <tr>\n",
       "      <th>8383</th>\n",
       "      <td>2020</td>\n",
       "      <td>5</td>\n",
       "      <td>1480</td>\n",
       "      <td>Göteborg</td>\n",
       "      <td>Angered</td>\n",
       "      <td>Göteborg Angered</td>\n",
       "      <td>0.0</td>\n",
       "      <td>0.0</td>\n",
       "      <td>0</td>\n",
       "      <td>0</td>\n",
       "    </tr>\n",
       "    <tr>\n",
       "      <th>...</th>\n",
       "      <td>...</td>\n",
       "      <td>...</td>\n",
       "      <td>...</td>\n",
       "      <td>...</td>\n",
       "      <td>...</td>\n",
       "      <td>...</td>\n",
       "      <td>...</td>\n",
       "      <td>...</td>\n",
       "      <td>...</td>\n",
       "      <td>...</td>\n",
       "    </tr>\n",
       "    <tr>\n",
       "      <th>9844</th>\n",
       "      <td>2022</td>\n",
       "      <td>38</td>\n",
       "      <td>1480</td>\n",
       "      <td>Göteborg</td>\n",
       "      <td>Östra Göteborg</td>\n",
       "      <td>Göteborg Östra Göteborg</td>\n",
       "      <td>2682.0</td>\n",
       "      <td>3.0</td>\n",
       "      <td>13967</td>\n",
       "      <td>16</td>\n",
       "    </tr>\n",
       "    <tr>\n",
       "      <th>9845</th>\n",
       "      <td>2022</td>\n",
       "      <td>39</td>\n",
       "      <td>1480</td>\n",
       "      <td>Göteborg</td>\n",
       "      <td>Östra Göteborg</td>\n",
       "      <td>Göteborg Östra Göteborg</td>\n",
       "      <td>2684.0</td>\n",
       "      <td>2.0</td>\n",
       "      <td>13975</td>\n",
       "      <td>8</td>\n",
       "    </tr>\n",
       "    <tr>\n",
       "      <th>9846</th>\n",
       "      <td>2022</td>\n",
       "      <td>40</td>\n",
       "      <td>1480</td>\n",
       "      <td>Göteborg</td>\n",
       "      <td>Östra Göteborg</td>\n",
       "      <td>Göteborg Östra Göteborg</td>\n",
       "      <td>2686.0</td>\n",
       "      <td>2.0</td>\n",
       "      <td>13986</td>\n",
       "      <td>11</td>\n",
       "    </tr>\n",
       "    <tr>\n",
       "      <th>9847</th>\n",
       "      <td>2022</td>\n",
       "      <td>41</td>\n",
       "      <td>1480</td>\n",
       "      <td>Göteborg</td>\n",
       "      <td>Östra Göteborg</td>\n",
       "      <td>Göteborg Östra Göteborg</td>\n",
       "      <td>2688.0</td>\n",
       "      <td>2.0</td>\n",
       "      <td>13996</td>\n",
       "      <td>10</td>\n",
       "    </tr>\n",
       "    <tr>\n",
       "      <th>9848</th>\n",
       "      <td>2022</td>\n",
       "      <td>42</td>\n",
       "      <td>1480</td>\n",
       "      <td>Göteborg</td>\n",
       "      <td>Östra Göteborg</td>\n",
       "      <td>Göteborg Östra Göteborg</td>\n",
       "      <td>2689.0</td>\n",
       "      <td>1.0</td>\n",
       "      <td>14002</td>\n",
       "      <td>6</td>\n",
       "    </tr>\n",
       "  </tbody>\n",
       "</table>\n",
       "<p>1470 rows × 10 columns</p>\n",
       "</div>"
      ],
      "text/plain": [
       "        år  veckonummer KnKod    KnNamn        Stadsdel  \\\n",
       "8379  2020            1  1480  Göteborg         Angered   \n",
       "8380  2020            2  1480  Göteborg         Angered   \n",
       "8381  2020            3  1480  Göteborg         Angered   \n",
       "8382  2020            4  1480  Göteborg         Angered   \n",
       "8383  2020            5  1480  Göteborg         Angered   \n",
       "...    ...          ...   ...       ...             ...   \n",
       "9844  2022           38  1480  Göteborg  Östra Göteborg   \n",
       "9845  2022           39  1480  Göteborg  Östra Göteborg   \n",
       "9846  2022           40  1480  Göteborg  Östra Göteborg   \n",
       "9847  2022           41  1480  Göteborg  Östra Göteborg   \n",
       "9848  2022           42  1480  Göteborg  Östra Göteborg   \n",
       "\n",
       "              Kommun_stadsdel  tot_antal_fall_per10000inv  \\\n",
       "8379         Göteborg Angered                         0.0   \n",
       "8380         Göteborg Angered                         0.0   \n",
       "8381         Göteborg Angered                         0.0   \n",
       "8382         Göteborg Angered                         0.0   \n",
       "8383         Göteborg Angered                         0.0   \n",
       "...                       ...                         ...   \n",
       "9844  Göteborg Östra Göteborg                      2682.0   \n",
       "9845  Göteborg Östra Göteborg                      2684.0   \n",
       "9846  Göteborg Östra Göteborg                      2686.0   \n",
       "9847  Göteborg Östra Göteborg                      2688.0   \n",
       "9848  Göteborg Östra Göteborg                      2689.0   \n",
       "\n",
       "      antal_fall_per10000_inv tot_antal_fall nya_fall_vecka  \n",
       "8379                      0.0              0              0  \n",
       "8380                      0.0              0              0  \n",
       "8381                      0.0              0              0  \n",
       "8382                      0.0              0              0  \n",
       "8383                      0.0              0              0  \n",
       "...                       ...            ...            ...  \n",
       "9844                      3.0          13967             16  \n",
       "9845                      2.0          13975              8  \n",
       "9846                      2.0          13986             11  \n",
       "9847                      2.0          13996             10  \n",
       "9848                      1.0          14002              6  \n",
       "\n",
       "[1470 rows x 10 columns]"
      ]
     },
     "execution_count": 256,
     "metadata": {},
     "output_type": "execute_result"
    }
   ],
   "source": [
    "df_göteborg = df.query(\"KnNamn == 'Göteborg'\")\n",
    "df_göteborg"
   ]
  },
  {
   "cell_type": "code",
   "execution_count": 263,
   "metadata": {},
   "outputs": [
    {
     "data": {
      "text/html": [
       "<div>\n",
       "<style scoped>\n",
       "    .dataframe tbody tr th:only-of-type {\n",
       "        vertical-align: middle;\n",
       "    }\n",
       "\n",
       "    .dataframe tbody tr th {\n",
       "        vertical-align: top;\n",
       "    }\n",
       "\n",
       "    .dataframe thead th {\n",
       "        text-align: right;\n",
       "    }\n",
       "</style>\n",
       "<table border=\"1\" class=\"dataframe\">\n",
       "  <thead>\n",
       "    <tr style=\"text-align: right;\">\n",
       "      <th></th>\n",
       "      <th>KnNamn</th>\n",
       "      <th>Kommun_stadsdel</th>\n",
       "      <th>antal_fall_per10000_inv</th>\n",
       "    </tr>\n",
       "  </thead>\n",
       "  <tbody>\n",
       "    <tr>\n",
       "      <th>0</th>\n",
       "      <td>Göteborg</td>\n",
       "      <td>Göteborg Angered</td>\n",
       "      <td>2400.0</td>\n",
       "    </tr>\n",
       "    <tr>\n",
       "      <th>1</th>\n",
       "      <td>Göteborg</td>\n",
       "      <td>Göteborg Askim-Frölunda-Högsbo</td>\n",
       "      <td>2787.0</td>\n",
       "    </tr>\n",
       "    <tr>\n",
       "      <th>2</th>\n",
       "      <td>Göteborg</td>\n",
       "      <td>Göteborg Centrum</td>\n",
       "      <td>2515.0</td>\n",
       "    </tr>\n",
       "    <tr>\n",
       "      <th>3</th>\n",
       "      <td>Göteborg</td>\n",
       "      <td>Göteborg Lundby</td>\n",
       "      <td>2707.0</td>\n",
       "    </tr>\n",
       "    <tr>\n",
       "      <th>4</th>\n",
       "      <td>Göteborg</td>\n",
       "      <td>Göteborg Majorna-Linné</td>\n",
       "      <td>2822.0</td>\n",
       "    </tr>\n",
       "    <tr>\n",
       "      <th>5</th>\n",
       "      <td>Göteborg</td>\n",
       "      <td>Göteborg Norra Hisingen</td>\n",
       "      <td>2767.0</td>\n",
       "    </tr>\n",
       "    <tr>\n",
       "      <th>6</th>\n",
       "      <td>Göteborg</td>\n",
       "      <td>Göteborg Västra Göteborg</td>\n",
       "      <td>2942.0</td>\n",
       "    </tr>\n",
       "    <tr>\n",
       "      <th>7</th>\n",
       "      <td>Göteborg</td>\n",
       "      <td>Göteborg Västra Hisingen</td>\n",
       "      <td>2793.0</td>\n",
       "    </tr>\n",
       "    <tr>\n",
       "      <th>8</th>\n",
       "      <td>Göteborg</td>\n",
       "      <td>Göteborg Örgryte-Härlanda</td>\n",
       "      <td>3029.0</td>\n",
       "    </tr>\n",
       "    <tr>\n",
       "      <th>9</th>\n",
       "      <td>Göteborg</td>\n",
       "      <td>Göteborg Östra Göteborg</td>\n",
       "      <td>2692.0</td>\n",
       "    </tr>\n",
       "  </tbody>\n",
       "</table>\n",
       "</div>"
      ],
      "text/plain": [
       "     KnNamn                 Kommun_stadsdel  antal_fall_per10000_inv\n",
       "0  Göteborg                Göteborg Angered                   2400.0\n",
       "1  Göteborg  Göteborg Askim-Frölunda-Högsbo                   2787.0\n",
       "2  Göteborg                Göteborg Centrum                   2515.0\n",
       "3  Göteborg                 Göteborg Lundby                   2707.0\n",
       "4  Göteborg          Göteborg Majorna-Linné                   2822.0\n",
       "5  Göteborg         Göteborg Norra Hisingen                   2767.0\n",
       "6  Göteborg        Göteborg Västra Göteborg                   2942.0\n",
       "7  Göteborg        Göteborg Västra Hisingen                   2793.0\n",
       "8  Göteborg       Göteborg Örgryte-Härlanda                   3029.0\n",
       "9  Göteborg         Göteborg Östra Göteborg                   2692.0"
      ]
     },
     "execution_count": 263,
     "metadata": {},
     "output_type": "execute_result"
    }
   ],
   "source": [
    "df = df_göteborg.groupby([\"KnNamn\", \"Kommun_stadsdel\"])[[\"antal_fall_per10000_inv\"]].sum().reset_index()\n",
    "df"
   ]
  },
  {
   "cell_type": "code",
   "execution_count": 269,
   "metadata": {},
   "outputs": [
    {
     "data": {
      "application/vnd.plotly.v1+json": {
       "config": {
        "plotlyServerURL": "https://plot.ly"
       },
       "data": [
        {
         "hovertemplate": "KnNamn=Göteborg<br>Kommun_stadsdel=%{x}<br>antal_fall_per10000_inv=%{y}<extra></extra>",
         "legendgroup": "Göteborg",
         "marker": {
          "color": "#636efa",
          "symbol": "circle"
         },
         "mode": "markers",
         "name": "Göteborg",
         "orientation": "v",
         "showlegend": true,
         "type": "scatter",
         "x": [
          "Göteborg Angered",
          "Göteborg Askim-Frölunda-Högsbo",
          "Göteborg Centrum",
          "Göteborg Lundby",
          "Göteborg Majorna-Linné",
          "Göteborg Norra Hisingen",
          "Göteborg Västra Göteborg",
          "Göteborg Västra Hisingen",
          "Göteborg Örgryte-Härlanda",
          "Göteborg Östra Göteborg"
         ],
         "xaxis": "x",
         "y": [
          2400,
          2787,
          2515,
          2707,
          2822,
          2767,
          2942,
          2793,
          3029,
          2692
         ],
         "yaxis": "y"
        }
       ],
       "layout": {
        "legend": {
         "title": {
          "text": "KnNamn"
         },
         "tracegroupgap": 0
        },
        "template": {
         "data": {
          "bar": [
           {
            "error_x": {
             "color": "#2a3f5f"
            },
            "error_y": {
             "color": "#2a3f5f"
            },
            "marker": {
             "line": {
              "color": "#E5ECF6",
              "width": 0.5
             },
             "pattern": {
              "fillmode": "overlay",
              "size": 10,
              "solidity": 0.2
             }
            },
            "type": "bar"
           }
          ],
          "barpolar": [
           {
            "marker": {
             "line": {
              "color": "#E5ECF6",
              "width": 0.5
             },
             "pattern": {
              "fillmode": "overlay",
              "size": 10,
              "solidity": 0.2
             }
            },
            "type": "barpolar"
           }
          ],
          "carpet": [
           {
            "aaxis": {
             "endlinecolor": "#2a3f5f",
             "gridcolor": "white",
             "linecolor": "white",
             "minorgridcolor": "white",
             "startlinecolor": "#2a3f5f"
            },
            "baxis": {
             "endlinecolor": "#2a3f5f",
             "gridcolor": "white",
             "linecolor": "white",
             "minorgridcolor": "white",
             "startlinecolor": "#2a3f5f"
            },
            "type": "carpet"
           }
          ],
          "choropleth": [
           {
            "colorbar": {
             "outlinewidth": 0,
             "ticks": ""
            },
            "type": "choropleth"
           }
          ],
          "contour": [
           {
            "colorbar": {
             "outlinewidth": 0,
             "ticks": ""
            },
            "colorscale": [
             [
              0,
              "#0d0887"
             ],
             [
              0.1111111111111111,
              "#46039f"
             ],
             [
              0.2222222222222222,
              "#7201a8"
             ],
             [
              0.3333333333333333,
              "#9c179e"
             ],
             [
              0.4444444444444444,
              "#bd3786"
             ],
             [
              0.5555555555555556,
              "#d8576b"
             ],
             [
              0.6666666666666666,
              "#ed7953"
             ],
             [
              0.7777777777777778,
              "#fb9f3a"
             ],
             [
              0.8888888888888888,
              "#fdca26"
             ],
             [
              1,
              "#f0f921"
             ]
            ],
            "type": "contour"
           }
          ],
          "contourcarpet": [
           {
            "colorbar": {
             "outlinewidth": 0,
             "ticks": ""
            },
            "type": "contourcarpet"
           }
          ],
          "heatmap": [
           {
            "colorbar": {
             "outlinewidth": 0,
             "ticks": ""
            },
            "colorscale": [
             [
              0,
              "#0d0887"
             ],
             [
              0.1111111111111111,
              "#46039f"
             ],
             [
              0.2222222222222222,
              "#7201a8"
             ],
             [
              0.3333333333333333,
              "#9c179e"
             ],
             [
              0.4444444444444444,
              "#bd3786"
             ],
             [
              0.5555555555555556,
              "#d8576b"
             ],
             [
              0.6666666666666666,
              "#ed7953"
             ],
             [
              0.7777777777777778,
              "#fb9f3a"
             ],
             [
              0.8888888888888888,
              "#fdca26"
             ],
             [
              1,
              "#f0f921"
             ]
            ],
            "type": "heatmap"
           }
          ],
          "heatmapgl": [
           {
            "colorbar": {
             "outlinewidth": 0,
             "ticks": ""
            },
            "colorscale": [
             [
              0,
              "#0d0887"
             ],
             [
              0.1111111111111111,
              "#46039f"
             ],
             [
              0.2222222222222222,
              "#7201a8"
             ],
             [
              0.3333333333333333,
              "#9c179e"
             ],
             [
              0.4444444444444444,
              "#bd3786"
             ],
             [
              0.5555555555555556,
              "#d8576b"
             ],
             [
              0.6666666666666666,
              "#ed7953"
             ],
             [
              0.7777777777777778,
              "#fb9f3a"
             ],
             [
              0.8888888888888888,
              "#fdca26"
             ],
             [
              1,
              "#f0f921"
             ]
            ],
            "type": "heatmapgl"
           }
          ],
          "histogram": [
           {
            "marker": {
             "pattern": {
              "fillmode": "overlay",
              "size": 10,
              "solidity": 0.2
             }
            },
            "type": "histogram"
           }
          ],
          "histogram2d": [
           {
            "colorbar": {
             "outlinewidth": 0,
             "ticks": ""
            },
            "colorscale": [
             [
              0,
              "#0d0887"
             ],
             [
              0.1111111111111111,
              "#46039f"
             ],
             [
              0.2222222222222222,
              "#7201a8"
             ],
             [
              0.3333333333333333,
              "#9c179e"
             ],
             [
              0.4444444444444444,
              "#bd3786"
             ],
             [
              0.5555555555555556,
              "#d8576b"
             ],
             [
              0.6666666666666666,
              "#ed7953"
             ],
             [
              0.7777777777777778,
              "#fb9f3a"
             ],
             [
              0.8888888888888888,
              "#fdca26"
             ],
             [
              1,
              "#f0f921"
             ]
            ],
            "type": "histogram2d"
           }
          ],
          "histogram2dcontour": [
           {
            "colorbar": {
             "outlinewidth": 0,
             "ticks": ""
            },
            "colorscale": [
             [
              0,
              "#0d0887"
             ],
             [
              0.1111111111111111,
              "#46039f"
             ],
             [
              0.2222222222222222,
              "#7201a8"
             ],
             [
              0.3333333333333333,
              "#9c179e"
             ],
             [
              0.4444444444444444,
              "#bd3786"
             ],
             [
              0.5555555555555556,
              "#d8576b"
             ],
             [
              0.6666666666666666,
              "#ed7953"
             ],
             [
              0.7777777777777778,
              "#fb9f3a"
             ],
             [
              0.8888888888888888,
              "#fdca26"
             ],
             [
              1,
              "#f0f921"
             ]
            ],
            "type": "histogram2dcontour"
           }
          ],
          "mesh3d": [
           {
            "colorbar": {
             "outlinewidth": 0,
             "ticks": ""
            },
            "type": "mesh3d"
           }
          ],
          "parcoords": [
           {
            "line": {
             "colorbar": {
              "outlinewidth": 0,
              "ticks": ""
             }
            },
            "type": "parcoords"
           }
          ],
          "pie": [
           {
            "automargin": true,
            "type": "pie"
           }
          ],
          "scatter": [
           {
            "fillpattern": {
             "fillmode": "overlay",
             "size": 10,
             "solidity": 0.2
            },
            "type": "scatter"
           }
          ],
          "scatter3d": [
           {
            "line": {
             "colorbar": {
              "outlinewidth": 0,
              "ticks": ""
             }
            },
            "marker": {
             "colorbar": {
              "outlinewidth": 0,
              "ticks": ""
             }
            },
            "type": "scatter3d"
           }
          ],
          "scattercarpet": [
           {
            "marker": {
             "colorbar": {
              "outlinewidth": 0,
              "ticks": ""
             }
            },
            "type": "scattercarpet"
           }
          ],
          "scattergeo": [
           {
            "marker": {
             "colorbar": {
              "outlinewidth": 0,
              "ticks": ""
             }
            },
            "type": "scattergeo"
           }
          ],
          "scattergl": [
           {
            "marker": {
             "colorbar": {
              "outlinewidth": 0,
              "ticks": ""
             }
            },
            "type": "scattergl"
           }
          ],
          "scattermapbox": [
           {
            "marker": {
             "colorbar": {
              "outlinewidth": 0,
              "ticks": ""
             }
            },
            "type": "scattermapbox"
           }
          ],
          "scatterpolar": [
           {
            "marker": {
             "colorbar": {
              "outlinewidth": 0,
              "ticks": ""
             }
            },
            "type": "scatterpolar"
           }
          ],
          "scatterpolargl": [
           {
            "marker": {
             "colorbar": {
              "outlinewidth": 0,
              "ticks": ""
             }
            },
            "type": "scatterpolargl"
           }
          ],
          "scatterternary": [
           {
            "marker": {
             "colorbar": {
              "outlinewidth": 0,
              "ticks": ""
             }
            },
            "type": "scatterternary"
           }
          ],
          "surface": [
           {
            "colorbar": {
             "outlinewidth": 0,
             "ticks": ""
            },
            "colorscale": [
             [
              0,
              "#0d0887"
             ],
             [
              0.1111111111111111,
              "#46039f"
             ],
             [
              0.2222222222222222,
              "#7201a8"
             ],
             [
              0.3333333333333333,
              "#9c179e"
             ],
             [
              0.4444444444444444,
              "#bd3786"
             ],
             [
              0.5555555555555556,
              "#d8576b"
             ],
             [
              0.6666666666666666,
              "#ed7953"
             ],
             [
              0.7777777777777778,
              "#fb9f3a"
             ],
             [
              0.8888888888888888,
              "#fdca26"
             ],
             [
              1,
              "#f0f921"
             ]
            ],
            "type": "surface"
           }
          ],
          "table": [
           {
            "cells": {
             "fill": {
              "color": "#EBF0F8"
             },
             "line": {
              "color": "white"
             }
            },
            "header": {
             "fill": {
              "color": "#C8D4E3"
             },
             "line": {
              "color": "white"
             }
            },
            "type": "table"
           }
          ]
         },
         "layout": {
          "annotationdefaults": {
           "arrowcolor": "#2a3f5f",
           "arrowhead": 0,
           "arrowwidth": 1
          },
          "autotypenumbers": "strict",
          "coloraxis": {
           "colorbar": {
            "outlinewidth": 0,
            "ticks": ""
           }
          },
          "colorscale": {
           "diverging": [
            [
             0,
             "#8e0152"
            ],
            [
             0.1,
             "#c51b7d"
            ],
            [
             0.2,
             "#de77ae"
            ],
            [
             0.3,
             "#f1b6da"
            ],
            [
             0.4,
             "#fde0ef"
            ],
            [
             0.5,
             "#f7f7f7"
            ],
            [
             0.6,
             "#e6f5d0"
            ],
            [
             0.7,
             "#b8e186"
            ],
            [
             0.8,
             "#7fbc41"
            ],
            [
             0.9,
             "#4d9221"
            ],
            [
             1,
             "#276419"
            ]
           ],
           "sequential": [
            [
             0,
             "#0d0887"
            ],
            [
             0.1111111111111111,
             "#46039f"
            ],
            [
             0.2222222222222222,
             "#7201a8"
            ],
            [
             0.3333333333333333,
             "#9c179e"
            ],
            [
             0.4444444444444444,
             "#bd3786"
            ],
            [
             0.5555555555555556,
             "#d8576b"
            ],
            [
             0.6666666666666666,
             "#ed7953"
            ],
            [
             0.7777777777777778,
             "#fb9f3a"
            ],
            [
             0.8888888888888888,
             "#fdca26"
            ],
            [
             1,
             "#f0f921"
            ]
           ],
           "sequentialminus": [
            [
             0,
             "#0d0887"
            ],
            [
             0.1111111111111111,
             "#46039f"
            ],
            [
             0.2222222222222222,
             "#7201a8"
            ],
            [
             0.3333333333333333,
             "#9c179e"
            ],
            [
             0.4444444444444444,
             "#bd3786"
            ],
            [
             0.5555555555555556,
             "#d8576b"
            ],
            [
             0.6666666666666666,
             "#ed7953"
            ],
            [
             0.7777777777777778,
             "#fb9f3a"
            ],
            [
             0.8888888888888888,
             "#fdca26"
            ],
            [
             1,
             "#f0f921"
            ]
           ]
          },
          "colorway": [
           "#636efa",
           "#EF553B",
           "#00cc96",
           "#ab63fa",
           "#FFA15A",
           "#19d3f3",
           "#FF6692",
           "#B6E880",
           "#FF97FF",
           "#FECB52"
          ],
          "font": {
           "color": "#2a3f5f"
          },
          "geo": {
           "bgcolor": "white",
           "lakecolor": "white",
           "landcolor": "#E5ECF6",
           "showlakes": true,
           "showland": true,
           "subunitcolor": "white"
          },
          "hoverlabel": {
           "align": "left"
          },
          "hovermode": "closest",
          "mapbox": {
           "style": "light"
          },
          "paper_bgcolor": "white",
          "plot_bgcolor": "#E5ECF6",
          "polar": {
           "angularaxis": {
            "gridcolor": "white",
            "linecolor": "white",
            "ticks": ""
           },
           "bgcolor": "#E5ECF6",
           "radialaxis": {
            "gridcolor": "white",
            "linecolor": "white",
            "ticks": ""
           }
          },
          "scene": {
           "xaxis": {
            "backgroundcolor": "#E5ECF6",
            "gridcolor": "white",
            "gridwidth": 2,
            "linecolor": "white",
            "showbackground": true,
            "ticks": "",
            "zerolinecolor": "white"
           },
           "yaxis": {
            "backgroundcolor": "#E5ECF6",
            "gridcolor": "white",
            "gridwidth": 2,
            "linecolor": "white",
            "showbackground": true,
            "ticks": "",
            "zerolinecolor": "white"
           },
           "zaxis": {
            "backgroundcolor": "#E5ECF6",
            "gridcolor": "white",
            "gridwidth": 2,
            "linecolor": "white",
            "showbackground": true,
            "ticks": "",
            "zerolinecolor": "white"
           }
          },
          "shapedefaults": {
           "line": {
            "color": "#2a3f5f"
           }
          },
          "ternary": {
           "aaxis": {
            "gridcolor": "white",
            "linecolor": "white",
            "ticks": ""
           },
           "baxis": {
            "gridcolor": "white",
            "linecolor": "white",
            "ticks": ""
           },
           "bgcolor": "#E5ECF6",
           "caxis": {
            "gridcolor": "white",
            "linecolor": "white",
            "ticks": ""
           }
          },
          "title": {
           "x": 0.05
          },
          "xaxis": {
           "automargin": true,
           "gridcolor": "white",
           "linecolor": "white",
           "ticks": "",
           "title": {
            "standoff": 15
           },
           "zerolinecolor": "white",
           "zerolinewidth": 2
          },
          "yaxis": {
           "automargin": true,
           "gridcolor": "white",
           "linecolor": "white",
           "ticks": "",
           "title": {
            "standoff": 15
           },
           "zerolinecolor": "white",
           "zerolinewidth": 2
          }
         }
        },
        "title": {
         "text": "Number of cases of immigrants in Gothenborg community of each district"
        },
        "xaxis": {
         "anchor": "y",
         "domain": [
          0,
          1
         ],
         "title": {
          "text": "Kommun_stadsdel"
         }
        },
        "yaxis": {
         "anchor": "x",
         "domain": [
          0,
          1
         ],
         "title": {
          "text": "antal_fall_per10000_inv"
         }
        }
       }
      }
     },
     "metadata": {},
     "output_type": "display_data"
    }
   ],
   "source": [
    "fig = px.scatter(\n",
    "    data_frame=df,\n",
    "    \n",
    "    x=\"Kommun_stadsdel\",\n",
    "   \n",
    "    y=\"antal_fall_per10000_inv\",\n",
    "    color = \"KnNamn\",\n",
    "    labels={\"Kommun_stadsdel\": \"Kommun_stadsdel\", \"antal_fall_per10000_invn\": \"antal_fall_per10000_invn\"},\n",
    "    title=\"Number of cases of immigrants in Gothenborg community of each district\",\n",
    "    #barmode=\"group\n",
    "    )\n",
    "fig.show()\n"
   ]
  },
  {
   "cell_type": "markdown",
   "metadata": {},
   "source": [
    "# KPI in Vaccine\n",
    "- which kommun has got all 5doses\n",
    "- How many number of doses are taken by different age groups\n",
    "- Which kommun didnot get 3rd dose "
   ]
  },
  {
   "cell_type": "code",
   "execution_count": 259,
   "metadata": {},
   "outputs": [
    {
     "data": {
      "text/html": [
       "<div>\n",
       "<style scoped>\n",
       "    .dataframe tbody tr th:only-of-type {\n",
       "        vertical-align: middle;\n",
       "    }\n",
       "\n",
       "    .dataframe tbody tr th {\n",
       "        vertical-align: top;\n",
       "    }\n",
       "\n",
       "    .dataframe thead th {\n",
       "        text-align: right;\n",
       "    }\n",
       "</style>\n",
       "<table border=\"1\" class=\"dataframe\">\n",
       "  <thead>\n",
       "    <tr style=\"text-align: right;\">\n",
       "      <th></th>\n",
       "      <th>Län</th>\n",
       "      <th>Län_namn</th>\n",
       "      <th>Kommun</th>\n",
       "      <th>Kommun_namn</th>\n",
       "      <th>Ålder</th>\n",
       "      <th>Befolkning</th>\n",
       "      <th>Antal minst 1 dos</th>\n",
       "      <th>Antal minst 2 doser</th>\n",
       "      <th>Antal 3 doser</th>\n",
       "      <th>Antal 4 doser</th>\n",
       "      <th>Andel minst 1 dos</th>\n",
       "      <th>Andel minst 2 doser</th>\n",
       "      <th>Andel 3 doser</th>\n",
       "      <th>Andel 4 doser</th>\n",
       "    </tr>\n",
       "  </thead>\n",
       "  <tbody>\n",
       "    <tr>\n",
       "      <th>0</th>\n",
       "      <td>1</td>\n",
       "      <td>Stockholms län</td>\n",
       "      <td>114</td>\n",
       "      <td>Upplands Väsby</td>\n",
       "      <td>12-15</td>\n",
       "      <td>2422</td>\n",
       "      <td>1206</td>\n",
       "      <td>1046</td>\n",
       "      <td>NaN</td>\n",
       "      <td>NaN</td>\n",
       "      <td>0.497936</td>\n",
       "      <td>0.431874</td>\n",
       "      <td>NaN</td>\n",
       "      <td>NaN</td>\n",
       "    </tr>\n",
       "    <tr>\n",
       "      <th>1</th>\n",
       "      <td>1</td>\n",
       "      <td>Stockholms län</td>\n",
       "      <td>114</td>\n",
       "      <td>Upplands Väsby</td>\n",
       "      <td>16-17</td>\n",
       "      <td>1203</td>\n",
       "      <td>839</td>\n",
       "      <td>755</td>\n",
       "      <td>NaN</td>\n",
       "      <td>NaN</td>\n",
       "      <td>0.697423</td>\n",
       "      <td>0.627598</td>\n",
       "      <td>NaN</td>\n",
       "      <td>NaN</td>\n",
       "    </tr>\n",
       "    <tr>\n",
       "      <th>2</th>\n",
       "      <td>1</td>\n",
       "      <td>Stockholms län</td>\n",
       "      <td>114</td>\n",
       "      <td>Upplands Väsby</td>\n",
       "      <td>18-29</td>\n",
       "      <td>6692</td>\n",
       "      <td>4887</td>\n",
       "      <td>4469</td>\n",
       "      <td>1959.0</td>\n",
       "      <td>NaN</td>\n",
       "      <td>0.730275</td>\n",
       "      <td>0.667812</td>\n",
       "      <td>0.292738</td>\n",
       "      <td>NaN</td>\n",
       "    </tr>\n",
       "    <tr>\n",
       "      <th>3</th>\n",
       "      <td>1</td>\n",
       "      <td>Stockholms län</td>\n",
       "      <td>114</td>\n",
       "      <td>Upplands Väsby</td>\n",
       "      <td>30-39</td>\n",
       "      <td>7332</td>\n",
       "      <td>5542</td>\n",
       "      <td>5240</td>\n",
       "      <td>2878.0</td>\n",
       "      <td>NaN</td>\n",
       "      <td>0.755865</td>\n",
       "      <td>0.714675</td>\n",
       "      <td>0.392526</td>\n",
       "      <td>NaN</td>\n",
       "    </tr>\n",
       "    <tr>\n",
       "      <th>4</th>\n",
       "      <td>1</td>\n",
       "      <td>Stockholms län</td>\n",
       "      <td>114</td>\n",
       "      <td>Upplands Väsby</td>\n",
       "      <td>40-49</td>\n",
       "      <td>6946</td>\n",
       "      <td>5592</td>\n",
       "      <td>5429</td>\n",
       "      <td>3719.0</td>\n",
       "      <td>NaN</td>\n",
       "      <td>0.805068</td>\n",
       "      <td>0.781601</td>\n",
       "      <td>0.535416</td>\n",
       "      <td>NaN</td>\n",
       "    </tr>\n",
       "  </tbody>\n",
       "</table>\n",
       "</div>"
      ],
      "text/plain": [
       "   Län        Län_namn  Kommun     Kommun_namn  Ålder  Befolkning  \\\n",
       "0    1  Stockholms län     114  Upplands Väsby  12-15        2422   \n",
       "1    1  Stockholms län     114  Upplands Väsby  16-17        1203   \n",
       "2    1  Stockholms län     114  Upplands Väsby  18-29        6692   \n",
       "3    1  Stockholms län     114  Upplands Väsby  30-39        7332   \n",
       "4    1  Stockholms län     114  Upplands Väsby  40-49        6946   \n",
       "\n",
       "   Antal minst 1 dos  Antal minst 2 doser  Antal 3 doser  Antal 4 doser  \\\n",
       "0               1206                 1046            NaN            NaN   \n",
       "1                839                  755            NaN            NaN   \n",
       "2               4887                 4469         1959.0            NaN   \n",
       "3               5542                 5240         2878.0            NaN   \n",
       "4               5592                 5429         3719.0            NaN   \n",
       "\n",
       "   Andel minst 1 dos  Andel minst 2 doser  Andel 3 doser  Andel 4 doser  \n",
       "0           0.497936             0.431874            NaN            NaN  \n",
       "1           0.697423             0.627598            NaN            NaN  \n",
       "2           0.730275             0.667812       0.292738            NaN  \n",
       "3           0.755865             0.714675       0.392526            NaN  \n",
       "4           0.805068             0.781601       0.535416            NaN  "
      ]
     },
     "execution_count": 259,
     "metadata": {},
     "output_type": "execute_result"
    }
   ],
   "source": [
    "df_vaccine = pd.read_excel(\"../Labb/Data/Vaccine.xlsx\", sheet_name=\"Vaccinerade kommun och ålder\")\n",
    "df_vaccine.head()"
   ]
  },
  {
   "cell_type": "code",
   "execution_count": 260,
   "metadata": {},
   "outputs": [
    {
     "data": {
      "text/html": [
       "<div>\n",
       "<style scoped>\n",
       "    .dataframe tbody tr th:only-of-type {\n",
       "        vertical-align: middle;\n",
       "    }\n",
       "\n",
       "    .dataframe tbody tr th {\n",
       "        vertical-align: top;\n",
       "    }\n",
       "\n",
       "    .dataframe thead th {\n",
       "        text-align: right;\n",
       "    }\n",
       "</style>\n",
       "<table border=\"1\" class=\"dataframe\">\n",
       "  <thead>\n",
       "    <tr style=\"text-align: right;\">\n",
       "      <th></th>\n",
       "      <th>Län</th>\n",
       "      <th>Län_namn</th>\n",
       "      <th>Kommun</th>\n",
       "      <th>Kommun_namn</th>\n",
       "      <th>Ålder</th>\n",
       "      <th>Befolkning</th>\n",
       "      <th>Antal minst 1 dos</th>\n",
       "      <th>Antal minst 2 doser</th>\n",
       "      <th>Antal 3 doser</th>\n",
       "      <th>Antal 4 doser</th>\n",
       "      <th>Andel minst 1 dos</th>\n",
       "      <th>Andel minst 2 doser</th>\n",
       "      <th>Andel 3 doser</th>\n",
       "      <th>Andel 4 doser</th>\n",
       "    </tr>\n",
       "  </thead>\n",
       "  <tbody>\n",
       "    <tr>\n",
       "      <th>0</th>\n",
       "      <td>1</td>\n",
       "      <td>Stockholms län</td>\n",
       "      <td>114</td>\n",
       "      <td>Upplands Väsby</td>\n",
       "      <td>12-15</td>\n",
       "      <td>2422</td>\n",
       "      <td>1206</td>\n",
       "      <td>1046</td>\n",
       "      <td>0.0</td>\n",
       "      <td>0.0</td>\n",
       "      <td>0.497936</td>\n",
       "      <td>0.431874</td>\n",
       "      <td>0.000000</td>\n",
       "      <td>0.0</td>\n",
       "    </tr>\n",
       "    <tr>\n",
       "      <th>1</th>\n",
       "      <td>1</td>\n",
       "      <td>Stockholms län</td>\n",
       "      <td>114</td>\n",
       "      <td>Upplands Väsby</td>\n",
       "      <td>16-17</td>\n",
       "      <td>1203</td>\n",
       "      <td>839</td>\n",
       "      <td>755</td>\n",
       "      <td>0.0</td>\n",
       "      <td>0.0</td>\n",
       "      <td>0.697423</td>\n",
       "      <td>0.627598</td>\n",
       "      <td>0.000000</td>\n",
       "      <td>0.0</td>\n",
       "    </tr>\n",
       "    <tr>\n",
       "      <th>2</th>\n",
       "      <td>1</td>\n",
       "      <td>Stockholms län</td>\n",
       "      <td>114</td>\n",
       "      <td>Upplands Väsby</td>\n",
       "      <td>18-29</td>\n",
       "      <td>6692</td>\n",
       "      <td>4887</td>\n",
       "      <td>4469</td>\n",
       "      <td>1959.0</td>\n",
       "      <td>0.0</td>\n",
       "      <td>0.730275</td>\n",
       "      <td>0.667812</td>\n",
       "      <td>0.292738</td>\n",
       "      <td>0.0</td>\n",
       "    </tr>\n",
       "    <tr>\n",
       "      <th>3</th>\n",
       "      <td>1</td>\n",
       "      <td>Stockholms län</td>\n",
       "      <td>114</td>\n",
       "      <td>Upplands Väsby</td>\n",
       "      <td>30-39</td>\n",
       "      <td>7332</td>\n",
       "      <td>5542</td>\n",
       "      <td>5240</td>\n",
       "      <td>2878.0</td>\n",
       "      <td>0.0</td>\n",
       "      <td>0.755865</td>\n",
       "      <td>0.714675</td>\n",
       "      <td>0.392526</td>\n",
       "      <td>0.0</td>\n",
       "    </tr>\n",
       "    <tr>\n",
       "      <th>4</th>\n",
       "      <td>1</td>\n",
       "      <td>Stockholms län</td>\n",
       "      <td>114</td>\n",
       "      <td>Upplands Väsby</td>\n",
       "      <td>40-49</td>\n",
       "      <td>6946</td>\n",
       "      <td>5592</td>\n",
       "      <td>5429</td>\n",
       "      <td>3719.0</td>\n",
       "      <td>0.0</td>\n",
       "      <td>0.805068</td>\n",
       "      <td>0.781601</td>\n",
       "      <td>0.535416</td>\n",
       "      <td>0.0</td>\n",
       "    </tr>\n",
       "  </tbody>\n",
       "</table>\n",
       "</div>"
      ],
      "text/plain": [
       "   Län        Län_namn  Kommun     Kommun_namn  Ålder  Befolkning  \\\n",
       "0    1  Stockholms län     114  Upplands Väsby  12-15        2422   \n",
       "1    1  Stockholms län     114  Upplands Väsby  16-17        1203   \n",
       "2    1  Stockholms län     114  Upplands Väsby  18-29        6692   \n",
       "3    1  Stockholms län     114  Upplands Väsby  30-39        7332   \n",
       "4    1  Stockholms län     114  Upplands Väsby  40-49        6946   \n",
       "\n",
       "   Antal minst 1 dos  Antal minst 2 doser  Antal 3 doser  Antal 4 doser  \\\n",
       "0               1206                 1046            0.0            0.0   \n",
       "1                839                  755            0.0            0.0   \n",
       "2               4887                 4469         1959.0            0.0   \n",
       "3               5542                 5240         2878.0            0.0   \n",
       "4               5592                 5429         3719.0            0.0   \n",
       "\n",
       "   Andel minst 1 dos  Andel minst 2 doser  Andel 3 doser  Andel 4 doser  \n",
       "0           0.497936             0.431874       0.000000            0.0  \n",
       "1           0.697423             0.627598       0.000000            0.0  \n",
       "2           0.730275             0.667812       0.292738            0.0  \n",
       "3           0.755865             0.714675       0.392526            0.0  \n",
       "4           0.805068             0.781601       0.535416            0.0  "
      ]
     },
     "execution_count": 260,
     "metadata": {},
     "output_type": "execute_result"
    }
   ],
   "source": [
    "df_diagram= df_vaccine.fillna(0)\n",
    "df_diagram.head()"
   ]
  },
  {
   "cell_type": "markdown",
   "metadata": {},
   "source": [
    "## 5.  Number of doses taken by different age groups"
   ]
  },
  {
   "cell_type": "code",
   "execution_count": 261,
   "metadata": {},
   "outputs": [
    {
     "data": {
      "text/html": [
       "<div>\n",
       "<style scoped>\n",
       "    .dataframe tbody tr th:only-of-type {\n",
       "        vertical-align: middle;\n",
       "    }\n",
       "\n",
       "    .dataframe tbody tr th {\n",
       "        vertical-align: top;\n",
       "    }\n",
       "\n",
       "    .dataframe thead th {\n",
       "        text-align: right;\n",
       "    }\n",
       "</style>\n",
       "<table border=\"1\" class=\"dataframe\">\n",
       "  <thead>\n",
       "    <tr style=\"text-align: right;\">\n",
       "      <th></th>\n",
       "      <th>Ålder</th>\n",
       "      <th>Antal minst 1 dos</th>\n",
       "      <th>Antal minst 2 doser</th>\n",
       "      <th>Antal 3 doser</th>\n",
       "      <th>Antal 4 doser</th>\n",
       "      <th>Befolkning</th>\n",
       "    </tr>\n",
       "  </thead>\n",
       "  <tbody>\n",
       "    <tr>\n",
       "      <th>0</th>\n",
       "      <td>12-15</td>\n",
       "      <td>278405</td>\n",
       "      <td>255541</td>\n",
       "      <td>0.0</td>\n",
       "      <td>0.0</td>\n",
       "      <td>503831</td>\n",
       "    </tr>\n",
       "    <tr>\n",
       "      <th>1</th>\n",
       "      <td>16-17</td>\n",
       "      <td>187077</td>\n",
       "      <td>175480</td>\n",
       "      <td>0.0</td>\n",
       "      <td>0.0</td>\n",
       "      <td>241539</td>\n",
       "    </tr>\n",
       "    <tr>\n",
       "      <th>2</th>\n",
       "      <td>18-29</td>\n",
       "      <td>1201569</td>\n",
       "      <td>1144897</td>\n",
       "      <td>573532.0</td>\n",
       "      <td>0.0</td>\n",
       "      <td>1475950</td>\n",
       "    </tr>\n",
       "    <tr>\n",
       "      <th>3</th>\n",
       "      <td>30-39</td>\n",
       "      <td>1190083</td>\n",
       "      <td>1148376</td>\n",
       "      <td>689647.0</td>\n",
       "      <td>0.0</td>\n",
       "      <td>1467590</td>\n",
       "    </tr>\n",
       "    <tr>\n",
       "      <th>4</th>\n",
       "      <td>40-49</td>\n",
       "      <td>1117660</td>\n",
       "      <td>1095826</td>\n",
       "      <td>791299.0</td>\n",
       "      <td>0.0</td>\n",
       "      <td>1298156</td>\n",
       "    </tr>\n",
       "    <tr>\n",
       "      <th>5</th>\n",
       "      <td>50-59</td>\n",
       "      <td>1210791</td>\n",
       "      <td>1197415</td>\n",
       "      <td>1000554.0</td>\n",
       "      <td>0.0</td>\n",
       "      <td>1339798</td>\n",
       "    </tr>\n",
       "    <tr>\n",
       "      <th>6</th>\n",
       "      <td>60-69</td>\n",
       "      <td>1044061</td>\n",
       "      <td>1036035</td>\n",
       "      <td>949409.0</td>\n",
       "      <td>0.0</td>\n",
       "      <td>1121922</td>\n",
       "    </tr>\n",
       "    <tr>\n",
       "      <th>7</th>\n",
       "      <td>70-79</td>\n",
       "      <td>990440</td>\n",
       "      <td>985748</td>\n",
       "      <td>951943.0</td>\n",
       "      <td>828445.0</td>\n",
       "      <td>1033113</td>\n",
       "    </tr>\n",
       "    <tr>\n",
       "      <th>8</th>\n",
       "      <td>80-89</td>\n",
       "      <td>480671</td>\n",
       "      <td>479037</td>\n",
       "      <td>468149.0</td>\n",
       "      <td>428931.0</td>\n",
       "      <td>496750</td>\n",
       "    </tr>\n",
       "    <tr>\n",
       "      <th>9</th>\n",
       "      <td>90 eller äldre</td>\n",
       "      <td>109619</td>\n",
       "      <td>109230</td>\n",
       "      <td>106717.0</td>\n",
       "      <td>97491.0</td>\n",
       "      <td>114141</td>\n",
       "    </tr>\n",
       "  </tbody>\n",
       "</table>\n",
       "</div>"
      ],
      "text/plain": [
       "            Ålder  Antal minst 1 dos  Antal minst 2 doser  Antal 3 doser  \\\n",
       "0           12-15             278405               255541            0.0   \n",
       "1           16-17             187077               175480            0.0   \n",
       "2           18-29            1201569              1144897       573532.0   \n",
       "3           30-39            1190083              1148376       689647.0   \n",
       "4           40-49            1117660              1095826       791299.0   \n",
       "5           50-59            1210791              1197415      1000554.0   \n",
       "6           60-69            1044061              1036035       949409.0   \n",
       "7           70-79             990440               985748       951943.0   \n",
       "8           80-89             480671               479037       468149.0   \n",
       "9  90 eller äldre             109619               109230       106717.0   \n",
       "\n",
       "   Antal 4 doser  Befolkning  \n",
       "0            0.0      503831  \n",
       "1            0.0      241539  \n",
       "2            0.0     1475950  \n",
       "3            0.0     1467590  \n",
       "4            0.0     1298156  \n",
       "5            0.0     1339798  \n",
       "6            0.0     1121922  \n",
       "7       828445.0     1033113  \n",
       "8       428931.0      496750  \n",
       "9        97491.0      114141  "
      ]
     },
     "execution_count": 261,
     "metadata": {},
     "output_type": "execute_result"
    }
   ],
   "source": [
    "df = df_diagram.groupby(\"Ålder\")[[\"Antal minst 1 dos\",\"Antal minst 2 doser\", \"Antal 3 doser\", \"Antal 4 doser\", \"Befolkning\"]].sum(numeric_only= True).reset_index()\n",
    "df"
   ]
  },
  {
   "cell_type": "code",
   "execution_count": 262,
   "metadata": {},
   "outputs": [
    {
     "data": {
      "application/vnd.plotly.v1+json": {
       "config": {
        "plotlyServerURL": "https://plot.ly"
       },
       "data": [
        {
         "alignmentgroup": "True",
         "hovertemplate": "Doses=Antal minst 1 dos<br>Ålder=%{x}<br>Population=%{y}<extra></extra>",
         "legendgroup": "Antal minst 1 dos",
         "marker": {
          "color": "#636efa",
          "pattern": {
           "shape": ""
          }
         },
         "name": "Antal minst 1 dos",
         "offsetgroup": "Antal minst 1 dos",
         "orientation": "v",
         "showlegend": true,
         "textposition": "auto",
         "type": "bar",
         "x": [
          "12-15",
          "16-17",
          "18-29",
          "30-39",
          "40-49",
          "50-59",
          "60-69",
          "70-79",
          "80-89",
          "90 eller äldre"
         ],
         "xaxis": "x",
         "y": [
          278405,
          187077,
          1201569,
          1190083,
          1117660,
          1210791,
          1044061,
          990440,
          480671,
          109619
         ],
         "yaxis": "y"
        },
        {
         "alignmentgroup": "True",
         "hovertemplate": "Doses=Antal minst 2 doser<br>Ålder=%{x}<br>Population=%{y}<extra></extra>",
         "legendgroup": "Antal minst 2 doser",
         "marker": {
          "color": "#EF553B",
          "pattern": {
           "shape": ""
          }
         },
         "name": "Antal minst 2 doser",
         "offsetgroup": "Antal minst 2 doser",
         "orientation": "v",
         "showlegend": true,
         "textposition": "auto",
         "type": "bar",
         "x": [
          "12-15",
          "16-17",
          "18-29",
          "30-39",
          "40-49",
          "50-59",
          "60-69",
          "70-79",
          "80-89",
          "90 eller äldre"
         ],
         "xaxis": "x",
         "y": [
          255541,
          175480,
          1144897,
          1148376,
          1095826,
          1197415,
          1036035,
          985748,
          479037,
          109230
         ],
         "yaxis": "y"
        },
        {
         "alignmentgroup": "True",
         "hovertemplate": "Doses=Antal 3 doser<br>Ålder=%{x}<br>Population=%{y}<extra></extra>",
         "legendgroup": "Antal 3 doser",
         "marker": {
          "color": "#00cc96",
          "pattern": {
           "shape": ""
          }
         },
         "name": "Antal 3 doser",
         "offsetgroup": "Antal 3 doser",
         "orientation": "v",
         "showlegend": true,
         "textposition": "auto",
         "type": "bar",
         "x": [
          "12-15",
          "16-17",
          "18-29",
          "30-39",
          "40-49",
          "50-59",
          "60-69",
          "70-79",
          "80-89",
          "90 eller äldre"
         ],
         "xaxis": "x",
         "y": [
          0,
          0,
          573532,
          689647,
          791299,
          1000554,
          949409,
          951943,
          468149,
          106717
         ],
         "yaxis": "y"
        },
        {
         "alignmentgroup": "True",
         "hovertemplate": "Doses=Antal 4 doser<br>Ålder=%{x}<br>Population=%{y}<extra></extra>",
         "legendgroup": "Antal 4 doser",
         "marker": {
          "color": "#ab63fa",
          "pattern": {
           "shape": ""
          }
         },
         "name": "Antal 4 doser",
         "offsetgroup": "Antal 4 doser",
         "orientation": "v",
         "showlegend": true,
         "textposition": "auto",
         "type": "bar",
         "x": [
          "12-15",
          "16-17",
          "18-29",
          "30-39",
          "40-49",
          "50-59",
          "60-69",
          "70-79",
          "80-89",
          "90 eller äldre"
         ],
         "xaxis": "x",
         "y": [
          0,
          0,
          0,
          0,
          0,
          0,
          0,
          828445,
          428931,
          97491
         ],
         "yaxis": "y"
        }
       ],
       "layout": {
        "barmode": "group",
        "legend": {
         "title": {
          "text": "Doses"
         },
         "tracegroupgap": 0
        },
        "template": {
         "data": {
          "bar": [
           {
            "error_x": {
             "color": "#2a3f5f"
            },
            "error_y": {
             "color": "#2a3f5f"
            },
            "marker": {
             "line": {
              "color": "#E5ECF6",
              "width": 0.5
             },
             "pattern": {
              "fillmode": "overlay",
              "size": 10,
              "solidity": 0.2
             }
            },
            "type": "bar"
           }
          ],
          "barpolar": [
           {
            "marker": {
             "line": {
              "color": "#E5ECF6",
              "width": 0.5
             },
             "pattern": {
              "fillmode": "overlay",
              "size": 10,
              "solidity": 0.2
             }
            },
            "type": "barpolar"
           }
          ],
          "carpet": [
           {
            "aaxis": {
             "endlinecolor": "#2a3f5f",
             "gridcolor": "white",
             "linecolor": "white",
             "minorgridcolor": "white",
             "startlinecolor": "#2a3f5f"
            },
            "baxis": {
             "endlinecolor": "#2a3f5f",
             "gridcolor": "white",
             "linecolor": "white",
             "minorgridcolor": "white",
             "startlinecolor": "#2a3f5f"
            },
            "type": "carpet"
           }
          ],
          "choropleth": [
           {
            "colorbar": {
             "outlinewidth": 0,
             "ticks": ""
            },
            "type": "choropleth"
           }
          ],
          "contour": [
           {
            "colorbar": {
             "outlinewidth": 0,
             "ticks": ""
            },
            "colorscale": [
             [
              0,
              "#0d0887"
             ],
             [
              0.1111111111111111,
              "#46039f"
             ],
             [
              0.2222222222222222,
              "#7201a8"
             ],
             [
              0.3333333333333333,
              "#9c179e"
             ],
             [
              0.4444444444444444,
              "#bd3786"
             ],
             [
              0.5555555555555556,
              "#d8576b"
             ],
             [
              0.6666666666666666,
              "#ed7953"
             ],
             [
              0.7777777777777778,
              "#fb9f3a"
             ],
             [
              0.8888888888888888,
              "#fdca26"
             ],
             [
              1,
              "#f0f921"
             ]
            ],
            "type": "contour"
           }
          ],
          "contourcarpet": [
           {
            "colorbar": {
             "outlinewidth": 0,
             "ticks": ""
            },
            "type": "contourcarpet"
           }
          ],
          "heatmap": [
           {
            "colorbar": {
             "outlinewidth": 0,
             "ticks": ""
            },
            "colorscale": [
             [
              0,
              "#0d0887"
             ],
             [
              0.1111111111111111,
              "#46039f"
             ],
             [
              0.2222222222222222,
              "#7201a8"
             ],
             [
              0.3333333333333333,
              "#9c179e"
             ],
             [
              0.4444444444444444,
              "#bd3786"
             ],
             [
              0.5555555555555556,
              "#d8576b"
             ],
             [
              0.6666666666666666,
              "#ed7953"
             ],
             [
              0.7777777777777778,
              "#fb9f3a"
             ],
             [
              0.8888888888888888,
              "#fdca26"
             ],
             [
              1,
              "#f0f921"
             ]
            ],
            "type": "heatmap"
           }
          ],
          "heatmapgl": [
           {
            "colorbar": {
             "outlinewidth": 0,
             "ticks": ""
            },
            "colorscale": [
             [
              0,
              "#0d0887"
             ],
             [
              0.1111111111111111,
              "#46039f"
             ],
             [
              0.2222222222222222,
              "#7201a8"
             ],
             [
              0.3333333333333333,
              "#9c179e"
             ],
             [
              0.4444444444444444,
              "#bd3786"
             ],
             [
              0.5555555555555556,
              "#d8576b"
             ],
             [
              0.6666666666666666,
              "#ed7953"
             ],
             [
              0.7777777777777778,
              "#fb9f3a"
             ],
             [
              0.8888888888888888,
              "#fdca26"
             ],
             [
              1,
              "#f0f921"
             ]
            ],
            "type": "heatmapgl"
           }
          ],
          "histogram": [
           {
            "marker": {
             "pattern": {
              "fillmode": "overlay",
              "size": 10,
              "solidity": 0.2
             }
            },
            "type": "histogram"
           }
          ],
          "histogram2d": [
           {
            "colorbar": {
             "outlinewidth": 0,
             "ticks": ""
            },
            "colorscale": [
             [
              0,
              "#0d0887"
             ],
             [
              0.1111111111111111,
              "#46039f"
             ],
             [
              0.2222222222222222,
              "#7201a8"
             ],
             [
              0.3333333333333333,
              "#9c179e"
             ],
             [
              0.4444444444444444,
              "#bd3786"
             ],
             [
              0.5555555555555556,
              "#d8576b"
             ],
             [
              0.6666666666666666,
              "#ed7953"
             ],
             [
              0.7777777777777778,
              "#fb9f3a"
             ],
             [
              0.8888888888888888,
              "#fdca26"
             ],
             [
              1,
              "#f0f921"
             ]
            ],
            "type": "histogram2d"
           }
          ],
          "histogram2dcontour": [
           {
            "colorbar": {
             "outlinewidth": 0,
             "ticks": ""
            },
            "colorscale": [
             [
              0,
              "#0d0887"
             ],
             [
              0.1111111111111111,
              "#46039f"
             ],
             [
              0.2222222222222222,
              "#7201a8"
             ],
             [
              0.3333333333333333,
              "#9c179e"
             ],
             [
              0.4444444444444444,
              "#bd3786"
             ],
             [
              0.5555555555555556,
              "#d8576b"
             ],
             [
              0.6666666666666666,
              "#ed7953"
             ],
             [
              0.7777777777777778,
              "#fb9f3a"
             ],
             [
              0.8888888888888888,
              "#fdca26"
             ],
             [
              1,
              "#f0f921"
             ]
            ],
            "type": "histogram2dcontour"
           }
          ],
          "mesh3d": [
           {
            "colorbar": {
             "outlinewidth": 0,
             "ticks": ""
            },
            "type": "mesh3d"
           }
          ],
          "parcoords": [
           {
            "line": {
             "colorbar": {
              "outlinewidth": 0,
              "ticks": ""
             }
            },
            "type": "parcoords"
           }
          ],
          "pie": [
           {
            "automargin": true,
            "type": "pie"
           }
          ],
          "scatter": [
           {
            "fillpattern": {
             "fillmode": "overlay",
             "size": 10,
             "solidity": 0.2
            },
            "type": "scatter"
           }
          ],
          "scatter3d": [
           {
            "line": {
             "colorbar": {
              "outlinewidth": 0,
              "ticks": ""
             }
            },
            "marker": {
             "colorbar": {
              "outlinewidth": 0,
              "ticks": ""
             }
            },
            "type": "scatter3d"
           }
          ],
          "scattercarpet": [
           {
            "marker": {
             "colorbar": {
              "outlinewidth": 0,
              "ticks": ""
             }
            },
            "type": "scattercarpet"
           }
          ],
          "scattergeo": [
           {
            "marker": {
             "colorbar": {
              "outlinewidth": 0,
              "ticks": ""
             }
            },
            "type": "scattergeo"
           }
          ],
          "scattergl": [
           {
            "marker": {
             "colorbar": {
              "outlinewidth": 0,
              "ticks": ""
             }
            },
            "type": "scattergl"
           }
          ],
          "scattermapbox": [
           {
            "marker": {
             "colorbar": {
              "outlinewidth": 0,
              "ticks": ""
             }
            },
            "type": "scattermapbox"
           }
          ],
          "scatterpolar": [
           {
            "marker": {
             "colorbar": {
              "outlinewidth": 0,
              "ticks": ""
             }
            },
            "type": "scatterpolar"
           }
          ],
          "scatterpolargl": [
           {
            "marker": {
             "colorbar": {
              "outlinewidth": 0,
              "ticks": ""
             }
            },
            "type": "scatterpolargl"
           }
          ],
          "scatterternary": [
           {
            "marker": {
             "colorbar": {
              "outlinewidth": 0,
              "ticks": ""
             }
            },
            "type": "scatterternary"
           }
          ],
          "surface": [
           {
            "colorbar": {
             "outlinewidth": 0,
             "ticks": ""
            },
            "colorscale": [
             [
              0,
              "#0d0887"
             ],
             [
              0.1111111111111111,
              "#46039f"
             ],
             [
              0.2222222222222222,
              "#7201a8"
             ],
             [
              0.3333333333333333,
              "#9c179e"
             ],
             [
              0.4444444444444444,
              "#bd3786"
             ],
             [
              0.5555555555555556,
              "#d8576b"
             ],
             [
              0.6666666666666666,
              "#ed7953"
             ],
             [
              0.7777777777777778,
              "#fb9f3a"
             ],
             [
              0.8888888888888888,
              "#fdca26"
             ],
             [
              1,
              "#f0f921"
             ]
            ],
            "type": "surface"
           }
          ],
          "table": [
           {
            "cells": {
             "fill": {
              "color": "#EBF0F8"
             },
             "line": {
              "color": "white"
             }
            },
            "header": {
             "fill": {
              "color": "#C8D4E3"
             },
             "line": {
              "color": "white"
             }
            },
            "type": "table"
           }
          ]
         },
         "layout": {
          "annotationdefaults": {
           "arrowcolor": "#2a3f5f",
           "arrowhead": 0,
           "arrowwidth": 1
          },
          "autotypenumbers": "strict",
          "coloraxis": {
           "colorbar": {
            "outlinewidth": 0,
            "ticks": ""
           }
          },
          "colorscale": {
           "diverging": [
            [
             0,
             "#8e0152"
            ],
            [
             0.1,
             "#c51b7d"
            ],
            [
             0.2,
             "#de77ae"
            ],
            [
             0.3,
             "#f1b6da"
            ],
            [
             0.4,
             "#fde0ef"
            ],
            [
             0.5,
             "#f7f7f7"
            ],
            [
             0.6,
             "#e6f5d0"
            ],
            [
             0.7,
             "#b8e186"
            ],
            [
             0.8,
             "#7fbc41"
            ],
            [
             0.9,
             "#4d9221"
            ],
            [
             1,
             "#276419"
            ]
           ],
           "sequential": [
            [
             0,
             "#0d0887"
            ],
            [
             0.1111111111111111,
             "#46039f"
            ],
            [
             0.2222222222222222,
             "#7201a8"
            ],
            [
             0.3333333333333333,
             "#9c179e"
            ],
            [
             0.4444444444444444,
             "#bd3786"
            ],
            [
             0.5555555555555556,
             "#d8576b"
            ],
            [
             0.6666666666666666,
             "#ed7953"
            ],
            [
             0.7777777777777778,
             "#fb9f3a"
            ],
            [
             0.8888888888888888,
             "#fdca26"
            ],
            [
             1,
             "#f0f921"
            ]
           ],
           "sequentialminus": [
            [
             0,
             "#0d0887"
            ],
            [
             0.1111111111111111,
             "#46039f"
            ],
            [
             0.2222222222222222,
             "#7201a8"
            ],
            [
             0.3333333333333333,
             "#9c179e"
            ],
            [
             0.4444444444444444,
             "#bd3786"
            ],
            [
             0.5555555555555556,
             "#d8576b"
            ],
            [
             0.6666666666666666,
             "#ed7953"
            ],
            [
             0.7777777777777778,
             "#fb9f3a"
            ],
            [
             0.8888888888888888,
             "#fdca26"
            ],
            [
             1,
             "#f0f921"
            ]
           ]
          },
          "colorway": [
           "#636efa",
           "#EF553B",
           "#00cc96",
           "#ab63fa",
           "#FFA15A",
           "#19d3f3",
           "#FF6692",
           "#B6E880",
           "#FF97FF",
           "#FECB52"
          ],
          "font": {
           "color": "#2a3f5f"
          },
          "geo": {
           "bgcolor": "white",
           "lakecolor": "white",
           "landcolor": "#E5ECF6",
           "showlakes": true,
           "showland": true,
           "subunitcolor": "white"
          },
          "hoverlabel": {
           "align": "left"
          },
          "hovermode": "closest",
          "mapbox": {
           "style": "light"
          },
          "paper_bgcolor": "white",
          "plot_bgcolor": "#E5ECF6",
          "polar": {
           "angularaxis": {
            "gridcolor": "white",
            "linecolor": "white",
            "ticks": ""
           },
           "bgcolor": "#E5ECF6",
           "radialaxis": {
            "gridcolor": "white",
            "linecolor": "white",
            "ticks": ""
           }
          },
          "scene": {
           "xaxis": {
            "backgroundcolor": "#E5ECF6",
            "gridcolor": "white",
            "gridwidth": 2,
            "linecolor": "white",
            "showbackground": true,
            "ticks": "",
            "zerolinecolor": "white"
           },
           "yaxis": {
            "backgroundcolor": "#E5ECF6",
            "gridcolor": "white",
            "gridwidth": 2,
            "linecolor": "white",
            "showbackground": true,
            "ticks": "",
            "zerolinecolor": "white"
           },
           "zaxis": {
            "backgroundcolor": "#E5ECF6",
            "gridcolor": "white",
            "gridwidth": 2,
            "linecolor": "white",
            "showbackground": true,
            "ticks": "",
            "zerolinecolor": "white"
           }
          },
          "shapedefaults": {
           "line": {
            "color": "#2a3f5f"
           }
          },
          "ternary": {
           "aaxis": {
            "gridcolor": "white",
            "linecolor": "white",
            "ticks": ""
           },
           "baxis": {
            "gridcolor": "white",
            "linecolor": "white",
            "ticks": ""
           },
           "bgcolor": "#E5ECF6",
           "caxis": {
            "gridcolor": "white",
            "linecolor": "white",
            "ticks": ""
           }
          },
          "title": {
           "x": 0.05
          },
          "xaxis": {
           "automargin": true,
           "gridcolor": "white",
           "linecolor": "white",
           "ticks": "",
           "title": {
            "standoff": 15
           },
           "zerolinecolor": "white",
           "zerolinewidth": 2
          },
          "yaxis": {
           "automargin": true,
           "gridcolor": "white",
           "linecolor": "white",
           "ticks": "",
           "title": {
            "standoff": 15
           },
           "zerolinecolor": "white",
           "zerolinewidth": 2
          }
         }
        },
        "title": {
         "text": "Number of doses taken by different age groups"
        },
        "xaxis": {
         "anchor": "y",
         "domain": [
          0,
          1
         ],
         "title": {
          "text": "Ålder"
         }
        },
        "yaxis": {
         "anchor": "x",
         "domain": [
          0,
          1
         ],
         "title": {
          "text": "Population"
         }
        }
       }
      }
     },
     "metadata": {},
     "output_type": "display_data"
    }
   ],
   "source": [
    "fig = px.bar(\n",
    "    data_frame=df,\n",
    "    \n",
    "    x=\"Ålder\",\n",
    "    #y=[\n",
    "        #df[\"Antal minst 1 dos\"] / df[\"Befolkning\"],\n",
    "        #df[\"Antal minst 2 doser\"] / df[\"Befolkning\"],\n",
    "        #df[\"Antal 3 doser\"] / df[\"Befolkning\"],\n",
    "        #df[\"Antal 4 doser\"] / df[\"Befolkning\"]\n",
    "    #],\n",
    "    y=[\"Antal minst 1 dos\", \"Antal minst 2 doser\", \"Antal 3 doser\", \"Antal 4 doser\"],\n",
    "    #color = \"Län_namn\",\n",
    "    labels={\"Ålder\": \"Ålder\", \"value\": \"Population\", \"variable\":\"Doses\"},\n",
    "    title=\"Number of doses taken by different age groups\",\n",
    "    barmode=\"group\"\n",
    "    \n",
    "\n",
    ")\n",
    "fig.show()\n",
    "#fig.write_html(\"uppgift 3-4.html\", auto_open = True)"
   ]
  },
  {
   "cell_type": "code",
   "execution_count": null,
   "metadata": {},
   "outputs": [],
   "source": []
  }
 ],
 "metadata": {
  "kernelspec": {
   "display_name": "Python 3.9.13 ('Databehandling-Vineela-Nedunuri-LgAYhuxz')",
   "language": "python",
   "name": "python3"
  },
  "language_info": {
   "codemirror_mode": {
    "name": "ipython",
    "version": 3
   },
   "file_extension": ".py",
   "mimetype": "text/x-python",
   "name": "python",
   "nbconvert_exporter": "python",
   "pygments_lexer": "ipython3",
   "version": "3.9.13"
  },
  "orig_nbformat": 4,
  "vscode": {
   "interpreter": {
    "hash": "6a82f5107a13012c868f5218eea1477a67cc06b95c05a43ff8b0398a52597d16"
   }
  }
 },
 "nbformat": 4,
 "nbformat_minor": 2
}
