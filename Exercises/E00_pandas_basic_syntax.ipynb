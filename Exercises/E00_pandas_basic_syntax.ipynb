{
 "cells": [
  {
   "cell_type": "markdown",
   "metadata": {},
   "source": [
    "## 1. Cities in Sweden - create dataset (*)\n",
    "\n",
    "Create this DataFrame from scratch: \n",
    "\n",
    "|    | Kommun    |   Population |\n",
    "|---:|:----------|-------------:|\n",
    "|  0 | Malmö     |       347949 |\n",
    "|  1 | Stockholm |       975551 |\n",
    "|  2 | Uppsala   |       233839 |\n",
    "|  3 | Göteborg  |       583056 |\n",
    "\n",
    "&nbsp; a) Use your DataFrame to print out all the cities. (*)\n",
    "\n",
    "&nbsp; b) Select only the row which contains Göteborg. Do this by using the name Göteborg. (*)\n",
    "\n",
    "&nbsp; c) Sort the cities by population from largest to smallest. (*)\n",
    "\n",
    "&nbsp; d) Filter out the three largest cities. (*)\n",
    "\n",
    "&nbsp; e) The whole population in Sweden 2020 is 10379295. Use this number to create a new column in your sorted DataFrame named: Population (%). This column should be filled with percentage of the Swedish population for each city. \n",
    "\n"
   ]
  },
  {
   "cell_type": "code",
   "execution_count": null,
   "metadata": {},
   "outputs": [],
   "source": [
    "import pandas as pd\n",
    "kommun = pd.Series({0:\"Malmö\", 1:\"Stockholm\", 2:\"Uppsala\", 3:\"Göteborg\"})\n",
    "population = pd.Series({0:347949, 1:975551, 2:233839, 3:583056 })\n",
    "cities_in_sweden = pd.DataFrame({\"Kommun\": kommun, \"Population\":population})\n",
    "\n",
    "cities_in_sweden"
   ]
  },
  {
   "cell_type": "code",
   "execution_count": null,
   "metadata": {},
   "outputs": [],
   "source": []
  }
 ],
 "metadata": {
  "kernelspec": {
   "display_name": "Python 3.9.13 ('Databehandling-Vineela-Nedunuri-LgAYhuxz')",
   "language": "python",
   "name": "python3"
  },
  "language_info": {
   "codemirror_mode": {
    "name": "ipython",
    "version": 3
   },
   "file_extension": ".py",
   "mimetype": "text/x-python",
   "name": "python",
   "nbconvert_exporter": "python",
   "pygments_lexer": "ipython3",
   "version": "3.9.13"
  },
  "orig_nbformat": 4,
  "vscode": {
   "interpreter": {
    "hash": "6a82f5107a13012c868f5218eea1477a67cc06b95c05a43ff8b0398a52597d16"
   }
  }
 },
 "nbformat": 4,
 "nbformat_minor": 2
}
